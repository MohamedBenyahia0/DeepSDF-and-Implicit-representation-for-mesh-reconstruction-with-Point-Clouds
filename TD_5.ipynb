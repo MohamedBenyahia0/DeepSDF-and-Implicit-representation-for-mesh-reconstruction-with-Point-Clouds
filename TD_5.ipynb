{
  "cells": [
    {
      "cell_type": "markdown",
      "id": "36095417-3681-4329-9c25-b71583a3e3f6",
      "metadata": {
        "id": "36095417-3681-4329-9c25-b71583a3e3f6"
      },
      "source": [
        "# Implicit representation for mesh reconstruction with Point Clouds"
      ]
    },
    {
      "cell_type": "markdown",
      "id": "a5d63547-7405-43ad-8997-b28f05ece806",
      "metadata": {
        "id": "a5d63547-7405-43ad-8997-b28f05ece806"
      },
      "source": [
        "In this lab work we will reconstruct shapes from point sets with and without their normal information.\n",
        "Each network/method will output the distance or signed distance and one can extract the surface with Marching\n",
        "cubes, following these steps :\n",
        "- Use the trained network to compute the values of the signed distance on a grid\n",
        "- Extract the 0 levelset (marching_cubes method of the mcubes library)\n",
        "- Save/visualize the mesh (export_obj method of the mcubes library)"
      ]
    },
    {
      "cell_type": "code",
      "execution_count": 1,
      "id": "JVRLjO_fVErO",
      "metadata": {
        "colab": {
          "base_uri": "https://localhost:8080/"
        },
        "id": "JVRLjO_fVErO",
        "outputId": "93cfc61d-0bae-402c-9f59-e3b95b147402"
      },
      "outputs": [
        {
          "output_type": "stream",
          "name": "stdout",
          "text": [
            "Collecting potpourri3d\n",
            "  Downloading potpourri3d-1.1.0-cp310-cp310-manylinux_2_17_x86_64.manylinux2014_x86_64.whl.metadata (17 kB)\n",
            "Requirement already satisfied: numpy in /usr/local/lib/python3.10/dist-packages (from potpourri3d) (1.26.4)\n",
            "Requirement already satisfied: scipy in /usr/local/lib/python3.10/dist-packages (from potpourri3d) (1.13.1)\n",
            "Downloading potpourri3d-1.1.0-cp310-cp310-manylinux_2_17_x86_64.manylinux2014_x86_64.whl (881 kB)\n",
            "\u001b[2K   \u001b[90m━━━━━━━━━━━━━━━━━━━━━━━━━━━━━━━━━━━━━━━━\u001b[0m \u001b[32m881.1/881.1 kB\u001b[0m \u001b[31m11.4 MB/s\u001b[0m eta \u001b[36m0:00:00\u001b[0m\n",
            "\u001b[?25hInstalling collected packages: potpourri3d\n",
            "Successfully installed potpourri3d-1.1.0\n",
            "Collecting git+https://github.com/skoch9/meshplot.git\n",
            "  Cloning https://github.com/skoch9/meshplot.git to /tmp/pip-req-build-8pgchhtd\n",
            "  Running command git clone --filter=blob:none --quiet https://github.com/skoch9/meshplot.git /tmp/pip-req-build-8pgchhtd\n",
            "  Resolved https://github.com/skoch9/meshplot.git to commit 725e4a7926a5f10888f0edd1762fecf9db751c56\n",
            "  Preparing metadata (setup.py) ... \u001b[?25l\u001b[?25hdone\n",
            "Building wheels for collected packages: meshplot\n",
            "  Building wheel for meshplot (setup.py) ... \u001b[?25l\u001b[?25hdone\n",
            "  Created wheel for meshplot: filename=meshplot-0.3.3-py3-none-any.whl size=21157 sha256=e88dc1e52a235deda56f5bd0b1625ca393575d24f80e90dda14baafe621b07c4\n",
            "  Stored in directory: /tmp/pip-ephem-wheel-cache-w04fu57a/wheels/52/4c/7f/d5efb36b9456153d4d8d203257dd50d5d2550dde8311cd1d90\n",
            "Successfully built meshplot\n",
            "Installing collected packages: meshplot\n",
            "Successfully installed meshplot-0.3.3\n",
            "Collecting pythreejs\n",
            "  Downloading pythreejs-2.4.2-py3-none-any.whl.metadata (5.4 kB)\n",
            "Requirement already satisfied: ipywidgets>=7.2.1 in /usr/local/lib/python3.10/dist-packages (from pythreejs) (7.7.1)\n",
            "Collecting ipydatawidgets>=1.1.1 (from pythreejs)\n",
            "  Downloading ipydatawidgets-4.3.5-py2.py3-none-any.whl.metadata (1.4 kB)\n",
            "Requirement already satisfied: numpy in /usr/local/lib/python3.10/dist-packages (from pythreejs) (1.26.4)\n",
            "Requirement already satisfied: traitlets in /usr/local/lib/python3.10/dist-packages (from pythreejs) (5.7.1)\n",
            "Requirement already satisfied: traittypes>=0.2.0 in /usr/local/lib/python3.10/dist-packages (from ipydatawidgets>=1.1.1->pythreejs) (0.2.1)\n",
            "Requirement already satisfied: ipykernel>=4.5.1 in /usr/local/lib/python3.10/dist-packages (from ipywidgets>=7.2.1->pythreejs) (5.5.6)\n",
            "Requirement already satisfied: ipython-genutils~=0.2.0 in /usr/local/lib/python3.10/dist-packages (from ipywidgets>=7.2.1->pythreejs) (0.2.0)\n",
            "Requirement already satisfied: widgetsnbextension~=3.6.0 in /usr/local/lib/python3.10/dist-packages (from ipywidgets>=7.2.1->pythreejs) (3.6.10)\n",
            "Requirement already satisfied: ipython>=4.0.0 in /usr/local/lib/python3.10/dist-packages (from ipywidgets>=7.2.1->pythreejs) (7.34.0)\n",
            "Requirement already satisfied: jupyterlab-widgets>=1.0.0 in /usr/local/lib/python3.10/dist-packages (from ipywidgets>=7.2.1->pythreejs) (3.0.13)\n",
            "Requirement already satisfied: jupyter-client in /usr/local/lib/python3.10/dist-packages (from ipykernel>=4.5.1->ipywidgets>=7.2.1->pythreejs) (6.1.12)\n",
            "Requirement already satisfied: tornado>=4.2 in /usr/local/lib/python3.10/dist-packages (from ipykernel>=4.5.1->ipywidgets>=7.2.1->pythreejs) (6.3.3)\n",
            "Requirement already satisfied: setuptools>=18.5 in /usr/local/lib/python3.10/dist-packages (from ipython>=4.0.0->ipywidgets>=7.2.1->pythreejs) (75.1.0)\n",
            "Collecting jedi>=0.16 (from ipython>=4.0.0->ipywidgets>=7.2.1->pythreejs)\n",
            "  Downloading jedi-0.19.1-py2.py3-none-any.whl.metadata (22 kB)\n",
            "Requirement already satisfied: decorator in /usr/local/lib/python3.10/dist-packages (from ipython>=4.0.0->ipywidgets>=7.2.1->pythreejs) (4.4.2)\n",
            "Requirement already satisfied: pickleshare in /usr/local/lib/python3.10/dist-packages (from ipython>=4.0.0->ipywidgets>=7.2.1->pythreejs) (0.7.5)\n",
            "Requirement already satisfied: prompt-toolkit!=3.0.0,!=3.0.1,<3.1.0,>=2.0.0 in /usr/local/lib/python3.10/dist-packages (from ipython>=4.0.0->ipywidgets>=7.2.1->pythreejs) (3.0.48)\n",
            "Requirement already satisfied: pygments in /usr/local/lib/python3.10/dist-packages (from ipython>=4.0.0->ipywidgets>=7.2.1->pythreejs) (2.18.0)\n",
            "Requirement already satisfied: backcall in /usr/local/lib/python3.10/dist-packages (from ipython>=4.0.0->ipywidgets>=7.2.1->pythreejs) (0.2.0)\n",
            "Requirement already satisfied: matplotlib-inline in /usr/local/lib/python3.10/dist-packages (from ipython>=4.0.0->ipywidgets>=7.2.1->pythreejs) (0.1.7)\n",
            "Requirement already satisfied: pexpect>4.3 in /usr/local/lib/python3.10/dist-packages (from ipython>=4.0.0->ipywidgets>=7.2.1->pythreejs) (4.9.0)\n",
            "Requirement already satisfied: notebook>=4.4.1 in /usr/local/lib/python3.10/dist-packages (from widgetsnbextension~=3.6.0->ipywidgets>=7.2.1->pythreejs) (6.5.5)\n",
            "Requirement already satisfied: parso<0.9.0,>=0.8.3 in /usr/local/lib/python3.10/dist-packages (from jedi>=0.16->ipython>=4.0.0->ipywidgets>=7.2.1->pythreejs) (0.8.4)\n",
            "Requirement already satisfied: jinja2 in /usr/local/lib/python3.10/dist-packages (from notebook>=4.4.1->widgetsnbextension~=3.6.0->ipywidgets>=7.2.1->pythreejs) (3.1.4)\n",
            "Requirement already satisfied: pyzmq<25,>=17 in /usr/local/lib/python3.10/dist-packages (from notebook>=4.4.1->widgetsnbextension~=3.6.0->ipywidgets>=7.2.1->pythreejs) (24.0.1)\n",
            "Requirement already satisfied: argon2-cffi in /usr/local/lib/python3.10/dist-packages (from notebook>=4.4.1->widgetsnbextension~=3.6.0->ipywidgets>=7.2.1->pythreejs) (23.1.0)\n",
            "Requirement already satisfied: jupyter-core>=4.6.1 in /usr/local/lib/python3.10/dist-packages (from notebook>=4.4.1->widgetsnbextension~=3.6.0->ipywidgets>=7.2.1->pythreejs) (5.7.2)\n",
            "Requirement already satisfied: nbformat in /usr/local/lib/python3.10/dist-packages (from notebook>=4.4.1->widgetsnbextension~=3.6.0->ipywidgets>=7.2.1->pythreejs) (5.10.4)\n",
            "Requirement already satisfied: nbconvert>=5 in /usr/local/lib/python3.10/dist-packages (from notebook>=4.4.1->widgetsnbextension~=3.6.0->ipywidgets>=7.2.1->pythreejs) (7.16.4)\n",
            "Requirement already satisfied: nest-asyncio>=1.5 in /usr/local/lib/python3.10/dist-packages (from notebook>=4.4.1->widgetsnbextension~=3.6.0->ipywidgets>=7.2.1->pythreejs) (1.6.0)\n",
            "Requirement already satisfied: Send2Trash>=1.8.0 in /usr/local/lib/python3.10/dist-packages (from notebook>=4.4.1->widgetsnbextension~=3.6.0->ipywidgets>=7.2.1->pythreejs) (1.8.3)\n",
            "Requirement already satisfied: terminado>=0.8.3 in /usr/local/lib/python3.10/dist-packages (from notebook>=4.4.1->widgetsnbextension~=3.6.0->ipywidgets>=7.2.1->pythreejs) (0.18.1)\n",
            "Requirement already satisfied: prometheus-client in /usr/local/lib/python3.10/dist-packages (from notebook>=4.4.1->widgetsnbextension~=3.6.0->ipywidgets>=7.2.1->pythreejs) (0.21.0)\n",
            "Requirement already satisfied: nbclassic>=0.4.7 in /usr/local/lib/python3.10/dist-packages (from notebook>=4.4.1->widgetsnbextension~=3.6.0->ipywidgets>=7.2.1->pythreejs) (1.1.0)\n",
            "Requirement already satisfied: python-dateutil>=2.1 in /usr/local/lib/python3.10/dist-packages (from jupyter-client->ipykernel>=4.5.1->ipywidgets>=7.2.1->pythreejs) (2.8.2)\n",
            "Requirement already satisfied: ptyprocess>=0.5 in /usr/local/lib/python3.10/dist-packages (from pexpect>4.3->ipython>=4.0.0->ipywidgets>=7.2.1->pythreejs) (0.7.0)\n",
            "Requirement already satisfied: wcwidth in /usr/local/lib/python3.10/dist-packages (from prompt-toolkit!=3.0.0,!=3.0.1,<3.1.0,>=2.0.0->ipython>=4.0.0->ipywidgets>=7.2.1->pythreejs) (0.2.13)\n",
            "Requirement already satisfied: platformdirs>=2.5 in /usr/local/lib/python3.10/dist-packages (from jupyter-core>=4.6.1->notebook>=4.4.1->widgetsnbextension~=3.6.0->ipywidgets>=7.2.1->pythreejs) (4.3.6)\n",
            "Requirement already satisfied: notebook-shim>=0.2.3 in /usr/local/lib/python3.10/dist-packages (from nbclassic>=0.4.7->notebook>=4.4.1->widgetsnbextension~=3.6.0->ipywidgets>=7.2.1->pythreejs) (0.2.4)\n",
            "Requirement already satisfied: beautifulsoup4 in /usr/local/lib/python3.10/dist-packages (from nbconvert>=5->notebook>=4.4.1->widgetsnbextension~=3.6.0->ipywidgets>=7.2.1->pythreejs) (4.12.3)\n",
            "Requirement already satisfied: bleach!=5.0.0 in /usr/local/lib/python3.10/dist-packages (from nbconvert>=5->notebook>=4.4.1->widgetsnbextension~=3.6.0->ipywidgets>=7.2.1->pythreejs) (6.2.0)\n",
            "Requirement already satisfied: defusedxml in /usr/local/lib/python3.10/dist-packages (from nbconvert>=5->notebook>=4.4.1->widgetsnbextension~=3.6.0->ipywidgets>=7.2.1->pythreejs) (0.7.1)\n",
            "Requirement already satisfied: jupyterlab-pygments in /usr/local/lib/python3.10/dist-packages (from nbconvert>=5->notebook>=4.4.1->widgetsnbextension~=3.6.0->ipywidgets>=7.2.1->pythreejs) (0.3.0)\n",
            "Requirement already satisfied: markupsafe>=2.0 in /usr/local/lib/python3.10/dist-packages (from nbconvert>=5->notebook>=4.4.1->widgetsnbextension~=3.6.0->ipywidgets>=7.2.1->pythreejs) (3.0.2)\n",
            "Requirement already satisfied: mistune<4,>=2.0.3 in /usr/local/lib/python3.10/dist-packages (from nbconvert>=5->notebook>=4.4.1->widgetsnbextension~=3.6.0->ipywidgets>=7.2.1->pythreejs) (3.0.2)\n",
            "Requirement already satisfied: nbclient>=0.5.0 in /usr/local/lib/python3.10/dist-packages (from nbconvert>=5->notebook>=4.4.1->widgetsnbextension~=3.6.0->ipywidgets>=7.2.1->pythreejs) (0.10.0)\n",
            "Requirement already satisfied: packaging in /usr/local/lib/python3.10/dist-packages (from nbconvert>=5->notebook>=4.4.1->widgetsnbextension~=3.6.0->ipywidgets>=7.2.1->pythreejs) (24.1)\n",
            "Requirement already satisfied: pandocfilters>=1.4.1 in /usr/local/lib/python3.10/dist-packages (from nbconvert>=5->notebook>=4.4.1->widgetsnbextension~=3.6.0->ipywidgets>=7.2.1->pythreejs) (1.5.1)\n",
            "Requirement already satisfied: tinycss2 in /usr/local/lib/python3.10/dist-packages (from nbconvert>=5->notebook>=4.4.1->widgetsnbextension~=3.6.0->ipywidgets>=7.2.1->pythreejs) (1.4.0)\n",
            "Requirement already satisfied: fastjsonschema>=2.15 in /usr/local/lib/python3.10/dist-packages (from nbformat->notebook>=4.4.1->widgetsnbextension~=3.6.0->ipywidgets>=7.2.1->pythreejs) (2.20.0)\n",
            "Requirement already satisfied: jsonschema>=2.6 in /usr/local/lib/python3.10/dist-packages (from nbformat->notebook>=4.4.1->widgetsnbextension~=3.6.0->ipywidgets>=7.2.1->pythreejs) (4.23.0)\n",
            "Requirement already satisfied: six>=1.5 in /usr/local/lib/python3.10/dist-packages (from python-dateutil>=2.1->jupyter-client->ipykernel>=4.5.1->ipywidgets>=7.2.1->pythreejs) (1.16.0)\n",
            "Requirement already satisfied: argon2-cffi-bindings in /usr/local/lib/python3.10/dist-packages (from argon2-cffi->notebook>=4.4.1->widgetsnbextension~=3.6.0->ipywidgets>=7.2.1->pythreejs) (21.2.0)\n",
            "Requirement already satisfied: webencodings in /usr/local/lib/python3.10/dist-packages (from bleach!=5.0.0->nbconvert>=5->notebook>=4.4.1->widgetsnbextension~=3.6.0->ipywidgets>=7.2.1->pythreejs) (0.5.1)\n",
            "Requirement already satisfied: attrs>=22.2.0 in /usr/local/lib/python3.10/dist-packages (from jsonschema>=2.6->nbformat->notebook>=4.4.1->widgetsnbextension~=3.6.0->ipywidgets>=7.2.1->pythreejs) (24.2.0)\n",
            "Requirement already satisfied: jsonschema-specifications>=2023.03.6 in /usr/local/lib/python3.10/dist-packages (from jsonschema>=2.6->nbformat->notebook>=4.4.1->widgetsnbextension~=3.6.0->ipywidgets>=7.2.1->pythreejs) (2024.10.1)\n",
            "Requirement already satisfied: referencing>=0.28.4 in /usr/local/lib/python3.10/dist-packages (from jsonschema>=2.6->nbformat->notebook>=4.4.1->widgetsnbextension~=3.6.0->ipywidgets>=7.2.1->pythreejs) (0.35.1)\n",
            "Requirement already satisfied: rpds-py>=0.7.1 in /usr/local/lib/python3.10/dist-packages (from jsonschema>=2.6->nbformat->notebook>=4.4.1->widgetsnbextension~=3.6.0->ipywidgets>=7.2.1->pythreejs) (0.20.0)\n",
            "Requirement already satisfied: jupyter-server<3,>=1.8 in /usr/local/lib/python3.10/dist-packages (from notebook-shim>=0.2.3->nbclassic>=0.4.7->notebook>=4.4.1->widgetsnbextension~=3.6.0->ipywidgets>=7.2.1->pythreejs) (1.24.0)\n",
            "Requirement already satisfied: cffi>=1.0.1 in /usr/local/lib/python3.10/dist-packages (from argon2-cffi-bindings->argon2-cffi->notebook>=4.4.1->widgetsnbextension~=3.6.0->ipywidgets>=7.2.1->pythreejs) (1.17.1)\n",
            "Requirement already satisfied: soupsieve>1.2 in /usr/local/lib/python3.10/dist-packages (from beautifulsoup4->nbconvert>=5->notebook>=4.4.1->widgetsnbextension~=3.6.0->ipywidgets>=7.2.1->pythreejs) (2.6)\n",
            "Requirement already satisfied: pycparser in /usr/local/lib/python3.10/dist-packages (from cffi>=1.0.1->argon2-cffi-bindings->argon2-cffi->notebook>=4.4.1->widgetsnbextension~=3.6.0->ipywidgets>=7.2.1->pythreejs) (2.22)\n",
            "Requirement already satisfied: anyio<4,>=3.1.0 in /usr/local/lib/python3.10/dist-packages (from jupyter-server<3,>=1.8->notebook-shim>=0.2.3->nbclassic>=0.4.7->notebook>=4.4.1->widgetsnbextension~=3.6.0->ipywidgets>=7.2.1->pythreejs) (3.7.1)\n",
            "Requirement already satisfied: websocket-client in /usr/local/lib/python3.10/dist-packages (from jupyter-server<3,>=1.8->notebook-shim>=0.2.3->nbclassic>=0.4.7->notebook>=4.4.1->widgetsnbextension~=3.6.0->ipywidgets>=7.2.1->pythreejs) (1.8.0)\n",
            "Requirement already satisfied: idna>=2.8 in /usr/local/lib/python3.10/dist-packages (from anyio<4,>=3.1.0->jupyter-server<3,>=1.8->notebook-shim>=0.2.3->nbclassic>=0.4.7->notebook>=4.4.1->widgetsnbextension~=3.6.0->ipywidgets>=7.2.1->pythreejs) (3.10)\n",
            "Requirement already satisfied: sniffio>=1.1 in /usr/local/lib/python3.10/dist-packages (from anyio<4,>=3.1.0->jupyter-server<3,>=1.8->notebook-shim>=0.2.3->nbclassic>=0.4.7->notebook>=4.4.1->widgetsnbextension~=3.6.0->ipywidgets>=7.2.1->pythreejs) (1.3.1)\n",
            "Requirement already satisfied: exceptiongroup in /usr/local/lib/python3.10/dist-packages (from anyio<4,>=3.1.0->jupyter-server<3,>=1.8->notebook-shim>=0.2.3->nbclassic>=0.4.7->notebook>=4.4.1->widgetsnbextension~=3.6.0->ipywidgets>=7.2.1->pythreejs) (1.2.2)\n",
            "Downloading pythreejs-2.4.2-py3-none-any.whl (3.4 MB)\n",
            "\u001b[2K   \u001b[90m━━━━━━━━━━━━━━━━━━━━━━━━━━━━━━━━━━━━━━━━\u001b[0m \u001b[32m3.4/3.4 MB\u001b[0m \u001b[31m50.6 MB/s\u001b[0m eta \u001b[36m0:00:00\u001b[0m\n",
            "\u001b[?25hDownloading ipydatawidgets-4.3.5-py2.py3-none-any.whl (271 kB)\n",
            "\u001b[2K   \u001b[90m━━━━━━━━━━━━━━━━━━━━━━━━━━━━━━━━━━━━━━━━\u001b[0m \u001b[32m271.7/271.7 kB\u001b[0m \u001b[31m24.6 MB/s\u001b[0m eta \u001b[36m0:00:00\u001b[0m\n",
            "\u001b[?25hDownloading jedi-0.19.1-py2.py3-none-any.whl (1.6 MB)\n",
            "\u001b[2K   \u001b[90m━━━━━━━━━━━━━━━━━━━━━━━━━━━━━━━━━━━━━━━━\u001b[0m \u001b[32m1.6/1.6 MB\u001b[0m \u001b[31m73.2 MB/s\u001b[0m eta \u001b[36m0:00:00\u001b[0m\n",
            "\u001b[?25hInstalling collected packages: jedi, ipydatawidgets, pythreejs\n",
            "Successfully installed ipydatawidgets-4.3.5 jedi-0.19.1 pythreejs-2.4.2\n",
            "Collecting pymcubes\n",
            "  Downloading PyMCubes-0.1.6-cp310-cp310-manylinux_2_17_x86_64.manylinux2014_x86_64.whl.metadata (868 bytes)\n",
            "Requirement already satisfied: numpy>=1.21 in /usr/local/lib/python3.10/dist-packages (from pymcubes) (1.26.4)\n",
            "Requirement already satisfied: scipy>=1.0.0 in /usr/local/lib/python3.10/dist-packages (from pymcubes) (1.13.1)\n",
            "Downloading PyMCubes-0.1.6-cp310-cp310-manylinux_2_17_x86_64.manylinux2014_x86_64.whl (318 kB)\n",
            "\u001b[2K   \u001b[90m━━━━━━━━━━━━━━━━━━━━━━━━━━━━━━━━━━━━━━━━\u001b[0m \u001b[32m318.4/318.4 kB\u001b[0m \u001b[31m6.7 MB/s\u001b[0m eta \u001b[36m0:00:00\u001b[0m\n",
            "\u001b[?25hInstalling collected packages: pymcubes\n",
            "Successfully installed pymcubes-0.1.6\n"
          ]
        }
      ],
      "source": [
        "!pip install potpourri3d\n",
        "!pip install git+https://github.com/skoch9/meshplot.git\n",
        "!pip install pythreejs\n",
        "!pip install pymcubes"
      ]
    },
    {
      "cell_type": "code",
      "execution_count": 2,
      "id": "MLP07KHSWRb4",
      "metadata": {
        "colab": {
          "base_uri": "https://localhost:8080/"
        },
        "id": "MLP07KHSWRb4",
        "outputId": "7a26f3ee-af42-48d4-8299-43a8ea0970aa"
      },
      "outputs": [
        {
          "output_type": "stream",
          "name": "stdout",
          "text": [
            "--2024-11-10 11:05:29--  https://www.lix.polytechnique.fr/~pierson/cours/tp_sdf_material.zip\n",
            "Resolving www.lix.polytechnique.fr (www.lix.polytechnique.fr)... 193.55.176.29\n",
            "Connecting to www.lix.polytechnique.fr (www.lix.polytechnique.fr)|193.55.176.29|:443... connected.\n",
            "HTTP request sent, awaiting response... 200 OK\n",
            "Length: 11946957 (11M) [application/zip]\n",
            "Saving to: ‘tp_sdf_material.zip’\n",
            "\n",
            "tp_sdf_material.zip 100%[===================>]  11.39M  7.01MB/s    in 1.6s    \n",
            "\n",
            "2024-11-10 11:05:32 (7.01 MB/s) - ‘tp_sdf_material.zip’ saved [11946957/11946957]\n",
            "\n"
          ]
        }
      ],
      "source": [
        "!wget https://www.lix.polytechnique.fr/~pierson/cours/tp_sdf_material.zip"
      ]
    },
    {
      "cell_type": "code",
      "execution_count": 3,
      "id": "KWAxPUK2VLj0",
      "metadata": {
        "colab": {
          "base_uri": "https://localhost:8080/"
        },
        "id": "KWAxPUK2VLj0",
        "outputId": "4fe6e7cb-4a51-4194-8c58-ce5319fc18ad"
      },
      "outputs": [
        {
          "output_type": "stream",
          "name": "stdout",
          "text": [
            "Archive:  tp_sdf_material.zip\n",
            "   creating: img/\n",
            "  inflating: img/TD5_sdf.png         \n",
            "   creating: mesh_utils/\n",
            "  inflating: mesh_utils/.DS_Store    \n",
            "  inflating: mesh_utils/__init__.py  \n",
            "  inflating: mesh_utils/mesh.py      \n",
            "  inflating: mesh_utils/geometry.py  \n",
            "  inflating: mesh_utils/laplacian.py  \n",
            "  inflating: mesh_utils/file_utils.py  \n",
            "   creating: plot_utils/\n",
            "  inflating: plot_utils/.DS_Store    \n",
            "  inflating: plot_utils/__init__.py  \n",
            "  inflating: plot_utils/utils.py     \n",
            "  inflating: plot_utils/plot.py      \n",
            "   creating: plot_utils/.ipynb_checkpoints/\n",
            "  inflating: plot_utils/.ipynb_checkpoints/__init__-checkpoint.py  \n",
            "  inflating: plot_utils/.ipynb_checkpoints/plot-checkpoint.py  \n",
            "  inflating: armadillo_sub.xyz       \n",
            "armadillo_sub.xyz  img\tmesh_utils  plot_utils\tsample_data  tp_sdf_material.zip\n"
          ]
        }
      ],
      "source": [
        "!unzip -o tp_sdf_material.zip\n",
        "!ls"
      ]
    },
    {
      "cell_type": "code",
      "execution_count": 4,
      "id": "e0c895ab-6aac-49b9-bf78-026b2c1b4740",
      "metadata": {
        "id": "e0c895ab-6aac-49b9-bf78-026b2c1b4740"
      },
      "outputs": [],
      "source": [
        "from google.colab import output\n",
        "output.enable_custom_widget_manager()\n",
        "\n",
        "import numpy as np\n",
        "import mcubes\n",
        "import plot_utils as plu\n",
        "from mesh_utils.mesh import TriMesh\n",
        "import torch\n",
        "import torch.nn as nn\n",
        "import torch.nn.functional as F\n",
        "from tqdm.auto import tqdm\n",
        "import matplotlib.pyplot as plt"
      ]
    },
    {
      "cell_type": "markdown",
      "id": "adb369d0",
      "metadata": {
        "id": "adb369d0"
      },
      "source": [
        "# Traditional reconstruction approach\n",
        "This method is a \"historical\" method (<a href=\"https://dl.acm.org/doi/abs/10.1145/133994.134011\">link</a>) for reconstructing a surface from a set of points. It consists in taking an oriented point cloud $(x_i , n_i )$, and estimating for any arbitrary point $x$ in the ambient space a signed distance function as : $u(x) = ± min_i ∥x_i − x∥$\n",
        "\n",
        "The sign is given by the sign of the scalar product $\\langle x - x_i, n_i \\rangle$.\n",
        "\n",
        "The original method starts with unoriented point clouds and devises a clever way to estimate the normal direction and their orientation. Here, for simplicity, we start with oriented points."
      ]
    },
    {
      "cell_type": "code",
      "execution_count": 5,
      "id": "545ae05c-32fb-4d95-9053-28472362e908",
      "metadata": {
        "id": "545ae05c-32fb-4d95-9053-28472362e908"
      },
      "outputs": [],
      "source": [
        "def get_pc(path):\n",
        "    ## Load the oriented point set. You can use the function np.loadtxt\n",
        "    data=np.loadtxt(path)\n",
        "    point_cloud=data[:,:3]\n",
        "    normals=data[:,3:]\n",
        "\n",
        "\n",
        "    return point_cloud, normals"
      ]
    },
    {
      "cell_type": "code",
      "execution_count": 6,
      "id": "96a97e2b-5b8b-4b42-b1cb-69d46aa13a46",
      "metadata": {
        "id": "96a97e2b-5b8b-4b42-b1cb-69d46aa13a46"
      },
      "outputs": [],
      "source": [
        "pc, normals = get_pc(\"armadillo_sub.xyz\")"
      ]
    },
    {
      "cell_type": "code",
      "execution_count": 8,
      "id": "c69237d8-6698-4181-8ca8-bd59348dbd93",
      "metadata": {
        "colab": {
          "base_uri": "https://localhost:8080/",
          "height": 1000,
          "referenced_widgets": [
            "3ac47b89efe8400681de32424a8249ac",
            "f88cc758786548d2a109692d0969421b",
            "39170cfd706a459d99c9dc521e331954",
            "0279e9570cc343e3bc909591ab37d5e0",
            "bdb3592fba86450cb9e59595c0854016",
            "6938b2fcb29641afa62f18041a23ab53",
            "46028964a87d4c46a71c7e3113eef64c",
            "9a3004f0285e41eb9831e64cde1867bc",
            "d43ddb3a543d4c65a8cfe874bb47e4e8",
            "012cf1eeeeef49b0b65f94bbb47cca70",
            "fee30aee3dbc4ecaa1e85fd6d3dc4c75",
            "e7c076bb1e2945b9a9340edb6d923525",
            "1fdc99a1f81b4c6891fbbf325518429b",
            "2dfa5dfd424e480685bcb8950f71a7a4"
          ]
        },
        "id": "c69237d8-6698-4181-8ca8-bd59348dbd93",
        "outputId": "8f2524b9-8733-43aa-de6c-e446230e979b"
      },
      "outputs": [
        {
          "output_type": "display_data",
          "data": {
            "text/plain": [
              "Renderer(camera=PerspectiveCamera(children=(DirectionalLight(color='white', intensity=0.6, position=(0.0216503…"
            ],
            "application/vnd.jupyter.widget-view+json": {
              "version_major": 2,
              "version_minor": 0,
              "model_id": "3ac47b89efe8400681de32424a8249ac"
            }
          },
          "metadata": {
            "application/vnd.jupyter.widget-view+json": {
              "colab": {
                "custom_widget_manager": {
                  "url": "https://ssl.gstatic.com/colaboratory-static/widgets/colab-cdn-widget-manager/2b70e893a8ba7c0f/manager.min.js"
                }
              }
            }
          }
        },
        {
          "output_type": "execute_result",
          "data": {
            "text/plain": [
              "<meshplot.Viewer.Viewer at 0x7faed90a6470>"
            ]
          },
          "metadata": {},
          "execution_count": 8
        },
        {
          "output_type": "error",
          "ename": "TraitError",
          "evalue": "The 'target' trait of a DirectionalLight instance expected an Uninitialized or an Object3D, not the str 'IPY_MODEL_2210da81-6a50-4a79-921c-26ce833209c1'.",
          "traceback": [
            "\u001b[0;31m---------------------------------------------------------------------------\u001b[0m",
            "\u001b[0;31mTraitError\u001b[0m                                Traceback (most recent call last)",
            "\u001b[0;32m/usr/local/lib/python3.10/dist-packages/ipywidgets/widgets/widget.py\u001b[0m in \u001b[0;36m_handle_msg\u001b[0;34m(self, msg)\u001b[0m\n\u001b[1;32m    754\u001b[0m                 \u001b[0;32mif\u001b[0m \u001b[0;34m'buffer_paths'\u001b[0m \u001b[0;32min\u001b[0m \u001b[0mdata\u001b[0m\u001b[0;34m:\u001b[0m\u001b[0;34m\u001b[0m\u001b[0;34m\u001b[0m\u001b[0m\n\u001b[1;32m    755\u001b[0m                     \u001b[0m_put_buffers\u001b[0m\u001b[0;34m(\u001b[0m\u001b[0mstate\u001b[0m\u001b[0;34m,\u001b[0m \u001b[0mdata\u001b[0m\u001b[0;34m[\u001b[0m\u001b[0;34m'buffer_paths'\u001b[0m\u001b[0;34m]\u001b[0m\u001b[0;34m,\u001b[0m \u001b[0mmsg\u001b[0m\u001b[0;34m[\u001b[0m\u001b[0;34m'buffers'\u001b[0m\u001b[0;34m]\u001b[0m\u001b[0;34m)\u001b[0m\u001b[0;34m\u001b[0m\u001b[0;34m\u001b[0m\u001b[0m\n\u001b[0;32m--> 756\u001b[0;31m                 \u001b[0mself\u001b[0m\u001b[0;34m.\u001b[0m\u001b[0mset_state\u001b[0m\u001b[0;34m(\u001b[0m\u001b[0mstate\u001b[0m\u001b[0;34m)\u001b[0m\u001b[0;34m\u001b[0m\u001b[0;34m\u001b[0m\u001b[0m\n\u001b[0m\u001b[1;32m    757\u001b[0m \u001b[0;34m\u001b[0m\u001b[0m\n\u001b[1;32m    758\u001b[0m         \u001b[0;31m# Handle a state request.\u001b[0m\u001b[0;34m\u001b[0m\u001b[0;34m\u001b[0m\u001b[0m\n",
            "\u001b[0;32m/usr/local/lib/python3.10/dist-packages/ipywidgets/widgets/widget.py\u001b[0m in \u001b[0;36mset_state\u001b[0;34m(self, sync_data)\u001b[0m\n\u001b[1;32m    623\u001b[0m                     from_json = self.trait_metadata(name, 'from_json',\n\u001b[1;32m    624\u001b[0m                                                     self._trait_from_json)\n\u001b[0;32m--> 625\u001b[0;31m                     \u001b[0mself\u001b[0m\u001b[0;34m.\u001b[0m\u001b[0mset_trait\u001b[0m\u001b[0;34m(\u001b[0m\u001b[0mname\u001b[0m\u001b[0;34m,\u001b[0m \u001b[0mfrom_json\u001b[0m\u001b[0;34m(\u001b[0m\u001b[0msync_data\u001b[0m\u001b[0;34m[\u001b[0m\u001b[0mname\u001b[0m\u001b[0;34m]\u001b[0m\u001b[0;34m,\u001b[0m \u001b[0mself\u001b[0m\u001b[0;34m)\u001b[0m\u001b[0;34m)\u001b[0m\u001b[0;34m\u001b[0m\u001b[0;34m\u001b[0m\u001b[0m\n\u001b[0m\u001b[1;32m    626\u001b[0m \u001b[0;34m\u001b[0m\u001b[0m\n\u001b[1;32m    627\u001b[0m     \u001b[0;32mdef\u001b[0m \u001b[0msend\u001b[0m\u001b[0;34m(\u001b[0m\u001b[0mself\u001b[0m\u001b[0;34m,\u001b[0m \u001b[0mcontent\u001b[0m\u001b[0;34m,\u001b[0m \u001b[0mbuffers\u001b[0m\u001b[0;34m=\u001b[0m\u001b[0;32mNone\u001b[0m\u001b[0;34m)\u001b[0m\u001b[0;34m:\u001b[0m\u001b[0;34m\u001b[0m\u001b[0;34m\u001b[0m\u001b[0m\n",
            "\u001b[0;32m/usr/local/lib/python3.10/dist-packages/traitlets/traitlets.py\u001b[0m in \u001b[0;36mset_trait\u001b[0;34m(self, name, value)\u001b[0m\n\u001b[1;32m   1736\u001b[0m             \u001b[0;32mraise\u001b[0m \u001b[0mTraitError\u001b[0m\u001b[0;34m(\u001b[0m\u001b[0;34mf\"Class {cls.__name__} does not have a trait named {name}\"\u001b[0m\u001b[0;34m)\u001b[0m\u001b[0;34m\u001b[0m\u001b[0;34m\u001b[0m\u001b[0m\n\u001b[1;32m   1737\u001b[0m         \u001b[0;32melse\u001b[0m\u001b[0;34m:\u001b[0m\u001b[0;34m\u001b[0m\u001b[0;34m\u001b[0m\u001b[0m\n\u001b[0;32m-> 1738\u001b[0;31m             \u001b[0mgetattr\u001b[0m\u001b[0;34m(\u001b[0m\u001b[0mcls\u001b[0m\u001b[0;34m,\u001b[0m \u001b[0mname\u001b[0m\u001b[0;34m)\u001b[0m\u001b[0;34m.\u001b[0m\u001b[0mset\u001b[0m\u001b[0;34m(\u001b[0m\u001b[0mself\u001b[0m\u001b[0;34m,\u001b[0m \u001b[0mvalue\u001b[0m\u001b[0;34m)\u001b[0m\u001b[0;34m\u001b[0m\u001b[0;34m\u001b[0m\u001b[0m\n\u001b[0m\u001b[1;32m   1739\u001b[0m \u001b[0;34m\u001b[0m\u001b[0m\n\u001b[1;32m   1740\u001b[0m     \u001b[0;34m@\u001b[0m\u001b[0mclassmethod\u001b[0m\u001b[0;34m\u001b[0m\u001b[0;34m\u001b[0m\u001b[0m\n",
            "\u001b[0;32m/usr/local/lib/python3.10/dist-packages/traitlets/traitlets.py\u001b[0m in \u001b[0;36mset\u001b[0;34m(self, obj, value)\u001b[0m\n\u001b[1;32m    701\u001b[0m \u001b[0;34m\u001b[0m\u001b[0m\n\u001b[1;32m    702\u001b[0m     \u001b[0;32mdef\u001b[0m \u001b[0mset\u001b[0m\u001b[0;34m(\u001b[0m\u001b[0mself\u001b[0m\u001b[0;34m,\u001b[0m \u001b[0mobj\u001b[0m\u001b[0;34m,\u001b[0m \u001b[0mvalue\u001b[0m\u001b[0;34m)\u001b[0m\u001b[0;34m:\u001b[0m\u001b[0;34m\u001b[0m\u001b[0;34m\u001b[0m\u001b[0m\n\u001b[0;32m--> 703\u001b[0;31m         \u001b[0mnew_value\u001b[0m \u001b[0;34m=\u001b[0m \u001b[0mself\u001b[0m\u001b[0;34m.\u001b[0m\u001b[0m_validate\u001b[0m\u001b[0;34m(\u001b[0m\u001b[0mobj\u001b[0m\u001b[0;34m,\u001b[0m \u001b[0mvalue\u001b[0m\u001b[0;34m)\u001b[0m\u001b[0;34m\u001b[0m\u001b[0;34m\u001b[0m\u001b[0m\n\u001b[0m\u001b[1;32m    704\u001b[0m         \u001b[0;32mtry\u001b[0m\u001b[0;34m:\u001b[0m\u001b[0;34m\u001b[0m\u001b[0;34m\u001b[0m\u001b[0m\n\u001b[1;32m    705\u001b[0m             \u001b[0mold_value\u001b[0m \u001b[0;34m=\u001b[0m \u001b[0mobj\u001b[0m\u001b[0;34m.\u001b[0m\u001b[0m_trait_values\u001b[0m\u001b[0;34m[\u001b[0m\u001b[0mself\u001b[0m\u001b[0;34m.\u001b[0m\u001b[0mname\u001b[0m\u001b[0;34m]\u001b[0m\u001b[0;34m\u001b[0m\u001b[0;34m\u001b[0m\u001b[0m\n",
            "\u001b[0;32m/usr/local/lib/python3.10/dist-packages/traitlets/traitlets.py\u001b[0m in \u001b[0;36m_validate\u001b[0;34m(self, obj, value)\u001b[0m\n\u001b[1;32m    733\u001b[0m             \u001b[0;32mreturn\u001b[0m \u001b[0mvalue\u001b[0m\u001b[0;34m\u001b[0m\u001b[0;34m\u001b[0m\u001b[0m\n\u001b[1;32m    734\u001b[0m         \u001b[0;32mif\u001b[0m \u001b[0mhasattr\u001b[0m\u001b[0;34m(\u001b[0m\u001b[0mself\u001b[0m\u001b[0;34m,\u001b[0m \u001b[0;34m\"validate\"\u001b[0m\u001b[0;34m)\u001b[0m\u001b[0;34m:\u001b[0m\u001b[0;34m\u001b[0m\u001b[0;34m\u001b[0m\u001b[0m\n\u001b[0;32m--> 735\u001b[0;31m             \u001b[0mvalue\u001b[0m \u001b[0;34m=\u001b[0m \u001b[0mself\u001b[0m\u001b[0;34m.\u001b[0m\u001b[0mvalidate\u001b[0m\u001b[0;34m(\u001b[0m\u001b[0mobj\u001b[0m\u001b[0;34m,\u001b[0m \u001b[0mvalue\u001b[0m\u001b[0;34m)\u001b[0m\u001b[0;34m\u001b[0m\u001b[0;34m\u001b[0m\u001b[0m\n\u001b[0m\u001b[1;32m    736\u001b[0m         \u001b[0;32mif\u001b[0m \u001b[0mobj\u001b[0m\u001b[0;34m.\u001b[0m\u001b[0m_cross_validation_lock\u001b[0m \u001b[0;32mis\u001b[0m \u001b[0;32mFalse\u001b[0m\u001b[0;34m:\u001b[0m\u001b[0;34m\u001b[0m\u001b[0;34m\u001b[0m\u001b[0m\n\u001b[1;32m    737\u001b[0m             \u001b[0mvalue\u001b[0m \u001b[0;34m=\u001b[0m \u001b[0mself\u001b[0m\u001b[0;34m.\u001b[0m\u001b[0m_cross_validate\u001b[0m\u001b[0;34m(\u001b[0m\u001b[0mobj\u001b[0m\u001b[0;34m,\u001b[0m \u001b[0mvalue\u001b[0m\u001b[0;34m)\u001b[0m\u001b[0;34m\u001b[0m\u001b[0;34m\u001b[0m\u001b[0m\n",
            "\u001b[0;32m/usr/local/lib/python3.10/dist-packages/traitlets/traitlets.py\u001b[0m in \u001b[0;36mvalidate\u001b[0;34m(self, obj, value)\u001b[0m\n\u001b[1;32m   2300\u001b[0m                 \u001b[0;32mexcept\u001b[0m \u001b[0mTraitError\u001b[0m\u001b[0;34m:\u001b[0m\u001b[0;34m\u001b[0m\u001b[0;34m\u001b[0m\u001b[0m\n\u001b[1;32m   2301\u001b[0m                     \u001b[0;32mcontinue\u001b[0m\u001b[0;34m\u001b[0m\u001b[0;34m\u001b[0m\u001b[0m\n\u001b[0;32m-> 2302\u001b[0;31m         \u001b[0mself\u001b[0m\u001b[0;34m.\u001b[0m\u001b[0merror\u001b[0m\u001b[0;34m(\u001b[0m\u001b[0mobj\u001b[0m\u001b[0;34m,\u001b[0m \u001b[0mvalue\u001b[0m\u001b[0;34m)\u001b[0m\u001b[0;34m\u001b[0m\u001b[0;34m\u001b[0m\u001b[0m\n\u001b[0m\u001b[1;32m   2303\u001b[0m \u001b[0;34m\u001b[0m\u001b[0m\n\u001b[1;32m   2304\u001b[0m     \u001b[0;32mdef\u001b[0m \u001b[0m__or__\u001b[0m\u001b[0;34m(\u001b[0m\u001b[0mself\u001b[0m\u001b[0;34m,\u001b[0m \u001b[0mother\u001b[0m\u001b[0;34m)\u001b[0m\u001b[0;34m:\u001b[0m\u001b[0;34m\u001b[0m\u001b[0;34m\u001b[0m\u001b[0m\n",
            "\u001b[0;32m/usr/local/lib/python3.10/dist-packages/traitlets/traitlets.py\u001b[0m in \u001b[0;36merror\u001b[0;34m(self, obj, value, error, info)\u001b[0m\n\u001b[1;32m    839\u001b[0m                         \u001b[0mdescribe\u001b[0m\u001b[0;34m(\u001b[0m\u001b[0;34m\"the\"\u001b[0m\u001b[0;34m,\u001b[0m \u001b[0mvalue\u001b[0m\u001b[0;34m)\u001b[0m\u001b[0;34m,\u001b[0m\u001b[0;34m\u001b[0m\u001b[0;34m\u001b[0m\u001b[0m\n\u001b[1;32m    840\u001b[0m                     )\n\u001b[0;32m--> 841\u001b[0;31m                 \u001b[0;32mraise\u001b[0m \u001b[0mTraitError\u001b[0m\u001b[0;34m(\u001b[0m\u001b[0me\u001b[0m\u001b[0;34m)\u001b[0m\u001b[0;34m\u001b[0m\u001b[0;34m\u001b[0m\u001b[0m\n\u001b[0m\u001b[1;32m    842\u001b[0m \u001b[0;34m\u001b[0m\u001b[0m\n\u001b[1;32m    843\u001b[0m     \u001b[0;32mdef\u001b[0m \u001b[0mget_metadata\u001b[0m\u001b[0;34m(\u001b[0m\u001b[0mself\u001b[0m\u001b[0;34m,\u001b[0m \u001b[0mkey\u001b[0m\u001b[0;34m,\u001b[0m \u001b[0mdefault\u001b[0m\u001b[0;34m=\u001b[0m\u001b[0;32mNone\u001b[0m\u001b[0;34m)\u001b[0m\u001b[0;34m:\u001b[0m\u001b[0;34m\u001b[0m\u001b[0;34m\u001b[0m\u001b[0m\n",
            "\u001b[0;31mTraitError\u001b[0m: The 'target' trait of a DirectionalLight instance expected an Uninitialized or an Object3D, not the str 'IPY_MODEL_2210da81-6a50-4a79-921c-26ce833209c1'."
          ]
        }
      ],
      "source": [
        "plu.plot_pc(pc, point_size=2,cmap=normals) #You can put cmap = normals to see normals orientation as color"
      ]
    },
    {
      "cell_type": "markdown",
      "id": "1d672be2-d96c-4a6f-a3f6-ea4d8d0ddfba",
      "metadata": {
        "id": "1d672be2-d96c-4a6f-a3f6-ea4d8d0ddfba"
      },
      "source": [
        "The second step is to compute the sdf based on the set of points. You will first need to build a grid of points (using e.g. np.meshgrid), and then to compute the sdf to the set of points. Don't forget to adapt the limits of the grid to the size of the point cloud! For the distance, use an efficient way to compute the distance (look at solutions of previous labs to get an idea)."
      ]
    },
    {
      "cell_type": "code",
      "execution_count": 9,
      "id": "7b34c02e-3384-4b88-beb6-4a05fc42b369",
      "metadata": {
        "id": "7b34c02e-3384-4b88-beb6-4a05fc42b369"
      },
      "outputs": [],
      "source": [
        "from scipy import spatial\n",
        "from scipy.spatial import cKDTree\n",
        "import numpy as np\n",
        "class KNNSearch():\n",
        "    DTYPE = np.float32\n",
        "    NJOBS = 4\n",
        "\n",
        "    def __init__(self, data):\n",
        "        self.data = np.asarray(data, dtype=self.DTYPE)\n",
        "        self.kdtree = cKDTree(self.data)\n",
        "\n",
        "    def query(self, kpts, k, return_dists=False):\n",
        "        kpts = np.asarray(kpts, dtype=self.DTYPE)\n",
        "        nndists, nnindices = self.kdtree.query(kpts, k=k, workers=self.NJOBS)\n",
        "        if return_dists:\n",
        "            return nnindices, nndists\n",
        "        else:\n",
        "            return nnindices\n",
        "\n",
        "    def query_ball(self, kpt, radius):\n",
        "        kpt = np.asarray(kpt, dtype=self.DTYPE)\n",
        "        assert kpt.ndim == 1\n",
        "        nnindices = self.kdtree.query_ball_point(kpt, radius, n_jobs=self.NJOBS)\n",
        "        return nnindices\n",
        "\n",
        "def compute_nearest_neighbor(X, Y):\n",
        "    \"\"\"\n",
        "    Compute the nearest neighbor in Y for each point in X\n",
        "\n",
        "    Parameters:\n",
        "    -----------\n",
        "    X : (n, d) array of points\n",
        "    Y : (m, d) array of points\n",
        "\n",
        "    Returns:\n",
        "    --------\n",
        "    nearst_neighbor : (n,) array of indices of the nearest neighbor in Y for X\n",
        "    \"\"\"\n",
        "    # TODO DO NOT USE LOOPS\n",
        "    querier = KNNSearch(X)\n",
        "    nn_indices = querier.query(Y, 1)\n",
        "    return nn_indices\n",
        "\n",
        "def compute_sdf(point_cloud, normals, points_query):\n",
        "    ## Compute SDF on points_query from the shape defined by point_cloud and normals\n",
        "    sdf=np.zeros(len(points_query))\n",
        "    ind=compute_nearest_neighbor(point_cloud,points_query)\n",
        "    nearest_normals=normals[ind]\n",
        "    nearest_points=point_cloud[ind]\n",
        "    vectors=points_query-nearest_points\n",
        "    vectors=torch.from_numpy(vectors)\n",
        "    nearest_normals=torch.from_numpy(nearest_normals)\n",
        "    signs=torch.sign(torch.einsum('ij,ij->i', vectors, nearest_normals))\n",
        "    distances = np.linalg.norm(points_query - nearest_points, axis=1)\n",
        "    distances=torch.from_numpy(distances)\n",
        "    sdf=distances*signs\n",
        "    return sdf\n",
        "\n",
        "def compute_sdf_grid(point_cloud, normals, grid_size=40):\n",
        "    ## Compute SDF on a XYZ grid. First generate the grid (it has to enclose the point cloud)\n",
        "    ## Then compute the sdf\n",
        "    #compute the enclosing grid\n",
        "    min_bounds = point_cloud.min(axis=0)\n",
        "    max_bounds = point_cloud.max(axis=0)\n",
        "    x = np.linspace(min_bounds[0], max_bounds[0], grid_size)\n",
        "    y = np.linspace(min_bounds[1], max_bounds[1], grid_size)\n",
        "    z = np.linspace(min_bounds[2], max_bounds[2], grid_size)\n",
        "    grid_x, grid_y, grid_z = np.meshgrid(x, y, z, indexing=\"ij\")\n",
        "    grid_points = np.stack([grid_x, grid_y, grid_z], axis=-1).reshape(-1, 3)  # Shape: (grid_size**3, 3)\n",
        "    sdf=compute_sdf(point_cloud, normals, grid_points)\n",
        "    sdf=sdf.numpy()\n",
        "    sdf=sdf.reshape((grid_size,grid_size,grid_size))\n",
        "\n",
        "\n",
        "    return sdf # shape (grid_size, grid_size, grid_size)"
      ]
    },
    {
      "cell_type": "code",
      "execution_count": 10,
      "id": "7501d31d-6301-4f66-a8ae-645208384e4c",
      "metadata": {
        "id": "7501d31d-6301-4f66-a8ae-645208384e4c",
        "colab": {
          "base_uri": "https://localhost:8080/"
        },
        "outputId": "4eb2fc06-56ba-453b-9486-91ec7a76e51b"
      },
      "outputs": [
        {
          "output_type": "stream",
          "name": "stdout",
          "text": [
            "(40, 40, 40)\n"
          ]
        }
      ],
      "source": [
        "sdf = compute_sdf_grid(pc, normals)\n",
        "print(sdf.shape)"
      ]
    },
    {
      "cell_type": "code",
      "execution_count": 11,
      "id": "31442fcb-2a9a-42ab-a1d9-41e29ce462b6",
      "metadata": {
        "colab": {
          "base_uri": "https://localhost:8080/",
          "height": 1000,
          "referenced_widgets": [
            "a9f0f3d37ef443e9ab94ef72d85e9145",
            "f5c0ebeafb9b4d7ea0757af71cb83c75",
            "e18e0b81d78d4e7b933965b89f5e4984",
            "34e7120661c848c9b568b768d0d2eabb",
            "00058ff58ebc446398a90a3b0cd95ddf",
            "9d40e75a44ef45069282b8403bfbda6d",
            "b92516d9180446948679d07a58ddc908",
            "9e114dcd9e914c1ca003b59ebb6b20f5",
            "1704f10050384f76a8880e90fd291906",
            "d119372829854e3c8f55e4bfaa85b6b7",
            "1ba7b96e68904cdab0a82098fbc2d11e",
            "def02c1879764d05b0a4f71ca62c4a57",
            "b75a7bcb376f4afbbee316e3cebf9c76",
            "73ba6e66b52a4aecb70fe9058882ab28"
          ]
        },
        "id": "31442fcb-2a9a-42ab-a1d9-41e29ce462b6",
        "outputId": "7609d7c1-9ac3-4ea5-8b8d-66ed24e9d297"
      },
      "outputs": [
        {
          "output_type": "display_data",
          "data": {
            "text/plain": [
              "Renderer(camera=PerspectiveCamera(children=(DirectionalLight(color='white', intensity=0.6, position=(19.526107…"
            ],
            "application/vnd.jupyter.widget-view+json": {
              "version_major": 2,
              "version_minor": 0,
              "model_id": "a9f0f3d37ef443e9ab94ef72d85e9145"
            }
          },
          "metadata": {
            "application/vnd.jupyter.widget-view+json": {
              "colab": {
                "custom_widget_manager": {
                  "url": "https://ssl.gstatic.com/colaboratory-static/widgets/colab-cdn-widget-manager/2b70e893a8ba7c0f/manager.min.js"
                }
              }
            }
          }
        },
        {
          "output_type": "execute_result",
          "data": {
            "text/plain": [
              "<meshplot.Viewer.Viewer at 0x7fafa9504ac0>"
            ]
          },
          "metadata": {},
          "execution_count": 11
        },
        {
          "output_type": "error",
          "ename": "TraitError",
          "evalue": "The 'target' trait of a DirectionalLight instance expected an Uninitialized or an Object3D, not the str 'IPY_MODEL_bef306d9-80a4-489f-aa43-aed56fe2db71'.",
          "traceback": [
            "\u001b[0;31m---------------------------------------------------------------------------\u001b[0m",
            "\u001b[0;31mTraitError\u001b[0m                                Traceback (most recent call last)",
            "\u001b[0;32m/usr/local/lib/python3.10/dist-packages/ipywidgets/widgets/widget.py\u001b[0m in \u001b[0;36m_handle_msg\u001b[0;34m(self, msg)\u001b[0m\n\u001b[1;32m    754\u001b[0m                 \u001b[0;32mif\u001b[0m \u001b[0;34m'buffer_paths'\u001b[0m \u001b[0;32min\u001b[0m \u001b[0mdata\u001b[0m\u001b[0;34m:\u001b[0m\u001b[0;34m\u001b[0m\u001b[0;34m\u001b[0m\u001b[0m\n\u001b[1;32m    755\u001b[0m                     \u001b[0m_put_buffers\u001b[0m\u001b[0;34m(\u001b[0m\u001b[0mstate\u001b[0m\u001b[0;34m,\u001b[0m \u001b[0mdata\u001b[0m\u001b[0;34m[\u001b[0m\u001b[0;34m'buffer_paths'\u001b[0m\u001b[0;34m]\u001b[0m\u001b[0;34m,\u001b[0m \u001b[0mmsg\u001b[0m\u001b[0;34m[\u001b[0m\u001b[0;34m'buffers'\u001b[0m\u001b[0;34m]\u001b[0m\u001b[0;34m)\u001b[0m\u001b[0;34m\u001b[0m\u001b[0;34m\u001b[0m\u001b[0m\n\u001b[0;32m--> 756\u001b[0;31m                 \u001b[0mself\u001b[0m\u001b[0;34m.\u001b[0m\u001b[0mset_state\u001b[0m\u001b[0;34m(\u001b[0m\u001b[0mstate\u001b[0m\u001b[0;34m)\u001b[0m\u001b[0;34m\u001b[0m\u001b[0;34m\u001b[0m\u001b[0m\n\u001b[0m\u001b[1;32m    757\u001b[0m \u001b[0;34m\u001b[0m\u001b[0m\n\u001b[1;32m    758\u001b[0m         \u001b[0;31m# Handle a state request.\u001b[0m\u001b[0;34m\u001b[0m\u001b[0;34m\u001b[0m\u001b[0m\n",
            "\u001b[0;32m/usr/local/lib/python3.10/dist-packages/ipywidgets/widgets/widget.py\u001b[0m in \u001b[0;36mset_state\u001b[0;34m(self, sync_data)\u001b[0m\n\u001b[1;32m    623\u001b[0m                     from_json = self.trait_metadata(name, 'from_json',\n\u001b[1;32m    624\u001b[0m                                                     self._trait_from_json)\n\u001b[0;32m--> 625\u001b[0;31m                     \u001b[0mself\u001b[0m\u001b[0;34m.\u001b[0m\u001b[0mset_trait\u001b[0m\u001b[0;34m(\u001b[0m\u001b[0mname\u001b[0m\u001b[0;34m,\u001b[0m \u001b[0mfrom_json\u001b[0m\u001b[0;34m(\u001b[0m\u001b[0msync_data\u001b[0m\u001b[0;34m[\u001b[0m\u001b[0mname\u001b[0m\u001b[0;34m]\u001b[0m\u001b[0;34m,\u001b[0m \u001b[0mself\u001b[0m\u001b[0;34m)\u001b[0m\u001b[0;34m)\u001b[0m\u001b[0;34m\u001b[0m\u001b[0;34m\u001b[0m\u001b[0m\n\u001b[0m\u001b[1;32m    626\u001b[0m \u001b[0;34m\u001b[0m\u001b[0m\n\u001b[1;32m    627\u001b[0m     \u001b[0;32mdef\u001b[0m \u001b[0msend\u001b[0m\u001b[0;34m(\u001b[0m\u001b[0mself\u001b[0m\u001b[0;34m,\u001b[0m \u001b[0mcontent\u001b[0m\u001b[0;34m,\u001b[0m \u001b[0mbuffers\u001b[0m\u001b[0;34m=\u001b[0m\u001b[0;32mNone\u001b[0m\u001b[0;34m)\u001b[0m\u001b[0;34m:\u001b[0m\u001b[0;34m\u001b[0m\u001b[0;34m\u001b[0m\u001b[0m\n",
            "\u001b[0;32m/usr/local/lib/python3.10/dist-packages/traitlets/traitlets.py\u001b[0m in \u001b[0;36mset_trait\u001b[0;34m(self, name, value)\u001b[0m\n\u001b[1;32m   1736\u001b[0m             \u001b[0;32mraise\u001b[0m \u001b[0mTraitError\u001b[0m\u001b[0;34m(\u001b[0m\u001b[0;34mf\"Class {cls.__name__} does not have a trait named {name}\"\u001b[0m\u001b[0;34m)\u001b[0m\u001b[0;34m\u001b[0m\u001b[0;34m\u001b[0m\u001b[0m\n\u001b[1;32m   1737\u001b[0m         \u001b[0;32melse\u001b[0m\u001b[0;34m:\u001b[0m\u001b[0;34m\u001b[0m\u001b[0;34m\u001b[0m\u001b[0m\n\u001b[0;32m-> 1738\u001b[0;31m             \u001b[0mgetattr\u001b[0m\u001b[0;34m(\u001b[0m\u001b[0mcls\u001b[0m\u001b[0;34m,\u001b[0m \u001b[0mname\u001b[0m\u001b[0;34m)\u001b[0m\u001b[0;34m.\u001b[0m\u001b[0mset\u001b[0m\u001b[0;34m(\u001b[0m\u001b[0mself\u001b[0m\u001b[0;34m,\u001b[0m \u001b[0mvalue\u001b[0m\u001b[0;34m)\u001b[0m\u001b[0;34m\u001b[0m\u001b[0;34m\u001b[0m\u001b[0m\n\u001b[0m\u001b[1;32m   1739\u001b[0m \u001b[0;34m\u001b[0m\u001b[0m\n\u001b[1;32m   1740\u001b[0m     \u001b[0;34m@\u001b[0m\u001b[0mclassmethod\u001b[0m\u001b[0;34m\u001b[0m\u001b[0;34m\u001b[0m\u001b[0m\n",
            "\u001b[0;32m/usr/local/lib/python3.10/dist-packages/traitlets/traitlets.py\u001b[0m in \u001b[0;36mset\u001b[0;34m(self, obj, value)\u001b[0m\n\u001b[1;32m    701\u001b[0m \u001b[0;34m\u001b[0m\u001b[0m\n\u001b[1;32m    702\u001b[0m     \u001b[0;32mdef\u001b[0m \u001b[0mset\u001b[0m\u001b[0;34m(\u001b[0m\u001b[0mself\u001b[0m\u001b[0;34m,\u001b[0m \u001b[0mobj\u001b[0m\u001b[0;34m,\u001b[0m \u001b[0mvalue\u001b[0m\u001b[0;34m)\u001b[0m\u001b[0;34m:\u001b[0m\u001b[0;34m\u001b[0m\u001b[0;34m\u001b[0m\u001b[0m\n\u001b[0;32m--> 703\u001b[0;31m         \u001b[0mnew_value\u001b[0m \u001b[0;34m=\u001b[0m \u001b[0mself\u001b[0m\u001b[0;34m.\u001b[0m\u001b[0m_validate\u001b[0m\u001b[0;34m(\u001b[0m\u001b[0mobj\u001b[0m\u001b[0;34m,\u001b[0m \u001b[0mvalue\u001b[0m\u001b[0;34m)\u001b[0m\u001b[0;34m\u001b[0m\u001b[0;34m\u001b[0m\u001b[0m\n\u001b[0m\u001b[1;32m    704\u001b[0m         \u001b[0;32mtry\u001b[0m\u001b[0;34m:\u001b[0m\u001b[0;34m\u001b[0m\u001b[0;34m\u001b[0m\u001b[0m\n\u001b[1;32m    705\u001b[0m             \u001b[0mold_value\u001b[0m \u001b[0;34m=\u001b[0m \u001b[0mobj\u001b[0m\u001b[0;34m.\u001b[0m\u001b[0m_trait_values\u001b[0m\u001b[0;34m[\u001b[0m\u001b[0mself\u001b[0m\u001b[0;34m.\u001b[0m\u001b[0mname\u001b[0m\u001b[0;34m]\u001b[0m\u001b[0;34m\u001b[0m\u001b[0;34m\u001b[0m\u001b[0m\n",
            "\u001b[0;32m/usr/local/lib/python3.10/dist-packages/traitlets/traitlets.py\u001b[0m in \u001b[0;36m_validate\u001b[0;34m(self, obj, value)\u001b[0m\n\u001b[1;32m    733\u001b[0m             \u001b[0;32mreturn\u001b[0m \u001b[0mvalue\u001b[0m\u001b[0;34m\u001b[0m\u001b[0;34m\u001b[0m\u001b[0m\n\u001b[1;32m    734\u001b[0m         \u001b[0;32mif\u001b[0m \u001b[0mhasattr\u001b[0m\u001b[0;34m(\u001b[0m\u001b[0mself\u001b[0m\u001b[0;34m,\u001b[0m \u001b[0;34m\"validate\"\u001b[0m\u001b[0;34m)\u001b[0m\u001b[0;34m:\u001b[0m\u001b[0;34m\u001b[0m\u001b[0;34m\u001b[0m\u001b[0m\n\u001b[0;32m--> 735\u001b[0;31m             \u001b[0mvalue\u001b[0m \u001b[0;34m=\u001b[0m \u001b[0mself\u001b[0m\u001b[0;34m.\u001b[0m\u001b[0mvalidate\u001b[0m\u001b[0;34m(\u001b[0m\u001b[0mobj\u001b[0m\u001b[0;34m,\u001b[0m \u001b[0mvalue\u001b[0m\u001b[0;34m)\u001b[0m\u001b[0;34m\u001b[0m\u001b[0;34m\u001b[0m\u001b[0m\n\u001b[0m\u001b[1;32m    736\u001b[0m         \u001b[0;32mif\u001b[0m \u001b[0mobj\u001b[0m\u001b[0;34m.\u001b[0m\u001b[0m_cross_validation_lock\u001b[0m \u001b[0;32mis\u001b[0m \u001b[0;32mFalse\u001b[0m\u001b[0;34m:\u001b[0m\u001b[0;34m\u001b[0m\u001b[0;34m\u001b[0m\u001b[0m\n\u001b[1;32m    737\u001b[0m             \u001b[0mvalue\u001b[0m \u001b[0;34m=\u001b[0m \u001b[0mself\u001b[0m\u001b[0;34m.\u001b[0m\u001b[0m_cross_validate\u001b[0m\u001b[0;34m(\u001b[0m\u001b[0mobj\u001b[0m\u001b[0;34m,\u001b[0m \u001b[0mvalue\u001b[0m\u001b[0;34m)\u001b[0m\u001b[0;34m\u001b[0m\u001b[0;34m\u001b[0m\u001b[0m\n",
            "\u001b[0;32m/usr/local/lib/python3.10/dist-packages/traitlets/traitlets.py\u001b[0m in \u001b[0;36mvalidate\u001b[0;34m(self, obj, value)\u001b[0m\n\u001b[1;32m   2300\u001b[0m                 \u001b[0;32mexcept\u001b[0m \u001b[0mTraitError\u001b[0m\u001b[0;34m:\u001b[0m\u001b[0;34m\u001b[0m\u001b[0;34m\u001b[0m\u001b[0m\n\u001b[1;32m   2301\u001b[0m                     \u001b[0;32mcontinue\u001b[0m\u001b[0;34m\u001b[0m\u001b[0;34m\u001b[0m\u001b[0m\n\u001b[0;32m-> 2302\u001b[0;31m         \u001b[0mself\u001b[0m\u001b[0;34m.\u001b[0m\u001b[0merror\u001b[0m\u001b[0;34m(\u001b[0m\u001b[0mobj\u001b[0m\u001b[0;34m,\u001b[0m \u001b[0mvalue\u001b[0m\u001b[0;34m)\u001b[0m\u001b[0;34m\u001b[0m\u001b[0;34m\u001b[0m\u001b[0m\n\u001b[0m\u001b[1;32m   2303\u001b[0m \u001b[0;34m\u001b[0m\u001b[0m\n\u001b[1;32m   2304\u001b[0m     \u001b[0;32mdef\u001b[0m \u001b[0m__or__\u001b[0m\u001b[0;34m(\u001b[0m\u001b[0mself\u001b[0m\u001b[0;34m,\u001b[0m \u001b[0mother\u001b[0m\u001b[0;34m)\u001b[0m\u001b[0;34m:\u001b[0m\u001b[0;34m\u001b[0m\u001b[0;34m\u001b[0m\u001b[0m\n",
            "\u001b[0;32m/usr/local/lib/python3.10/dist-packages/traitlets/traitlets.py\u001b[0m in \u001b[0;36merror\u001b[0;34m(self, obj, value, error, info)\u001b[0m\n\u001b[1;32m    839\u001b[0m                         \u001b[0mdescribe\u001b[0m\u001b[0;34m(\u001b[0m\u001b[0;34m\"the\"\u001b[0m\u001b[0;34m,\u001b[0m \u001b[0mvalue\u001b[0m\u001b[0;34m)\u001b[0m\u001b[0;34m,\u001b[0m\u001b[0;34m\u001b[0m\u001b[0;34m\u001b[0m\u001b[0m\n\u001b[1;32m    840\u001b[0m                     )\n\u001b[0;32m--> 841\u001b[0;31m                 \u001b[0;32mraise\u001b[0m \u001b[0mTraitError\u001b[0m\u001b[0;34m(\u001b[0m\u001b[0me\u001b[0m\u001b[0;34m)\u001b[0m\u001b[0;34m\u001b[0m\u001b[0;34m\u001b[0m\u001b[0m\n\u001b[0m\u001b[1;32m    842\u001b[0m \u001b[0;34m\u001b[0m\u001b[0m\n\u001b[1;32m    843\u001b[0m     \u001b[0;32mdef\u001b[0m \u001b[0mget_metadata\u001b[0m\u001b[0;34m(\u001b[0m\u001b[0mself\u001b[0m\u001b[0;34m,\u001b[0m \u001b[0mkey\u001b[0m\u001b[0;34m,\u001b[0m \u001b[0mdefault\u001b[0m\u001b[0;34m=\u001b[0m\u001b[0;32mNone\u001b[0m\u001b[0;34m)\u001b[0m\u001b[0;34m:\u001b[0m\u001b[0;34m\u001b[0m\u001b[0;34m\u001b[0m\u001b[0m\n",
            "\u001b[0;31mTraitError\u001b[0m: The 'target' trait of a DirectionalLight instance expected an Uninitialized or an Object3D, not the str 'IPY_MODEL_bef306d9-80a4-489f-aa43-aed56fe2db71'."
          ]
        }
      ],
      "source": [
        "vertices, triangles = mcubes.marching_cubes(sdf,0)\n",
        "mesh = TriMesh(vertices, triangles)\n",
        "mcubes.export_obj(vertices, triangles, 'result_hoppe.obj')\n",
        "plu.plot(mesh)"
      ]
    },
    {
      "cell_type": "markdown",
      "id": "4af67d5b-d9fa-4685-ad42-ab15d01086e2",
      "metadata": {
        "id": "4af67d5b-d9fa-4685-ad42-ab15d01086e2"
      },
      "source": [
        "You can try different grid sizes, but do not increase too much its size to avoid memory issues"
      ]
    },
    {
      "cell_type": "markdown",
      "id": "b497b547-ce5b-4fdf-bff6-11765cba573a",
      "metadata": {
        "id": "b497b547-ce5b-4fdf-bff6-11765cba573a"
      },
      "source": [
        "# DeepSDF\n",
        "\n",
        "This method (see <a href=\"https://arxiv.org/pdf/1901.05103\">link</a>) consists of representing the SDF as a function (x, y, z) -> sdf, parameterized by a neural network.\n",
        "\n",
        "We first build the network according to the following figure\n",
        "\n",
        "![title](img/TD5_sdf.png)\n",
        "\n",
        "The activations are ReLUs, except for the last one, defined as $\\phi(a) = \\text{tanh}(a)$.\n",
        "\n",
        "Moreover, the networks have specific initialization (**except the last one**): the weights of size $n \\times n$ are initialized according to the following $\\mathcal{N}\\left(0, \\sqrt{\\frac{2}{n}}\\right)$ law, and the bias are initalized to 0 (except for the last linear layer). You can access to a Linear layer weight, and bias via layer..weight.data, and layer.bias.data, or use <a href=\"https://pytorch.org/docs/stable/nn.init.html\">nn.init<a> on layer.weight, layer.bias"
      ]
    },
    {
      "cell_type": "code",
      "source": [
        "def custom_init(m):\n",
        "\n",
        "    if isinstance(m, nn.Linear):\n",
        "\n",
        "        n = m.weight.size(0)\n",
        "\n",
        "\n",
        "        nn.init.normal_(m.weight, mean=0, std=(2/n)**0.5)\n",
        "\n",
        "\n",
        "        if m.bias is not None:\n",
        "            nn.init.constant_(m.bias, 0)\n"
      ],
      "metadata": {
        "id": "smCaFqFULuQk"
      },
      "id": "smCaFqFULuQk",
      "execution_count": 12,
      "outputs": []
    },
    {
      "cell_type": "code",
      "execution_count": 19,
      "id": "ed7c8a12-cdc3-4220-9491-71600785abcc",
      "metadata": {
        "id": "ed7c8a12-cdc3-4220-9491-71600785abcc"
      },
      "outputs": [],
      "source": [
        "class SDFNet(nn.Module):\n",
        "    def __init__(self, ninputchannels, dropout=0.2, gamma=0, sal_init=False, eik=False):\n",
        "        super(SDFNet, self).__init__()\n",
        "        ## Prepare the layers\n",
        "        ## Don't forget to initialize your weights correctly.\n",
        "\n",
        "        ## gamma, sal_init, eik are for later\n",
        "        self.gamma=gamma\n",
        "        self.eik = eik\n",
        "        self.layers=nn.ModuleList()\n",
        "        for i in range(7):\n",
        "          if i==0:\n",
        "            self.layers.append(nn.Linear(ninputchannels,512))\n",
        "          elif i==4:\n",
        "            self.layers.append(nn.Linear(ninputchannels+512,512))\n",
        "          else:\n",
        "\n",
        "            self.layers.append(nn.Linear(512, 512))  # Example layer dimensions\n",
        "        self.last_layer = nn.Linear(512, 1)\n",
        "\n",
        "        self.layers.apply(custom_init)\n",
        "\n",
        "\n",
        "\n",
        "\n",
        "\n",
        "    def forward(self,x):\n",
        "        ## Logic of the neural network\n",
        "        ## You can add dropout if you want\n",
        "        x0=x\n",
        "        for i in range(len(self.layers)):\n",
        "          if i==4:\n",
        "            x=torch.cat((x0,x),dim=1)\n",
        "\n",
        "          x = self.layers[i](x)\n",
        "          x = torch.relu(x)\n",
        "        x = self.last_layer(x)\n",
        "        x=torch.tanh(x)\n",
        "\n",
        "        return x"
      ]
    },
    {
      "cell_type": "markdown",
      "id": "b0b32746-6a2c-4c25-93b1-24fbac4f7690",
      "metadata": {
        "id": "b0b32746-6a2c-4c25-93b1-24fbac4f7690"
      },
      "source": [
        "### Loss function\n",
        "\n",
        "The loss is computed by sampling random points in the ambient space (set X), computing their ground truth SDF (using part one), and computing the distance between computed and ground truth sdf:\n",
        "\n",
        "$$\n",
        "\\mathcal{L}(\\theta) = \\mathbb{E}_{x \\sim X} [|\\text{clamp}(u_\\theta(x), \\delta) - \\text{clamp}(\\text{SDF}_{\\text{gt}}(x), \\delta)|]\n",
        "$$\n",
        "\n",
        "where $\\text{clamp}(x, \\delta) := \\min(\\delta, \\max(−\\delta, x))$ (you can use torch.clamp). To understand the signification of parameter $\\delta$, read carefully paragraph 3 of the paper."
      ]
    },
    {
      "cell_type": "code",
      "execution_count": 13,
      "id": "ebda59ec-e59e-4b50-a2a3-bda8a3d8221a",
      "metadata": {
        "id": "ebda59ec-e59e-4b50-a2a3-bda8a3d8221a"
      },
      "outputs": [],
      "source": [
        "def evaluate_loss(net, pts_gt, sdf_gt, device, lpc, batch_size=2000, delta = 0.1):\n",
        "    ## For this function, you need to sample batch_size number of points\n",
        "    ## From pts_gt. Evaluate the sdf at those points and compute the loss\n",
        "    ## compared to sdf_gt (be careful to select the same points between pts_gt and sdf_gt)\n",
        "    pts_gt,sdf_gt=pts_gt.to(device),sdf_gt.to(device)\n",
        "    indices=torch.randperm(pts_gt.size(0))[:batch_size]\n",
        "\n",
        "\n",
        "    # Select points\n",
        "    sampled_pts=pts_gt[indices]\n",
        "    sampled_sdf_gt=sdf_gt[indices]\n",
        "    sampled_pts = sampled_pts.to(device)\n",
        "    predicted_sdf = net(sampled_pts).squeeze()\n",
        "    predicted_sdf=predicted_sdf.clamp(min=0,max=delta)\n",
        "    sampled_sdf_gt=sampled_sdf_gt.clamp(min=0,max=delta)\n",
        "\n",
        "\n",
        "    # compute and store the losses\n",
        "    loss = torch.mean(torch.abs(sampled_sdf_gt-predicted_sdf),axis=0)\n",
        "\n",
        "    # append all the losses\n",
        "    lpc.append(float(loss.item()))\n",
        "\n",
        "    return loss"
      ]
    },
    {
      "cell_type": "markdown",
      "id": "db4de69e-a85d-4e32-b3e4-993e45ce6263",
      "metadata": {
        "id": "db4de69e-a85d-4e32-b3e4-993e45ce6263"
      },
      "source": [
        "### Training the SDF"
      ]
    },
    {
      "cell_type": "code",
      "execution_count": 14,
      "id": "50183176-a41a-43a8-94fb-71f058cad8c8",
      "metadata": {
        "id": "50183176-a41a-43a8-94fb-71f058cad8c8"
      },
      "outputs": [],
      "source": [
        "device = torch.device('cuda' if torch.cuda.is_available() else 'cpu')\n",
        "\n",
        "def get_normalized_pointcloud(point_cloud, margin=0.05):\n",
        "    ## Return the same point cloud, scaled such that\n",
        "    ## x,y,z values are between -1+margin and 1-margin\n",
        "    #compute the enclosing grid\n",
        "    min_bound=np.min(point_cloud,axis=0)\n",
        "    max_bound=np.max(point_cloud,axis=0)\n",
        "    center=(min_bound+max_bound)/2\n",
        "    centered_points=point_cloud-center\n",
        "    scale=(1-margin)/(max_bound-min_bound).max()*2\n",
        "    pc_normed=centered_points*scale\n",
        "\n",
        "    #normalize the points\n",
        "    return pc_normed\n",
        "\n",
        "def compute_gt_sdf(point_cloud, normals, n_points=1000000):\n",
        "    ## Sample a n_points points in with XYZ coordinates between -1 and 1\n",
        "    ## Then use compute_sdf to get sdf_gt\n",
        "\n",
        "    p_norm = get_normalized_pointcloud(point_cloud, margin=0.00001)\n",
        "    sampled_pts=2*torch.rand(n_points,3)-1\n",
        "    #preparing gt points:\n",
        "\n",
        "\n",
        "\n",
        "\n",
        "    gtp = sampled_pts.numpy()\n",
        "\n",
        "    sdf_gt = compute_sdf(p_norm, normals, gtp)\n",
        "    sdf_gt=sdf_gt.numpy()\n",
        "    return sdf_gt, gtp"
      ]
    },
    {
      "cell_type": "code",
      "execution_count": 15,
      "id": "8bdd38cf-77d9-473b-9411-b221b81351b7",
      "metadata": {
        "id": "8bdd38cf-77d9-473b-9411-b221b81351b7"
      },
      "outputs": [],
      "source": [
        "n_points = 100000\n",
        "sdf_gt, gtp = compute_gt_sdf(pc, normals, n_points)"
      ]
    },
    {
      "cell_type": "code",
      "execution_count": 16,
      "id": "105ecb10-da59-4719-947f-67e6088d4cee",
      "metadata": {
        "colab": {
          "base_uri": "https://localhost:8080/"
        },
        "id": "105ecb10-da59-4719-947f-67e6088d4cee",
        "outputId": "0c28a6ca-f59a-425f-f37c-36a0ee671568"
      },
      "outputs": [
        {
          "output_type": "stream",
          "name": "stdout",
          "text": [
            "cuda\n",
            "(100000,) (100000, 3)\n",
            "True True\n"
          ]
        }
      ],
      "source": [
        "print(device)\n",
        "print(sdf_gt.shape, gtp.shape) ## Should be same shape\n",
        "print(np.isclose(gtp.max(), 1, 1e-3), np.isclose(gtp.min(), -1, 1e-3)) ## Should be equal to one"
      ]
    },
    {
      "cell_type": "code",
      "execution_count": 17,
      "id": "5d388ce8-3c03-4923-bd97-ebb2e6325a6a",
      "metadata": {
        "id": "5d388ce8-3c03-4923-bd97-ebb2e6325a6a"
      },
      "outputs": [],
      "source": [
        "def training_sdf(sdf_gt, gtp):\n",
        "    geomnet = SDFNet(3)\n",
        "    geomnet.to(device)\n",
        "    gtpoints = torch.from_numpy(gtp).float().to(device)\n",
        "    gtsdf = torch.from_numpy(sdf_gt).float().to(device)\n",
        "\n",
        "    lpc = []\n",
        "\n",
        "    optim = torch.optim.Adam(params = geomnet.parameters(), lr=1e-5)\n",
        "\n",
        "    nepochs=10000\n",
        "    pbar = tqdm(total=nepochs,\n",
        "                desc=\"Training\")\n",
        "\n",
        "    for epoch in range(nepochs):\n",
        "        loss = evaluate_loss(geomnet, gtpoints, gtsdf, device, lpc, delta = 0.1, batch_size=2500)\n",
        "        optim.zero_grad()\n",
        "        loss.backward()\n",
        "        optim.step()\n",
        "        if epoch % 100 == 0:\n",
        "        #     print(f\"Epoch {epoch}/{nepochs} - loss : {loss.item()}\")\n",
        "            pbar.set_postfix({'loss': loss.item()})\n",
        "        pbar.update(1)\n",
        "    return lpc, geomnet\n"
      ]
    },
    {
      "cell_type": "code",
      "execution_count": 20,
      "id": "2b3d25b5-98f2-431d-b865-4d26b179537e",
      "metadata": {
        "colab": {
          "base_uri": "https://localhost:8080/",
          "height": 49,
          "referenced_widgets": [
            "8dd5298e000343368a1321efc47ac2ec",
            "12f5d8c81fd840b190e97ea9c828c595",
            "a24a99f1dd314d099120a2fc0599a147",
            "1c75ba5dc2a14e2887b90147f7d799eb",
            "44dacb8d89c149efa511ccb76e946e79",
            "cea92d1f3e22494fbf09135c98b7e763",
            "c3c2794bb92b49728ecde3724d37361c",
            "20c427e478fa4c78880369fcff6d4b36",
            "950aaebe0ff346659130aeddbd3e691d",
            "d89c76da0a364ea881fa4df74ef1ae5a",
            "5a2b9f061eca45bfaae599faaf6c7b1a"
          ]
        },
        "id": "2b3d25b5-98f2-431d-b865-4d26b179537e",
        "outputId": "ec3b3079-e4a6-4d54-87eb-7c5eec27b95a"
      },
      "outputs": [
        {
          "output_type": "display_data",
          "data": {
            "text/plain": [
              "Training:   0%|          | 0/10000 [00:00<?, ?it/s]"
            ],
            "application/vnd.jupyter.widget-view+json": {
              "version_major": 2,
              "version_minor": 0,
              "model_id": "8dd5298e000343368a1321efc47ac2ec"
            }
          },
          "metadata": {
            "application/vnd.jupyter.widget-view+json": {
              "colab": {
                "custom_widget_manager": {
                  "url": "https://ssl.gstatic.com/colaboratory-static/widgets/colab-cdn-widget-manager/2b70e893a8ba7c0f/manager.min.js"
                }
              }
            }
          }
        }
      ],
      "source": [
        "loss_, net_sdf = training_sdf(sdf_gt, gtp)\n",
        "## If the training is slow (hours), change you execution environment to GPU!"
      ]
    },
    {
      "cell_type": "code",
      "execution_count": 21,
      "id": "befa5482-c1c5-40f3-80ea-2986cea7b1c7",
      "metadata": {
        "colab": {
          "base_uri": "https://localhost:8080/",
          "height": 388
        },
        "id": "befa5482-c1c5-40f3-80ea-2986cea7b1c7",
        "outputId": "38047024-d8fa-4e00-de39-3b2377f4c8f1"
      },
      "outputs": [
        {
          "output_type": "display_data",
          "data": {
            "text/plain": [
              "<Figure size 600x400 with 1 Axes>"
            ],
            "image/png": "[encoded data removed]"
          },
          "metadata": {}
        }
      ],
      "source": [
        "# Check that the network learned something\n",
        "plt.figure(figsize=(6,4))\n",
        "plt.yscale('log')\n",
        "plt.plot(loss_, label = 'Point cloud loss ({:.2f})'.format(loss_[-1]))\n",
        "plt.xlabel(\"Epochs\")\n",
        "plt.legend()\n",
        "plt.show()"
      ]
    },
    {
      "cell_type": "markdown",
      "id": "9631c5ff",
      "metadata": {
        "id": "9631c5ff"
      },
      "source": [
        "## Reconstruct the shape\n",
        "Code the function compute_deepsdf that compute sdf on a grid using a trained sdf network"
      ]
    },
    {
      "cell_type": "code",
      "execution_count": 22,
      "id": "e1f1f2ff-9737-42bc-8a1d-f247acea17e1",
      "metadata": {
        "id": "e1f1f2ff-9737-42bc-8a1d-f247acea17e1"
      },
      "outputs": [],
      "source": [
        "def compute_deepsdf(net, grid_size=40):\n",
        "    net.eval()\n",
        "    x = np.linspace(-1, 1, grid_size)\n",
        "    y = np.linspace(-1,1, grid_size)\n",
        "    z = np.linspace(-1,1, grid_size)\n",
        "    grid_x, grid_y, grid_z = np.meshgrid(x, y, z, indexing=\"ij\")\n",
        "    grid_points = np.stack([grid_x, grid_y, grid_z], axis=-1).reshape(-1, 3)\n",
        "\n",
        "\n",
        "\n",
        "    v = grid_points# point cloud definition (more than one_line, reshape it to (something, 3))\n",
        "    queries = torch.from_numpy(v).float().to(device)\n",
        "    with torch.no_grad():\n",
        "        distance = net(queries).detach().cpu().numpy()\n",
        "    u = np.reshape(distance,(grid_size,grid_size,grid_size))\n",
        "    return u"
      ]
    },
    {
      "cell_type": "code",
      "execution_count": 23,
      "id": "79cec4a2-2347-4368-869d-a4797a63a8fb",
      "metadata": {
        "id": "79cec4a2-2347-4368-869d-a4797a63a8fb",
        "colab": {
          "base_uri": "https://localhost:8080/",
          "height": 1000,
          "referenced_widgets": [
            "52907f0c8a8e4980a565f3b0efcdf4a0",
            "bff351ae83f24300b53422243f163dd0",
            "1e95f0d398434eaa9f9b8ee6b99e785e",
            "1397a0b96efd441d86f4f8f0422e0292",
            "51479ef86a674e6ba29f1af368077e3a",
            "3370a097453b460c9c8dee0daf84aa2f",
            "9c776889c1f4424c964d50f51ca2d9f2",
            "bdd7aba7f751490b812f48f4ba4693dc",
            "021078bd7e944155946fc85a453fa02b",
            "5ecdc0c3a7a541408cd98fd3b8280099",
            "3af2a37b6b0641a5beb9f7a585fc11e8",
            "f3f899225f774ebba641d62c11e52bd8",
            "fc62c7a5aa734a32b674d25db14736ef",
            "e006c188253e4d169bd5deee569e5bb3"
          ]
        },
        "outputId": "d12b02e6-7b7c-489e-fb02-e8f9687f8188"
      },
      "outputs": [
        {
          "output_type": "display_data",
          "data": {
            "text/plain": [
              "Renderer(camera=PerspectiveCamera(children=(DirectionalLight(color='white', intensity=0.6, position=(19.521935…"
            ],
            "application/vnd.jupyter.widget-view+json": {
              "version_major": 2,
              "version_minor": 0,
              "model_id": "52907f0c8a8e4980a565f3b0efcdf4a0"
            }
          },
          "metadata": {
            "application/vnd.jupyter.widget-view+json": {
              "colab": {
                "custom_widget_manager": {
                  "url": "https://ssl.gstatic.com/colaboratory-static/widgets/colab-cdn-widget-manager/2b70e893a8ba7c0f/manager.min.js"
                }
              }
            }
          }
        },
        {
          "output_type": "execute_result",
          "data": {
            "text/plain": [
              "<meshplot.Viewer.Viewer at 0x7faecc2406a0>"
            ]
          },
          "metadata": {},
          "execution_count": 23
        },
        {
          "output_type": "error",
          "ename": "TraitError",
          "evalue": "The 'target' trait of a DirectionalLight instance expected an Uninitialized or an Object3D, not the str 'IPY_MODEL_37e583f3-c979-4f27-adb8-952e10eb5d25'.",
          "traceback": [
            "\u001b[0;31m---------------------------------------------------------------------------\u001b[0m",
            "\u001b[0;31mTraitError\u001b[0m                                Traceback (most recent call last)",
            "\u001b[0;32m/usr/local/lib/python3.10/dist-packages/ipywidgets/widgets/widget.py\u001b[0m in \u001b[0;36m_handle_msg\u001b[0;34m(self, msg)\u001b[0m\n\u001b[1;32m    754\u001b[0m                 \u001b[0;32mif\u001b[0m \u001b[0;34m'buffer_paths'\u001b[0m \u001b[0;32min\u001b[0m \u001b[0mdata\u001b[0m\u001b[0;34m:\u001b[0m\u001b[0;34m\u001b[0m\u001b[0;34m\u001b[0m\u001b[0m\n\u001b[1;32m    755\u001b[0m                     \u001b[0m_put_buffers\u001b[0m\u001b[0;34m(\u001b[0m\u001b[0mstate\u001b[0m\u001b[0;34m,\u001b[0m \u001b[0mdata\u001b[0m\u001b[0;34m[\u001b[0m\u001b[0;34m'buffer_paths'\u001b[0m\u001b[0;34m]\u001b[0m\u001b[0;34m,\u001b[0m \u001b[0mmsg\u001b[0m\u001b[0;34m[\u001b[0m\u001b[0;34m'buffers'\u001b[0m\u001b[0;34m]\u001b[0m\u001b[0;34m)\u001b[0m\u001b[0;34m\u001b[0m\u001b[0;34m\u001b[0m\u001b[0m\n\u001b[0;32m--> 756\u001b[0;31m                 \u001b[0mself\u001b[0m\u001b[0;34m.\u001b[0m\u001b[0mset_state\u001b[0m\u001b[0;34m(\u001b[0m\u001b[0mstate\u001b[0m\u001b[0;34m)\u001b[0m\u001b[0;34m\u001b[0m\u001b[0;34m\u001b[0m\u001b[0m\n\u001b[0m\u001b[1;32m    757\u001b[0m \u001b[0;34m\u001b[0m\u001b[0m\n\u001b[1;32m    758\u001b[0m         \u001b[0;31m# Handle a state request.\u001b[0m\u001b[0;34m\u001b[0m\u001b[0;34m\u001b[0m\u001b[0m\n",
            "\u001b[0;32m/usr/local/lib/python3.10/dist-packages/ipywidgets/widgets/widget.py\u001b[0m in \u001b[0;36mset_state\u001b[0;34m(self, sync_data)\u001b[0m\n\u001b[1;32m    623\u001b[0m                     from_json = self.trait_metadata(name, 'from_json',\n\u001b[1;32m    624\u001b[0m                                                     self._trait_from_json)\n\u001b[0;32m--> 625\u001b[0;31m                     \u001b[0mself\u001b[0m\u001b[0;34m.\u001b[0m\u001b[0mset_trait\u001b[0m\u001b[0;34m(\u001b[0m\u001b[0mname\u001b[0m\u001b[0;34m,\u001b[0m \u001b[0mfrom_json\u001b[0m\u001b[0;34m(\u001b[0m\u001b[0msync_data\u001b[0m\u001b[0;34m[\u001b[0m\u001b[0mname\u001b[0m\u001b[0;34m]\u001b[0m\u001b[0;34m,\u001b[0m \u001b[0mself\u001b[0m\u001b[0;34m)\u001b[0m\u001b[0;34m)\u001b[0m\u001b[0;34m\u001b[0m\u001b[0;34m\u001b[0m\u001b[0m\n\u001b[0m\u001b[1;32m    626\u001b[0m \u001b[0;34m\u001b[0m\u001b[0m\n\u001b[1;32m    627\u001b[0m     \u001b[0;32mdef\u001b[0m \u001b[0msend\u001b[0m\u001b[0;34m(\u001b[0m\u001b[0mself\u001b[0m\u001b[0;34m,\u001b[0m \u001b[0mcontent\u001b[0m\u001b[0;34m,\u001b[0m \u001b[0mbuffers\u001b[0m\u001b[0;34m=\u001b[0m\u001b[0;32mNone\u001b[0m\u001b[0;34m)\u001b[0m\u001b[0;34m:\u001b[0m\u001b[0;34m\u001b[0m\u001b[0;34m\u001b[0m\u001b[0m\n",
            "\u001b[0;32m/usr/local/lib/python3.10/dist-packages/traitlets/traitlets.py\u001b[0m in \u001b[0;36mset_trait\u001b[0;34m(self, name, value)\u001b[0m\n\u001b[1;32m   1736\u001b[0m             \u001b[0;32mraise\u001b[0m \u001b[0mTraitError\u001b[0m\u001b[0;34m(\u001b[0m\u001b[0;34mf\"Class {cls.__name__} does not have a trait named {name}\"\u001b[0m\u001b[0;34m)\u001b[0m\u001b[0;34m\u001b[0m\u001b[0;34m\u001b[0m\u001b[0m\n\u001b[1;32m   1737\u001b[0m         \u001b[0;32melse\u001b[0m\u001b[0;34m:\u001b[0m\u001b[0;34m\u001b[0m\u001b[0;34m\u001b[0m\u001b[0m\n\u001b[0;32m-> 1738\u001b[0;31m             \u001b[0mgetattr\u001b[0m\u001b[0;34m(\u001b[0m\u001b[0mcls\u001b[0m\u001b[0;34m,\u001b[0m \u001b[0mname\u001b[0m\u001b[0;34m)\u001b[0m\u001b[0;34m.\u001b[0m\u001b[0mset\u001b[0m\u001b[0;34m(\u001b[0m\u001b[0mself\u001b[0m\u001b[0;34m,\u001b[0m \u001b[0mvalue\u001b[0m\u001b[0;34m)\u001b[0m\u001b[0;34m\u001b[0m\u001b[0;34m\u001b[0m\u001b[0m\n\u001b[0m\u001b[1;32m   1739\u001b[0m \u001b[0;34m\u001b[0m\u001b[0m\n\u001b[1;32m   1740\u001b[0m     \u001b[0;34m@\u001b[0m\u001b[0mclassmethod\u001b[0m\u001b[0;34m\u001b[0m\u001b[0;34m\u001b[0m\u001b[0m\n",
            "\u001b[0;32m/usr/local/lib/python3.10/dist-packages/traitlets/traitlets.py\u001b[0m in \u001b[0;36mset\u001b[0;34m(self, obj, value)\u001b[0m\n\u001b[1;32m    701\u001b[0m \u001b[0;34m\u001b[0m\u001b[0m\n\u001b[1;32m    702\u001b[0m     \u001b[0;32mdef\u001b[0m \u001b[0mset\u001b[0m\u001b[0;34m(\u001b[0m\u001b[0mself\u001b[0m\u001b[0;34m,\u001b[0m \u001b[0mobj\u001b[0m\u001b[0;34m,\u001b[0m \u001b[0mvalue\u001b[0m\u001b[0;34m)\u001b[0m\u001b[0;34m:\u001b[0m\u001b[0;34m\u001b[0m\u001b[0;34m\u001b[0m\u001b[0m\n\u001b[0;32m--> 703\u001b[0;31m         \u001b[0mnew_value\u001b[0m \u001b[0;34m=\u001b[0m \u001b[0mself\u001b[0m\u001b[0;34m.\u001b[0m\u001b[0m_validate\u001b[0m\u001b[0;34m(\u001b[0m\u001b[0mobj\u001b[0m\u001b[0;34m,\u001b[0m \u001b[0mvalue\u001b[0m\u001b[0;34m)\u001b[0m\u001b[0;34m\u001b[0m\u001b[0;34m\u001b[0m\u001b[0m\n\u001b[0m\u001b[1;32m    704\u001b[0m         \u001b[0;32mtry\u001b[0m\u001b[0;34m:\u001b[0m\u001b[0;34m\u001b[0m\u001b[0;34m\u001b[0m\u001b[0m\n\u001b[1;32m    705\u001b[0m             \u001b[0mold_value\u001b[0m \u001b[0;34m=\u001b[0m \u001b[0mobj\u001b[0m\u001b[0;34m.\u001b[0m\u001b[0m_trait_values\u001b[0m\u001b[0;34m[\u001b[0m\u001b[0mself\u001b[0m\u001b[0;34m.\u001b[0m\u001b[0mname\u001b[0m\u001b[0;34m]\u001b[0m\u001b[0;34m\u001b[0m\u001b[0;34m\u001b[0m\u001b[0m\n",
            "\u001b[0;32m/usr/local/lib/python3.10/dist-packages/traitlets/traitlets.py\u001b[0m in \u001b[0;36m_validate\u001b[0;34m(self, obj, value)\u001b[0m\n\u001b[1;32m    733\u001b[0m             \u001b[0;32mreturn\u001b[0m \u001b[0mvalue\u001b[0m\u001b[0;34m\u001b[0m\u001b[0;34m\u001b[0m\u001b[0m\n\u001b[1;32m    734\u001b[0m         \u001b[0;32mif\u001b[0m \u001b[0mhasattr\u001b[0m\u001b[0;34m(\u001b[0m\u001b[0mself\u001b[0m\u001b[0;34m,\u001b[0m \u001b[0;34m\"validate\"\u001b[0m\u001b[0;34m)\u001b[0m\u001b[0;34m:\u001b[0m\u001b[0;34m\u001b[0m\u001b[0;34m\u001b[0m\u001b[0m\n\u001b[0;32m--> 735\u001b[0;31m             \u001b[0mvalue\u001b[0m \u001b[0;34m=\u001b[0m \u001b[0mself\u001b[0m\u001b[0;34m.\u001b[0m\u001b[0mvalidate\u001b[0m\u001b[0;34m(\u001b[0m\u001b[0mobj\u001b[0m\u001b[0;34m,\u001b[0m \u001b[0mvalue\u001b[0m\u001b[0;34m)\u001b[0m\u001b[0;34m\u001b[0m\u001b[0;34m\u001b[0m\u001b[0m\n\u001b[0m\u001b[1;32m    736\u001b[0m         \u001b[0;32mif\u001b[0m \u001b[0mobj\u001b[0m\u001b[0;34m.\u001b[0m\u001b[0m_cross_validation_lock\u001b[0m \u001b[0;32mis\u001b[0m \u001b[0;32mFalse\u001b[0m\u001b[0;34m:\u001b[0m\u001b[0;34m\u001b[0m\u001b[0;34m\u001b[0m\u001b[0m\n\u001b[1;32m    737\u001b[0m             \u001b[0mvalue\u001b[0m \u001b[0;34m=\u001b[0m \u001b[0mself\u001b[0m\u001b[0;34m.\u001b[0m\u001b[0m_cross_validate\u001b[0m\u001b[0;34m(\u001b[0m\u001b[0mobj\u001b[0m\u001b[0;34m,\u001b[0m \u001b[0mvalue\u001b[0m\u001b[0;34m)\u001b[0m\u001b[0;34m\u001b[0m\u001b[0;34m\u001b[0m\u001b[0m\n",
            "\u001b[0;32m/usr/local/lib/python3.10/dist-packages/traitlets/traitlets.py\u001b[0m in \u001b[0;36mvalidate\u001b[0;34m(self, obj, value)\u001b[0m\n\u001b[1;32m   2300\u001b[0m                 \u001b[0;32mexcept\u001b[0m \u001b[0mTraitError\u001b[0m\u001b[0;34m:\u001b[0m\u001b[0;34m\u001b[0m\u001b[0;34m\u001b[0m\u001b[0m\n\u001b[1;32m   2301\u001b[0m                     \u001b[0;32mcontinue\u001b[0m\u001b[0;34m\u001b[0m\u001b[0;34m\u001b[0m\u001b[0m\n\u001b[0;32m-> 2302\u001b[0;31m         \u001b[0mself\u001b[0m\u001b[0;34m.\u001b[0m\u001b[0merror\u001b[0m\u001b[0;34m(\u001b[0m\u001b[0mobj\u001b[0m\u001b[0;34m,\u001b[0m \u001b[0mvalue\u001b[0m\u001b[0;34m)\u001b[0m\u001b[0;34m\u001b[0m\u001b[0;34m\u001b[0m\u001b[0m\n\u001b[0m\u001b[1;32m   2303\u001b[0m \u001b[0;34m\u001b[0m\u001b[0m\n\u001b[1;32m   2304\u001b[0m     \u001b[0;32mdef\u001b[0m \u001b[0m__or__\u001b[0m\u001b[0;34m(\u001b[0m\u001b[0mself\u001b[0m\u001b[0;34m,\u001b[0m \u001b[0mother\u001b[0m\u001b[0;34m)\u001b[0m\u001b[0;34m:\u001b[0m\u001b[0;34m\u001b[0m\u001b[0;34m\u001b[0m\u001b[0m\n",
            "\u001b[0;32m/usr/local/lib/python3.10/dist-packages/traitlets/traitlets.py\u001b[0m in \u001b[0;36merror\u001b[0;34m(self, obj, value, error, info)\u001b[0m\n\u001b[1;32m    839\u001b[0m                         \u001b[0mdescribe\u001b[0m\u001b[0;34m(\u001b[0m\u001b[0;34m\"the\"\u001b[0m\u001b[0;34m,\u001b[0m \u001b[0mvalue\u001b[0m\u001b[0;34m)\u001b[0m\u001b[0;34m,\u001b[0m\u001b[0;34m\u001b[0m\u001b[0;34m\u001b[0m\u001b[0m\n\u001b[1;32m    840\u001b[0m                     )\n\u001b[0;32m--> 841\u001b[0;31m                 \u001b[0;32mraise\u001b[0m \u001b[0mTraitError\u001b[0m\u001b[0;34m(\u001b[0m\u001b[0me\u001b[0m\u001b[0;34m)\u001b[0m\u001b[0;34m\u001b[0m\u001b[0;34m\u001b[0m\u001b[0m\n\u001b[0m\u001b[1;32m    842\u001b[0m \u001b[0;34m\u001b[0m\u001b[0m\n\u001b[1;32m    843\u001b[0m     \u001b[0;32mdef\u001b[0m \u001b[0mget_metadata\u001b[0m\u001b[0;34m(\u001b[0m\u001b[0mself\u001b[0m\u001b[0;34m,\u001b[0m \u001b[0mkey\u001b[0m\u001b[0;34m,\u001b[0m \u001b[0mdefault\u001b[0m\u001b[0;34m=\u001b[0m\u001b[0;32mNone\u001b[0m\u001b[0;34m)\u001b[0m\u001b[0;34m:\u001b[0m\u001b[0;34m\u001b[0m\u001b[0;34m\u001b[0m\u001b[0m\n",
            "\u001b[0;31mTraitError\u001b[0m: The 'target' trait of a DirectionalLight instance expected an Uninitialized or an Object3D, not the str 'IPY_MODEL_37e583f3-c979-4f27-adb8-952e10eb5d25'."
          ]
        }
      ],
      "source": [
        "u = compute_deepsdf(net_sdf, 40)\n",
        "vertices, triangles = mcubes.marching_cubes(u,0)\n",
        "mesh = TriMesh(vertices, triangles)\n",
        "mcubes.export_obj(vertices, triangles, 'result_deepsdf.obj')\n",
        "plu.plot(mesh)"
      ]
    },
    {
      "cell_type": "markdown",
      "id": "d9be6066-adbf-4ef8-9cec-103a933d58de",
      "metadata": {
        "id": "d9be6066-adbf-4ef8-9cec-103a933d58de"
      },
      "source": [
        "# Unsigned Distance Function\n",
        "\n",
        "In this case (paper <a href=\"https://arxiv.org/pdf/1911.10414\">link</a>), the objective is to learn directly on raw point clouds, without pre-processing to predicts normals/orientation of the shape. To reach this objective, the authors notice the following:\n",
        "- Using the usigned distance function (absolute value of the predicted SDF) is then necessary\n",
        "- Carefully choosing the points where to predict the distance is crucial\n",
        "- Weights initialization is to be changed\n",
        "\n",
        "The modification to SDF is simple : the loss is now computed by sampling points around each data point $x_i$ , following a centered Gaussian distribution of variance $\\sigma²$:\n",
        "\n",
        "$$\n",
        "\\mathcal{L}(\\theta) = \\sum_i \\mathbb{E}_{x \\sim \\mathcal{N}(x_i, \\sigma^2)}[(|u_{\\theta}(x)| - |\\text{SDF}_{\\text{GT}}](x)|)^2)]\n",
        "$$\n",
        "\n",
        "where $\\sigma$ is a parameter that you can play with, and $\\text{SDF}_{\\text{GT}}(x)$ is simply $\\text{dist}(x_i, x)$.\n",
        "\n",
        "The last linear layer is now initialized too, with weights following $\\mathcal{N}\\left(0, 2\\sqrt{\\pi}\\right)$ law and bias initialized to -1. The last layer activation is now $\\phi(a) = \\text{tanh}(a) + \\gamma a$. Gamma parameter now equals to 0.5."
      ]
    },
    {
      "cell_type": "markdown",
      "id": "re66I8b9bSVG",
      "metadata": {
        "id": "re66I8b9bSVG"
      },
      "source": [
        "## Neural network\n",
        "- Modify SDFNet with sal_init, such that when sal_init=True, the last layer is initialized properly\n",
        "- Take in account gamma parameter in the network logic"
      ]
    },
    {
      "cell_type": "code",
      "source": [
        "def custom_init_last_layer(m):\n",
        "\n",
        "    if isinstance(m, nn.Linear):\n",
        "\n",
        "        n = m.weight.size(0)\n",
        "\n",
        "\n",
        "        nn.init.normal_(m.weight, mean=0, std=2*(np.pi)**0.5)\n",
        "\n",
        "\n",
        "        if m.bias is not None:\n",
        "            nn.init.constant_(m.bias, -1)"
      ],
      "metadata": {
        "id": "w6b-2xKf5xY0"
      },
      "id": "w6b-2xKf5xY0",
      "execution_count": 24,
      "outputs": []
    },
    {
      "cell_type": "code",
      "execution_count": 25,
      "metadata": {
        "id": "oJ4MWphU5lum"
      },
      "outputs": [],
      "source": [
        "class SDFNet(nn.Module):\n",
        "    def __init__(self, ninputchannels, dropout=0.2, gamma=0, sal_init=False, eik=False):\n",
        "        super(SDFNet, self).__init__()\n",
        "        ## Prepare the layers\n",
        "        ## Don't forget to initialize your weights correctly.\n",
        "\n",
        "        ## gamma, sal_init, eik are for later\n",
        "        self.gamma=gamma\n",
        "        self.eik = eik\n",
        "        self.sal_init=sal_init\n",
        "        self.layers=nn.ModuleList()\n",
        "        for i in range(7):\n",
        "          if i==0:\n",
        "            self.layers.append(nn.Linear(ninputchannels,512))\n",
        "          elif i==4:\n",
        "            self.layers.append(nn.Linear(ninputchannels+512,512))\n",
        "          else:\n",
        "\n",
        "            self.layers.append(nn.Linear(512, 512))  # Example layer dimensions\n",
        "        self.last_layer = nn.Linear(512, 1)\n",
        "\n",
        "        self.layers.apply(custom_init)\n",
        "        if self.sal_init:\n",
        "          self.last_layer.apply(custom_init_last_layer)\n",
        "\n",
        "\n",
        "\n",
        "\n",
        "\n",
        "    def forward(self,x):\n",
        "        ## Logic of the neural network\n",
        "        ## You can add dropout if you want\n",
        "        x0=x\n",
        "        for i in range(len(self.layers)):\n",
        "          if i==4:\n",
        "            x=torch.cat((x0,x),dim=1)\n",
        "\n",
        "          x = self.layers[i](x)\n",
        "          x = torch.relu(x)\n",
        "        x = self.last_layer(x)\n",
        "        if self.sal_init:\n",
        "          x=torch.tanh(x)+self.gamma*x\n",
        "        else:\n",
        "          x=torch.tanh(x)\n",
        "\n",
        "        return x"
      ],
      "id": "oJ4MWphU5lum"
    },
    {
      "cell_type": "markdown",
      "id": "4df7cc7d",
      "metadata": {
        "id": "4df7cc7d"
      },
      "source": [
        "## Loss function\n",
        "Implement the SAL loss function"
      ]
    },
    {
      "cell_type": "code",
      "execution_count": 61,
      "id": "ef5cedb8-b629-434b-8180-d7d713bb79fe",
      "metadata": {
        "id": "ef5cedb8-b629-434b-8180-d7d713bb79fe"
      },
      "outputs": [],
      "source": [
        "def evaluate_loss_sal(net, p, sigma, device, losses,batch_size=5000):\n",
        "    ## Sample batch_size points, and then sample a random point around each point\n",
        "    p=p.to(device)\n",
        "    indices=torch.randperm(p.size(0))[:batch_size]\n",
        "    indices=indices.detach().cpu().numpy()\n",
        "    p=p.detach().cpu().numpy()\n",
        "    sampled_pts=np.array([np.random.normal(center,sigma) for center in p[indices]])\n",
        "    sampled_pts=torch.from_numpy(sampled_pts).float()\n",
        "    sampled_pts = sampled_pts.to(device)\n",
        "\n",
        "    predicted_sdf = net(sampled_pts).squeeze()\n",
        "    p=torch.from_numpy(p).float().to(device)\n",
        "    true_sdf=torch.norm(sampled_pts-p[indices],dim=1)**2\n",
        "\n",
        "\n",
        "\n",
        "\n",
        "\n",
        "\n",
        "\n",
        "\n",
        "\n",
        "\n",
        "\n",
        "\n",
        "    # evaluate distances and compute the loss\n",
        "    # compute and store the losses\n",
        "    loss = torch.sum((torch.abs(predicted_sdf)-torch.abs(true_sdf))**2,axis=0)\n",
        "    losses.append(loss.item())\n",
        "\n",
        "    return loss"
      ]
    },
    {
      "cell_type": "code",
      "execution_count": 33,
      "id": "8a0cec68-0e84-4bdb-99bd-3b031fee9af1",
      "metadata": {
        "id": "8a0cec68-0e84-4bdb-99bd-3b031fee9af1"
      },
      "outputs": [],
      "source": [
        "def training_sal(point_cloud, loss_function, sigma=0.02):\n",
        "    geomnet = SDFNet(3, gamma=0.5, sal_init=True)\n",
        "    geomnet.to(device)\n",
        "\n",
        "    pc_norm = get_normalized_pointcloud(point_cloud)\n",
        "    points_torch = torch.from_numpy(pc_norm).float().to(device)\n",
        "\n",
        "    lpc = []\n",
        "\n",
        "    optim = torch.optim.Adam(params = geomnet.parameters(), lr=1e-4)\n",
        "\n",
        "    nepochs=5000\n",
        "    pbar = tqdm(total=nepochs,\n",
        "                desc=\"Training\")\n",
        "\n",
        "    for epoch in range(nepochs):\n",
        "        loss = loss_function(geomnet, points_torch, sigma, device, lpc, batch_size=5000)\n",
        "        optim.zero_grad()\n",
        "        loss.backward()\n",
        "        optim.step()\n",
        "        if epoch % 100 == 0:\n",
        "        #     print(f\"Epoch {epoch}/{nepochs} - loss : {loss.item()}\")\n",
        "            pbar.set_postfix({'loss': loss.item()})\n",
        "        pbar.update(1)\n",
        "\n",
        "\n",
        "    return lpc, geomnet"
      ]
    },
    {
      "cell_type": "code",
      "execution_count": 62,
      "id": "85f7c7ba-6728-43e8-a800-4189075c512d",
      "metadata": {
        "id": "85f7c7ba-6728-43e8-a800-4189075c512d",
        "colab": {
          "base_uri": "https://localhost:8080/",
          "height": 344,
          "referenced_widgets": [
            "ff67709666a844ed81ca9615b425c83c",
            "f7ba6fa23362497e9eea845cd1b0d07b",
            "fd42e9b8d3c04f829de18b0620d13d49",
            "46faedc3281f45069491b148e815ba6b",
            "de376739a9ee44c5a6b8fe1afea86c81",
            "4dea44c2e90b4a7a98821f23d160986f",
            "162c0330a5c2420787cf0937c120b6de",
            "500c1fc33b2f463a89dfc9a82eb467d4",
            "6629a6d002584083b6c5004a9678f8c9",
            "45722705cfa142f3b24e7734595cfad6",
            "5f8039994e054e57884c1ee546801000"
          ]
        },
        "outputId": "dacf2013-b9d9-4955-bc04-015c3b67ad70"
      },
      "outputs": [
        {
          "output_type": "display_data",
          "data": {
            "text/plain": [
              "Training:   0%|          | 0/5000 [00:00<?, ?it/s]"
            ],
            "application/vnd.jupyter.widget-view+json": {
              "version_major": 2,
              "version_minor": 0,
              "model_id": "ff67709666a844ed81ca9615b425c83c"
            }
          },
          "metadata": {
            "application/vnd.jupyter.widget-view+json": {
              "colab": {
                "custom_widget_manager": {
                  "url": "https://ssl.gstatic.com/colaboratory-static/widgets/colab-cdn-widget-manager/2b70e893a8ba7c0f/manager.min.js"
                }
              }
            }
          }
        },
        {
          "output_type": "error",
          "ename": "RuntimeError",
          "evalue": "The size of tensor a (25000) must match the size of tensor b (5000) at non-singleton dimension 0",
          "traceback": [
            "\u001b[0;31m---------------------------------------------------------------------------\u001b[0m",
            "\u001b[0;31mRuntimeError\u001b[0m                              Traceback (most recent call last)",
            "\u001b[0;32m<ipython-input-62-86524525a273>\u001b[0m in \u001b[0;36m<cell line: 2>\u001b[0;34m()\u001b[0m\n\u001b[1;32m      1\u001b[0m \u001b[0;31m# If you get an error: did you modify SDFNet according to the instructions?\u001b[0m\u001b[0;34m\u001b[0m\u001b[0;34m\u001b[0m\u001b[0m\n\u001b[0;32m----> 2\u001b[0;31m \u001b[0mloss_sal\u001b[0m\u001b[0;34m,\u001b[0m \u001b[0mnet_sal\u001b[0m \u001b[0;34m=\u001b[0m \u001b[0mtraining_sal\u001b[0m\u001b[0;34m(\u001b[0m\u001b[0mpc\u001b[0m\u001b[0;34m,\u001b[0m \u001b[0mevaluate_loss_sal\u001b[0m\u001b[0;34m,\u001b[0m \u001b[0msigma\u001b[0m\u001b[0;34m=\u001b[0m\u001b[0;36m0.02\u001b[0m\u001b[0;34m)\u001b[0m\u001b[0;34m\u001b[0m\u001b[0;34m\u001b[0m\u001b[0m\n\u001b[0m",
            "\u001b[0;32m<ipython-input-33-73448dd483ec>\u001b[0m in \u001b[0;36mtraining_sal\u001b[0;34m(point_cloud, loss_function, sigma)\u001b[0m\n\u001b[1;32m     15\u001b[0m \u001b[0;34m\u001b[0m\u001b[0m\n\u001b[1;32m     16\u001b[0m     \u001b[0;32mfor\u001b[0m \u001b[0mepoch\u001b[0m \u001b[0;32min\u001b[0m \u001b[0mrange\u001b[0m\u001b[0;34m(\u001b[0m\u001b[0mnepochs\u001b[0m\u001b[0;34m)\u001b[0m\u001b[0;34m:\u001b[0m\u001b[0;34m\u001b[0m\u001b[0;34m\u001b[0m\u001b[0m\n\u001b[0;32m---> 17\u001b[0;31m         \u001b[0mloss\u001b[0m \u001b[0;34m=\u001b[0m \u001b[0mloss_function\u001b[0m\u001b[0;34m(\u001b[0m\u001b[0mgeomnet\u001b[0m\u001b[0;34m,\u001b[0m \u001b[0mpoints_torch\u001b[0m\u001b[0;34m,\u001b[0m \u001b[0msigma\u001b[0m\u001b[0;34m,\u001b[0m \u001b[0mdevice\u001b[0m\u001b[0;34m,\u001b[0m \u001b[0mlpc\u001b[0m\u001b[0;34m,\u001b[0m \u001b[0mbatch_size\u001b[0m\u001b[0;34m=\u001b[0m\u001b[0;36m5000\u001b[0m\u001b[0;34m)\u001b[0m\u001b[0;34m\u001b[0m\u001b[0;34m\u001b[0m\u001b[0m\n\u001b[0m\u001b[1;32m     18\u001b[0m         \u001b[0moptim\u001b[0m\u001b[0;34m.\u001b[0m\u001b[0mzero_grad\u001b[0m\u001b[0;34m(\u001b[0m\u001b[0;34m)\u001b[0m\u001b[0;34m\u001b[0m\u001b[0;34m\u001b[0m\u001b[0m\n\u001b[1;32m     19\u001b[0m         \u001b[0mloss\u001b[0m\u001b[0;34m.\u001b[0m\u001b[0mbackward\u001b[0m\u001b[0;34m(\u001b[0m\u001b[0;34m)\u001b[0m\u001b[0;34m\u001b[0m\u001b[0;34m\u001b[0m\u001b[0m\n",
            "\u001b[0;32m<ipython-input-61-bbe80aa6ceb3>\u001b[0m in \u001b[0;36mevaluate_loss_sal\u001b[0;34m(net, p, sigma, device, losses, batch_size)\u001b[0m\n\u001b[1;32m     11\u001b[0m     \u001b[0mpredicted_sdf\u001b[0m \u001b[0;34m=\u001b[0m \u001b[0mnet\u001b[0m\u001b[0;34m(\u001b[0m\u001b[0msampled_pts_flat\u001b[0m\u001b[0;34m)\u001b[0m\u001b[0;34m.\u001b[0m\u001b[0msqueeze\u001b[0m\u001b[0;34m(\u001b[0m\u001b[0;34m)\u001b[0m\u001b[0;34m.\u001b[0m\u001b[0mview\u001b[0m\u001b[0;34m(\u001b[0m\u001b[0mbatch_size\u001b[0m\u001b[0;34m,\u001b[0m\u001b[0;36m5\u001b[0m\u001b[0;34m)\u001b[0m\u001b[0;34m\u001b[0m\u001b[0;34m\u001b[0m\u001b[0m\n\u001b[1;32m     12\u001b[0m     \u001b[0mp\u001b[0m\u001b[0;34m=\u001b[0m\u001b[0mtorch\u001b[0m\u001b[0;34m.\u001b[0m\u001b[0mfrom_numpy\u001b[0m\u001b[0;34m(\u001b[0m\u001b[0mp\u001b[0m\u001b[0;34m)\u001b[0m\u001b[0;34m.\u001b[0m\u001b[0mfloat\u001b[0m\u001b[0;34m(\u001b[0m\u001b[0;34m)\u001b[0m\u001b[0;34m.\u001b[0m\u001b[0mto\u001b[0m\u001b[0;34m(\u001b[0m\u001b[0mdevice\u001b[0m\u001b[0;34m)\u001b[0m\u001b[0;34m\u001b[0m\u001b[0;34m\u001b[0m\u001b[0m\n\u001b[0;32m---> 13\u001b[0;31m     \u001b[0mtrue_sdf\u001b[0m\u001b[0;34m=\u001b[0m\u001b[0mtorch\u001b[0m\u001b[0;34m.\u001b[0m\u001b[0mnorm\u001b[0m\u001b[0;34m(\u001b[0m\u001b[0msampled_pts_flat\u001b[0m\u001b[0;34m-\u001b[0m\u001b[0mp\u001b[0m\u001b[0;34m[\u001b[0m\u001b[0mindices\u001b[0m\u001b[0;34m]\u001b[0m\u001b[0;34m,\u001b[0m\u001b[0mdim\u001b[0m\u001b[0;34m=\u001b[0m\u001b[0;36m1\u001b[0m\u001b[0;34m)\u001b[0m\u001b[0;34m**\u001b[0m\u001b[0;36m2\u001b[0m\u001b[0;34m\u001b[0m\u001b[0;34m\u001b[0m\u001b[0m\n\u001b[0m\u001b[1;32m     14\u001b[0m \u001b[0;34m\u001b[0m\u001b[0m\n\u001b[1;32m     15\u001b[0m \u001b[0;34m\u001b[0m\u001b[0m\n",
            "\u001b[0;31mRuntimeError\u001b[0m: The size of tensor a (25000) must match the size of tensor b (5000) at non-singleton dimension 0"
          ]
        }
      ],
      "source": [
        "# If you get an error: did you modify SDFNet according to the instructions?\n",
        "loss_sal, net_sal = training_sal(pc, evaluate_loss_sal, sigma=0.02)"
      ]
    },
    {
      "cell_type": "code",
      "execution_count": 35,
      "id": "1cfb9856-af01-407e-b387-2ad404d4fbe6",
      "metadata": {
        "id": "1cfb9856-af01-407e-b387-2ad404d4fbe6",
        "colab": {
          "base_uri": "https://localhost:8080/",
          "height": 388
        },
        "outputId": "896fba0b-09ac-47f5-9703-64e55d127c41"
      },
      "outputs": [
        {
          "output_type": "display_data",
          "data": {
            "text/plain": [
              "<Figure size 600x400 with 1 Axes>"
            ],
            "image/png": "[encoded data removed]"
          },
          "metadata": {}
        }
      ],
      "source": [
        "# Check that the network learned something\n",
        "plt.figure(figsize=(6,4))\n",
        "plt.yscale('log')\n",
        "plt.plot(loss_sal, label = 'Point cloud loss ({:.2f})'.format(loss_[-1]))\n",
        "plt.xlabel(\"Epochs\")\n",
        "plt.legend()\n",
        "plt.show()"
      ]
    },
    {
      "cell_type": "code",
      "execution_count": 36,
      "id": "a178da71-9471-4bff-b4ad-879a79a6ec8c",
      "metadata": {
        "id": "a178da71-9471-4bff-b4ad-879a79a6ec8c",
        "colab": {
          "base_uri": "https://localhost:8080/",
          "height": 1000,
          "referenced_widgets": [
            "4327ba7a042d4c5aab6cac7c97190a73",
            "b319e91d9b774015b4b8ded4ca2a9fa9",
            "23b7b8203cc842959f8c612282063394",
            "fcb8c0a666fc4d698e855dfea1d7c2c8",
            "0bf08e4b527a4b829431eadde9291c3b",
            "40b6d48b20fb417a8651d8c5c47c8d4e",
            "178ff6bce1d041bdb15cafa9fe44cd5a",
            "885a68fac92f49cd8466ae36ef727652",
            "a97278ddef3b41aab98f5bcdb1bf1f14",
            "113ed98279764ab0a640d9c4245add33",
            "20858e485b834e4e89e8ec0f20702504",
            "c8e980a59ef9490ebd72472c9cfc3c27",
            "443da82cb21c4079821b503a0505cbe6",
            "90ea8f27d23a44e2a18a7d569b69918b"
          ]
        },
        "outputId": "c74bc34e-3fbc-4e06-b2e4-57fbd99b153b"
      },
      "outputs": [
        {
          "output_type": "display_data",
          "data": {
            "text/plain": [
              "Renderer(camera=PerspectiveCamera(children=(DirectionalLight(color='white', intensity=0.6, position=(19.5, 19.…"
            ],
            "application/vnd.jupyter.widget-view+json": {
              "version_major": 2,
              "version_minor": 0,
              "model_id": "4327ba7a042d4c5aab6cac7c97190a73"
            }
          },
          "metadata": {
            "application/vnd.jupyter.widget-view+json": {
              "colab": {
                "custom_widget_manager": {
                  "url": "https://ssl.gstatic.com/colaboratory-static/widgets/colab-cdn-widget-manager/2b70e893a8ba7c0f/manager.min.js"
                }
              }
            }
          }
        },
        {
          "output_type": "execute_result",
          "data": {
            "text/plain": [
              "<meshplot.Viewer.Viewer at 0x7faecd820760>"
            ]
          },
          "metadata": {},
          "execution_count": 36
        },
        {
          "output_type": "error",
          "ename": "TraitError",
          "evalue": "The 'target' trait of a DirectionalLight instance expected an Uninitialized or an Object3D, not the str 'IPY_MODEL_46666be2-1418-4ed8-b996-abee0b9c9631'.",
          "traceback": [
            "\u001b[0;31m---------------------------------------------------------------------------\u001b[0m",
            "\u001b[0;31mTraitError\u001b[0m                                Traceback (most recent call last)",
            "\u001b[0;32m/usr/local/lib/python3.10/dist-packages/ipywidgets/widgets/widget.py\u001b[0m in \u001b[0;36m_handle_msg\u001b[0;34m(self, msg)\u001b[0m\n\u001b[1;32m    754\u001b[0m                 \u001b[0;32mif\u001b[0m \u001b[0;34m'buffer_paths'\u001b[0m \u001b[0;32min\u001b[0m \u001b[0mdata\u001b[0m\u001b[0;34m:\u001b[0m\u001b[0;34m\u001b[0m\u001b[0;34m\u001b[0m\u001b[0m\n\u001b[1;32m    755\u001b[0m                     \u001b[0m_put_buffers\u001b[0m\u001b[0;34m(\u001b[0m\u001b[0mstate\u001b[0m\u001b[0;34m,\u001b[0m \u001b[0mdata\u001b[0m\u001b[0;34m[\u001b[0m\u001b[0;34m'buffer_paths'\u001b[0m\u001b[0;34m]\u001b[0m\u001b[0;34m,\u001b[0m \u001b[0mmsg\u001b[0m\u001b[0;34m[\u001b[0m\u001b[0;34m'buffers'\u001b[0m\u001b[0;34m]\u001b[0m\u001b[0;34m)\u001b[0m\u001b[0;34m\u001b[0m\u001b[0;34m\u001b[0m\u001b[0m\n\u001b[0;32m--> 756\u001b[0;31m                 \u001b[0mself\u001b[0m\u001b[0;34m.\u001b[0m\u001b[0mset_state\u001b[0m\u001b[0;34m(\u001b[0m\u001b[0mstate\u001b[0m\u001b[0;34m)\u001b[0m\u001b[0;34m\u001b[0m\u001b[0;34m\u001b[0m\u001b[0m\n\u001b[0m\u001b[1;32m    757\u001b[0m \u001b[0;34m\u001b[0m\u001b[0m\n\u001b[1;32m    758\u001b[0m         \u001b[0;31m# Handle a state request.\u001b[0m\u001b[0;34m\u001b[0m\u001b[0;34m\u001b[0m\u001b[0m\n",
            "\u001b[0;32m/usr/local/lib/python3.10/dist-packages/ipywidgets/widgets/widget.py\u001b[0m in \u001b[0;36mset_state\u001b[0;34m(self, sync_data)\u001b[0m\n\u001b[1;32m    623\u001b[0m                     from_json = self.trait_metadata(name, 'from_json',\n\u001b[1;32m    624\u001b[0m                                                     self._trait_from_json)\n\u001b[0;32m--> 625\u001b[0;31m                     \u001b[0mself\u001b[0m\u001b[0;34m.\u001b[0m\u001b[0mset_trait\u001b[0m\u001b[0;34m(\u001b[0m\u001b[0mname\u001b[0m\u001b[0;34m,\u001b[0m \u001b[0mfrom_json\u001b[0m\u001b[0;34m(\u001b[0m\u001b[0msync_data\u001b[0m\u001b[0;34m[\u001b[0m\u001b[0mname\u001b[0m\u001b[0;34m]\u001b[0m\u001b[0;34m,\u001b[0m \u001b[0mself\u001b[0m\u001b[0;34m)\u001b[0m\u001b[0;34m)\u001b[0m\u001b[0;34m\u001b[0m\u001b[0;34m\u001b[0m\u001b[0m\n\u001b[0m\u001b[1;32m    626\u001b[0m \u001b[0;34m\u001b[0m\u001b[0m\n\u001b[1;32m    627\u001b[0m     \u001b[0;32mdef\u001b[0m \u001b[0msend\u001b[0m\u001b[0;34m(\u001b[0m\u001b[0mself\u001b[0m\u001b[0;34m,\u001b[0m \u001b[0mcontent\u001b[0m\u001b[0;34m,\u001b[0m \u001b[0mbuffers\u001b[0m\u001b[0;34m=\u001b[0m\u001b[0;32mNone\u001b[0m\u001b[0;34m)\u001b[0m\u001b[0;34m:\u001b[0m\u001b[0;34m\u001b[0m\u001b[0;34m\u001b[0m\u001b[0m\n",
            "\u001b[0;32m/usr/local/lib/python3.10/dist-packages/traitlets/traitlets.py\u001b[0m in \u001b[0;36mset_trait\u001b[0;34m(self, name, value)\u001b[0m\n\u001b[1;32m   1736\u001b[0m             \u001b[0;32mraise\u001b[0m \u001b[0mTraitError\u001b[0m\u001b[0;34m(\u001b[0m\u001b[0;34mf\"Class {cls.__name__} does not have a trait named {name}\"\u001b[0m\u001b[0;34m)\u001b[0m\u001b[0;34m\u001b[0m\u001b[0;34m\u001b[0m\u001b[0m\n\u001b[1;32m   1737\u001b[0m         \u001b[0;32melse\u001b[0m\u001b[0;34m:\u001b[0m\u001b[0;34m\u001b[0m\u001b[0;34m\u001b[0m\u001b[0m\n\u001b[0;32m-> 1738\u001b[0;31m             \u001b[0mgetattr\u001b[0m\u001b[0;34m(\u001b[0m\u001b[0mcls\u001b[0m\u001b[0;34m,\u001b[0m \u001b[0mname\u001b[0m\u001b[0;34m)\u001b[0m\u001b[0;34m.\u001b[0m\u001b[0mset\u001b[0m\u001b[0;34m(\u001b[0m\u001b[0mself\u001b[0m\u001b[0;34m,\u001b[0m \u001b[0mvalue\u001b[0m\u001b[0;34m)\u001b[0m\u001b[0;34m\u001b[0m\u001b[0;34m\u001b[0m\u001b[0m\n\u001b[0m\u001b[1;32m   1739\u001b[0m \u001b[0;34m\u001b[0m\u001b[0m\n\u001b[1;32m   1740\u001b[0m     \u001b[0;34m@\u001b[0m\u001b[0mclassmethod\u001b[0m\u001b[0;34m\u001b[0m\u001b[0;34m\u001b[0m\u001b[0m\n",
            "\u001b[0;32m/usr/local/lib/python3.10/dist-packages/traitlets/traitlets.py\u001b[0m in \u001b[0;36mset\u001b[0;34m(self, obj, value)\u001b[0m\n\u001b[1;32m    701\u001b[0m \u001b[0;34m\u001b[0m\u001b[0m\n\u001b[1;32m    702\u001b[0m     \u001b[0;32mdef\u001b[0m \u001b[0mset\u001b[0m\u001b[0;34m(\u001b[0m\u001b[0mself\u001b[0m\u001b[0;34m,\u001b[0m \u001b[0mobj\u001b[0m\u001b[0;34m,\u001b[0m \u001b[0mvalue\u001b[0m\u001b[0;34m)\u001b[0m\u001b[0;34m:\u001b[0m\u001b[0;34m\u001b[0m\u001b[0;34m\u001b[0m\u001b[0m\n\u001b[0;32m--> 703\u001b[0;31m         \u001b[0mnew_value\u001b[0m \u001b[0;34m=\u001b[0m \u001b[0mself\u001b[0m\u001b[0;34m.\u001b[0m\u001b[0m_validate\u001b[0m\u001b[0;34m(\u001b[0m\u001b[0mobj\u001b[0m\u001b[0;34m,\u001b[0m \u001b[0mvalue\u001b[0m\u001b[0;34m)\u001b[0m\u001b[0;34m\u001b[0m\u001b[0;34m\u001b[0m\u001b[0m\n\u001b[0m\u001b[1;32m    704\u001b[0m         \u001b[0;32mtry\u001b[0m\u001b[0;34m:\u001b[0m\u001b[0;34m\u001b[0m\u001b[0;34m\u001b[0m\u001b[0m\n\u001b[1;32m    705\u001b[0m             \u001b[0mold_value\u001b[0m \u001b[0;34m=\u001b[0m \u001b[0mobj\u001b[0m\u001b[0;34m.\u001b[0m\u001b[0m_trait_values\u001b[0m\u001b[0;34m[\u001b[0m\u001b[0mself\u001b[0m\u001b[0;34m.\u001b[0m\u001b[0mname\u001b[0m\u001b[0;34m]\u001b[0m\u001b[0;34m\u001b[0m\u001b[0;34m\u001b[0m\u001b[0m\n",
            "\u001b[0;32m/usr/local/lib/python3.10/dist-packages/traitlets/traitlets.py\u001b[0m in \u001b[0;36m_validate\u001b[0;34m(self, obj, value)\u001b[0m\n\u001b[1;32m    733\u001b[0m             \u001b[0;32mreturn\u001b[0m \u001b[0mvalue\u001b[0m\u001b[0;34m\u001b[0m\u001b[0;34m\u001b[0m\u001b[0m\n\u001b[1;32m    734\u001b[0m         \u001b[0;32mif\u001b[0m \u001b[0mhasattr\u001b[0m\u001b[0;34m(\u001b[0m\u001b[0mself\u001b[0m\u001b[0;34m,\u001b[0m \u001b[0;34m\"validate\"\u001b[0m\u001b[0;34m)\u001b[0m\u001b[0;34m:\u001b[0m\u001b[0;34m\u001b[0m\u001b[0;34m\u001b[0m\u001b[0m\n\u001b[0;32m--> 735\u001b[0;31m             \u001b[0mvalue\u001b[0m \u001b[0;34m=\u001b[0m \u001b[0mself\u001b[0m\u001b[0;34m.\u001b[0m\u001b[0mvalidate\u001b[0m\u001b[0;34m(\u001b[0m\u001b[0mobj\u001b[0m\u001b[0;34m,\u001b[0m \u001b[0mvalue\u001b[0m\u001b[0;34m)\u001b[0m\u001b[0;34m\u001b[0m\u001b[0;34m\u001b[0m\u001b[0m\n\u001b[0m\u001b[1;32m    736\u001b[0m         \u001b[0;32mif\u001b[0m \u001b[0mobj\u001b[0m\u001b[0;34m.\u001b[0m\u001b[0m_cross_validation_lock\u001b[0m \u001b[0;32mis\u001b[0m \u001b[0;32mFalse\u001b[0m\u001b[0;34m:\u001b[0m\u001b[0;34m\u001b[0m\u001b[0;34m\u001b[0m\u001b[0m\n\u001b[1;32m    737\u001b[0m             \u001b[0mvalue\u001b[0m \u001b[0;34m=\u001b[0m \u001b[0mself\u001b[0m\u001b[0;34m.\u001b[0m\u001b[0m_cross_validate\u001b[0m\u001b[0;34m(\u001b[0m\u001b[0mobj\u001b[0m\u001b[0;34m,\u001b[0m \u001b[0mvalue\u001b[0m\u001b[0;34m)\u001b[0m\u001b[0;34m\u001b[0m\u001b[0;34m\u001b[0m\u001b[0m\n",
            "\u001b[0;32m/usr/local/lib/python3.10/dist-packages/traitlets/traitlets.py\u001b[0m in \u001b[0;36mvalidate\u001b[0;34m(self, obj, value)\u001b[0m\n\u001b[1;32m   2300\u001b[0m                 \u001b[0;32mexcept\u001b[0m \u001b[0mTraitError\u001b[0m\u001b[0;34m:\u001b[0m\u001b[0;34m\u001b[0m\u001b[0;34m\u001b[0m\u001b[0m\n\u001b[1;32m   2301\u001b[0m                     \u001b[0;32mcontinue\u001b[0m\u001b[0;34m\u001b[0m\u001b[0;34m\u001b[0m\u001b[0m\n\u001b[0;32m-> 2302\u001b[0;31m         \u001b[0mself\u001b[0m\u001b[0;34m.\u001b[0m\u001b[0merror\u001b[0m\u001b[0;34m(\u001b[0m\u001b[0mobj\u001b[0m\u001b[0;34m,\u001b[0m \u001b[0mvalue\u001b[0m\u001b[0;34m)\u001b[0m\u001b[0;34m\u001b[0m\u001b[0;34m\u001b[0m\u001b[0m\n\u001b[0m\u001b[1;32m   2303\u001b[0m \u001b[0;34m\u001b[0m\u001b[0m\n\u001b[1;32m   2304\u001b[0m     \u001b[0;32mdef\u001b[0m \u001b[0m__or__\u001b[0m\u001b[0;34m(\u001b[0m\u001b[0mself\u001b[0m\u001b[0;34m,\u001b[0m \u001b[0mother\u001b[0m\u001b[0;34m)\u001b[0m\u001b[0;34m:\u001b[0m\u001b[0;34m\u001b[0m\u001b[0;34m\u001b[0m\u001b[0m\n",
            "\u001b[0;32m/usr/local/lib/python3.10/dist-packages/traitlets/traitlets.py\u001b[0m in \u001b[0;36merror\u001b[0;34m(self, obj, value, error, info)\u001b[0m\n\u001b[1;32m    839\u001b[0m                         \u001b[0mdescribe\u001b[0m\u001b[0;34m(\u001b[0m\u001b[0;34m\"the\"\u001b[0m\u001b[0;34m,\u001b[0m \u001b[0mvalue\u001b[0m\u001b[0;34m)\u001b[0m\u001b[0;34m,\u001b[0m\u001b[0;34m\u001b[0m\u001b[0;34m\u001b[0m\u001b[0m\n\u001b[1;32m    840\u001b[0m                     )\n\u001b[0;32m--> 841\u001b[0;31m                 \u001b[0;32mraise\u001b[0m \u001b[0mTraitError\u001b[0m\u001b[0;34m(\u001b[0m\u001b[0me\u001b[0m\u001b[0;34m)\u001b[0m\u001b[0;34m\u001b[0m\u001b[0;34m\u001b[0m\u001b[0m\n\u001b[0m\u001b[1;32m    842\u001b[0m \u001b[0;34m\u001b[0m\u001b[0m\n\u001b[1;32m    843\u001b[0m     \u001b[0;32mdef\u001b[0m \u001b[0mget_metadata\u001b[0m\u001b[0;34m(\u001b[0m\u001b[0mself\u001b[0m\u001b[0;34m,\u001b[0m \u001b[0mkey\u001b[0m\u001b[0;34m,\u001b[0m \u001b[0mdefault\u001b[0m\u001b[0;34m=\u001b[0m\u001b[0;32mNone\u001b[0m\u001b[0;34m)\u001b[0m\u001b[0;34m:\u001b[0m\u001b[0;34m\u001b[0m\u001b[0;34m\u001b[0m\u001b[0m\n",
            "\u001b[0;31mTraitError\u001b[0m: The 'target' trait of a DirectionalLight instance expected an Uninitialized or an Object3D, not the str 'IPY_MODEL_46666be2-1418-4ed8-b996-abee0b9c9631'."
          ]
        }
      ],
      "source": [
        "u = compute_deepsdf(net_sal, 40)\n",
        "vertices, triangles = mcubes.marching_cubes(u,0)\n",
        "mesh = TriMesh(vertices, triangles)\n",
        "plu.plot(mesh)"
      ]
    },
    {
      "cell_type": "markdown",
      "id": "a09fe661-0a7e-49d7-91c8-e1bf752f0ac6",
      "metadata": {
        "id": "a09fe661-0a7e-49d7-91c8-e1bf752f0ac6"
      },
      "source": [
        "The produced signed distances using the proposed are too smooth and can't overfit a single shape. Therefore, the authors propose to learn the $L_0$ unsigned distance, by minimizing:\n",
        "\n",
        "$$\n",
        "\\mathcal{L}(\\theta) = \\sum_i \\mathbb{E}_{x \\sim \\mathcal{N}(x_i, \\sigma^2)}[||u_{\\theta}(x)| - 1|] + \\mathbb{E}_{x \\in \\mathcal{X}}[|u_{\\theta}(x)|],\n",
        "$$\n",
        "\n",
        "i.e. we want the distance to be $1$ outside of the surface, and $0$ on the surface.\n",
        "\n",
        "Write the function evaluate_loss_sal_l0 below accordingly, and launch a new training to see the effects on the results."
      ]
    },
    {
      "cell_type": "code",
      "execution_count": 55,
      "id": "e1f1f3a3-f102-4bb8-942e-cd15145e7357",
      "metadata": {
        "id": "e1f1f3a3-f102-4bb8-942e-cd15145e7357"
      },
      "outputs": [],
      "source": [
        "def evaluate_loss_sal_l0(net, p, sigma, device, losses,batch_size=5000):\n",
        "    ## Do the sampling and evaluations\n",
        "    p=p.to(device)\n",
        "    indices=torch.randperm(p.size(0))[:batch_size]\n",
        "    indices=indices.detach().cpu().numpy()\n",
        "    p=p.detach().cpu().numpy()\n",
        "    sampled_pts=np.array([np.random.normal(center,sigma,(20, 3)) for center in p[indices]])\n",
        "    sampled_pts=torch.from_numpy(sampled_pts).float()\n",
        "    sampled_pts = sampled_pts.to(device)\n",
        "    p=torch.from_numpy(p).float().to(device)\n",
        "    sampled_pts_flat = sampled_pts.view(-1, 3)\n",
        "    predicted_sdf_normal = net(sampled_pts_flat).squeeze().view(batch_size, 20)\n",
        "    predicted_sdf=net(p[indices]).squeeze()\n",
        "\n",
        "\n",
        "    # compute and store the losses\n",
        "\n",
        "    loss =torch.sum(torch.mean(torch.abs(torch.abs(predicted_sdf_normal)-1)))+torch.mean(torch.abs(predicted_sdf))\n",
        "\n",
        "    losses.append(loss.item())\n",
        "\n",
        "    return loss"
      ]
    },
    {
      "cell_type": "code",
      "execution_count": 56,
      "id": "fc552b1e-10b9-47ff-a4e3-2a17443e5886",
      "metadata": {
        "id": "fc552b1e-10b9-47ff-a4e3-2a17443e5886",
        "colab": {
          "base_uri": "https://localhost:8080/",
          "height": 49,
          "referenced_widgets": [
            "23cbc42daf54471a9c3767ec53522766",
            "04f6e07a18ad4880af4ab5e83f914c19",
            "eb353734fe4041a1843f3128ca911af7",
            "e4b197e7b6534b708e6e58f0d5b571ea",
            "1ce5cdb0ed604c8a92c5ec846074fb65",
            "c2b18e91856542ce991e1ace1f2ab27b",
            "d8bbdbe574dd455cab2b400f0365c2d5",
            "3d748844cc824175a411782d3ce9c27f",
            "22dc6db7da444a7b8bbe2c3c0b5469da",
            "29f63f912fa949bdb6b8f77776b89348",
            "fb91fc5e8a484e0c9ba0b6c2f3190d99"
          ]
        },
        "outputId": "5319508b-56e8-43fb-a670-a454bcb13f7d"
      },
      "outputs": [
        {
          "output_type": "display_data",
          "data": {
            "text/plain": [
              "Training:   0%|          | 0/5000 [00:00<?, ?it/s]"
            ],
            "application/vnd.jupyter.widget-view+json": {
              "version_major": 2,
              "version_minor": 0,
              "model_id": "23cbc42daf54471a9c3767ec53522766"
            }
          },
          "metadata": {
            "application/vnd.jupyter.widget-view+json": {
              "colab": {
                "custom_widget_manager": {
                  "url": "https://ssl.gstatic.com/colaboratory-static/widgets/colab-cdn-widget-manager/2b70e893a8ba7c0f/manager.min.js"
                }
              }
            }
          }
        }
      ],
      "source": [
        "loss_sal_0, net_sal_0 = training_sal(pc, evaluate_loss_sal_l0, sigma=0.02)"
      ]
    },
    {
      "cell_type": "code",
      "execution_count": 57,
      "id": "8906da72-95e6-496f-a613-3280125d0727",
      "metadata": {
        "id": "8906da72-95e6-496f-a613-3280125d0727",
        "colab": {
          "base_uri": "https://localhost:8080/",
          "height": 388
        },
        "outputId": "8704d921-c653-488c-cf67-c31e879b6940"
      },
      "outputs": [
        {
          "output_type": "display_data",
          "data": {
            "text/plain": [
              "<Figure size 600x400 with 1 Axes>"
            ],
            "image/png": "[encoded data removed]"
          },
          "metadata": {}
        }
      ],
      "source": [
        "# Check that the network learned something\n",
        "plt.figure(figsize=(6,4))\n",
        "plt.yscale('log')\n",
        "plt.plot(loss_sal_0, label = 'Point cloud loss ({:.2f})'.format(loss_sal_0[-1]))\n",
        "plt.xlabel(\"Epochs\")\n",
        "plt.legend()\n",
        "plt.show()"
      ]
    },
    {
      "cell_type": "code",
      "execution_count": 58,
      "id": "be1e41ee-1efd-4f15-a209-89820e62334b",
      "metadata": {
        "id": "be1e41ee-1efd-4f15-a209-89820e62334b",
        "colab": {
          "base_uri": "https://localhost:8080/",
          "height": 1000,
          "referenced_widgets": [
            "787d20af67984e29b0d9bbf61e834b8e",
            "815b0fffb8fd4daeb4daece1418ff1ad",
            "2ac353c6d90646eea4493e38bb8d267b",
            "3b6790575c274fb9bebbfdf526df68f5",
            "67536015fb2341738907d998f703dbf7",
            "6931ccc0956740e0a7f843b2b45d4710",
            "f9e2c5474f3144b1874f89004f6559bd",
            "c9546c65d5514adb878b1b86883a10d9",
            "a01cd4fea93c4670b6df3292d08f5bda",
            "c1979137512249459d3d9f32394f7429",
            "28a16b761b07485881e522ee1500da81",
            "d45e769a067f49de90c9f1d77ba2c19a",
            "a9646770eb66492f8925e258e7617328",
            "de13460347c247968682bcf5f2599506"
          ]
        },
        "outputId": "262327dc-dffb-40e7-a858-8bbef9973eba"
      },
      "outputs": [
        {
          "output_type": "display_data",
          "data": {
            "text/plain": [
              "Renderer(camera=PerspectiveCamera(children=(DirectionalLight(color='white', intensity=0.6, position=(19.5, 19.…"
            ],
            "application/vnd.jupyter.widget-view+json": {
              "version_major": 2,
              "version_minor": 0,
              "model_id": "787d20af67984e29b0d9bbf61e834b8e"
            }
          },
          "metadata": {
            "application/vnd.jupyter.widget-view+json": {
              "colab": {
                "custom_widget_manager": {
                  "url": "https://ssl.gstatic.com/colaboratory-static/widgets/colab-cdn-widget-manager/2b70e893a8ba7c0f/manager.min.js"
                }
              }
            }
          }
        },
        {
          "output_type": "execute_result",
          "data": {
            "text/plain": [
              "<meshplot.Viewer.Viewer at 0x7faecc2447f0>"
            ]
          },
          "metadata": {},
          "execution_count": 58
        },
        {
          "output_type": "error",
          "ename": "TraitError",
          "evalue": "The 'target' trait of a DirectionalLight instance expected an Uninitialized or an Object3D, not the str 'IPY_MODEL_8447c5cf-7ce9-4a2e-bac3-eeade528cbdd'.",
          "traceback": [
            "\u001b[0;31m---------------------------------------------------------------------------\u001b[0m",
            "\u001b[0;31mTraitError\u001b[0m                                Traceback (most recent call last)",
            "\u001b[0;32m/usr/local/lib/python3.10/dist-packages/ipywidgets/widgets/widget.py\u001b[0m in \u001b[0;36m_handle_msg\u001b[0;34m(self, msg)\u001b[0m\n\u001b[1;32m    754\u001b[0m                 \u001b[0;32mif\u001b[0m \u001b[0;34m'buffer_paths'\u001b[0m \u001b[0;32min\u001b[0m \u001b[0mdata\u001b[0m\u001b[0;34m:\u001b[0m\u001b[0;34m\u001b[0m\u001b[0;34m\u001b[0m\u001b[0m\n\u001b[1;32m    755\u001b[0m                     \u001b[0m_put_buffers\u001b[0m\u001b[0;34m(\u001b[0m\u001b[0mstate\u001b[0m\u001b[0;34m,\u001b[0m \u001b[0mdata\u001b[0m\u001b[0;34m[\u001b[0m\u001b[0;34m'buffer_paths'\u001b[0m\u001b[0;34m]\u001b[0m\u001b[0;34m,\u001b[0m \u001b[0mmsg\u001b[0m\u001b[0;34m[\u001b[0m\u001b[0;34m'buffers'\u001b[0m\u001b[0;34m]\u001b[0m\u001b[0;34m)\u001b[0m\u001b[0;34m\u001b[0m\u001b[0;34m\u001b[0m\u001b[0m\n\u001b[0;32m--> 756\u001b[0;31m                 \u001b[0mself\u001b[0m\u001b[0;34m.\u001b[0m\u001b[0mset_state\u001b[0m\u001b[0;34m(\u001b[0m\u001b[0mstate\u001b[0m\u001b[0;34m)\u001b[0m\u001b[0;34m\u001b[0m\u001b[0;34m\u001b[0m\u001b[0m\n\u001b[0m\u001b[1;32m    757\u001b[0m \u001b[0;34m\u001b[0m\u001b[0m\n\u001b[1;32m    758\u001b[0m         \u001b[0;31m# Handle a state request.\u001b[0m\u001b[0;34m\u001b[0m\u001b[0;34m\u001b[0m\u001b[0m\n",
            "\u001b[0;32m/usr/local/lib/python3.10/dist-packages/ipywidgets/widgets/widget.py\u001b[0m in \u001b[0;36mset_state\u001b[0;34m(self, sync_data)\u001b[0m\n\u001b[1;32m    623\u001b[0m                     from_json = self.trait_metadata(name, 'from_json',\n\u001b[1;32m    624\u001b[0m                                                     self._trait_from_json)\n\u001b[0;32m--> 625\u001b[0;31m                     \u001b[0mself\u001b[0m\u001b[0;34m.\u001b[0m\u001b[0mset_trait\u001b[0m\u001b[0;34m(\u001b[0m\u001b[0mname\u001b[0m\u001b[0;34m,\u001b[0m \u001b[0mfrom_json\u001b[0m\u001b[0;34m(\u001b[0m\u001b[0msync_data\u001b[0m\u001b[0;34m[\u001b[0m\u001b[0mname\u001b[0m\u001b[0;34m]\u001b[0m\u001b[0;34m,\u001b[0m \u001b[0mself\u001b[0m\u001b[0;34m)\u001b[0m\u001b[0;34m)\u001b[0m\u001b[0;34m\u001b[0m\u001b[0;34m\u001b[0m\u001b[0m\n\u001b[0m\u001b[1;32m    626\u001b[0m \u001b[0;34m\u001b[0m\u001b[0m\n\u001b[1;32m    627\u001b[0m     \u001b[0;32mdef\u001b[0m \u001b[0msend\u001b[0m\u001b[0;34m(\u001b[0m\u001b[0mself\u001b[0m\u001b[0;34m,\u001b[0m \u001b[0mcontent\u001b[0m\u001b[0;34m,\u001b[0m \u001b[0mbuffers\u001b[0m\u001b[0;34m=\u001b[0m\u001b[0;32mNone\u001b[0m\u001b[0;34m)\u001b[0m\u001b[0;34m:\u001b[0m\u001b[0;34m\u001b[0m\u001b[0;34m\u001b[0m\u001b[0m\n",
            "\u001b[0;32m/usr/local/lib/python3.10/dist-packages/traitlets/traitlets.py\u001b[0m in \u001b[0;36mset_trait\u001b[0;34m(self, name, value)\u001b[0m\n\u001b[1;32m   1736\u001b[0m             \u001b[0;32mraise\u001b[0m \u001b[0mTraitError\u001b[0m\u001b[0;34m(\u001b[0m\u001b[0;34mf\"Class {cls.__name__} does not have a trait named {name}\"\u001b[0m\u001b[0;34m)\u001b[0m\u001b[0;34m\u001b[0m\u001b[0;34m\u001b[0m\u001b[0m\n\u001b[1;32m   1737\u001b[0m         \u001b[0;32melse\u001b[0m\u001b[0;34m:\u001b[0m\u001b[0;34m\u001b[0m\u001b[0;34m\u001b[0m\u001b[0m\n\u001b[0;32m-> 1738\u001b[0;31m             \u001b[0mgetattr\u001b[0m\u001b[0;34m(\u001b[0m\u001b[0mcls\u001b[0m\u001b[0;34m,\u001b[0m \u001b[0mname\u001b[0m\u001b[0;34m)\u001b[0m\u001b[0;34m.\u001b[0m\u001b[0mset\u001b[0m\u001b[0;34m(\u001b[0m\u001b[0mself\u001b[0m\u001b[0;34m,\u001b[0m \u001b[0mvalue\u001b[0m\u001b[0;34m)\u001b[0m\u001b[0;34m\u001b[0m\u001b[0;34m\u001b[0m\u001b[0m\n\u001b[0m\u001b[1;32m   1739\u001b[0m \u001b[0;34m\u001b[0m\u001b[0m\n\u001b[1;32m   1740\u001b[0m     \u001b[0;34m@\u001b[0m\u001b[0mclassmethod\u001b[0m\u001b[0;34m\u001b[0m\u001b[0;34m\u001b[0m\u001b[0m\n",
            "\u001b[0;32m/usr/local/lib/python3.10/dist-packages/traitlets/traitlets.py\u001b[0m in \u001b[0;36mset\u001b[0;34m(self, obj, value)\u001b[0m\n\u001b[1;32m    701\u001b[0m \u001b[0;34m\u001b[0m\u001b[0m\n\u001b[1;32m    702\u001b[0m     \u001b[0;32mdef\u001b[0m \u001b[0mset\u001b[0m\u001b[0;34m(\u001b[0m\u001b[0mself\u001b[0m\u001b[0;34m,\u001b[0m \u001b[0mobj\u001b[0m\u001b[0;34m,\u001b[0m \u001b[0mvalue\u001b[0m\u001b[0;34m)\u001b[0m\u001b[0;34m:\u001b[0m\u001b[0;34m\u001b[0m\u001b[0;34m\u001b[0m\u001b[0m\n\u001b[0;32m--> 703\u001b[0;31m         \u001b[0mnew_value\u001b[0m \u001b[0;34m=\u001b[0m \u001b[0mself\u001b[0m\u001b[0;34m.\u001b[0m\u001b[0m_validate\u001b[0m\u001b[0;34m(\u001b[0m\u001b[0mobj\u001b[0m\u001b[0;34m,\u001b[0m \u001b[0mvalue\u001b[0m\u001b[0;34m)\u001b[0m\u001b[0;34m\u001b[0m\u001b[0;34m\u001b[0m\u001b[0m\n\u001b[0m\u001b[1;32m    704\u001b[0m         \u001b[0;32mtry\u001b[0m\u001b[0;34m:\u001b[0m\u001b[0;34m\u001b[0m\u001b[0;34m\u001b[0m\u001b[0m\n\u001b[1;32m    705\u001b[0m             \u001b[0mold_value\u001b[0m \u001b[0;34m=\u001b[0m \u001b[0mobj\u001b[0m\u001b[0;34m.\u001b[0m\u001b[0m_trait_values\u001b[0m\u001b[0;34m[\u001b[0m\u001b[0mself\u001b[0m\u001b[0;34m.\u001b[0m\u001b[0mname\u001b[0m\u001b[0;34m]\u001b[0m\u001b[0;34m\u001b[0m\u001b[0;34m\u001b[0m\u001b[0m\n",
            "\u001b[0;32m/usr/local/lib/python3.10/dist-packages/traitlets/traitlets.py\u001b[0m in \u001b[0;36m_validate\u001b[0;34m(self, obj, value)\u001b[0m\n\u001b[1;32m    733\u001b[0m             \u001b[0;32mreturn\u001b[0m \u001b[0mvalue\u001b[0m\u001b[0;34m\u001b[0m\u001b[0;34m\u001b[0m\u001b[0m\n\u001b[1;32m    734\u001b[0m         \u001b[0;32mif\u001b[0m \u001b[0mhasattr\u001b[0m\u001b[0;34m(\u001b[0m\u001b[0mself\u001b[0m\u001b[0;34m,\u001b[0m \u001b[0;34m\"validate\"\u001b[0m\u001b[0;34m)\u001b[0m\u001b[0;34m:\u001b[0m\u001b[0;34m\u001b[0m\u001b[0;34m\u001b[0m\u001b[0m\n\u001b[0;32m--> 735\u001b[0;31m             \u001b[0mvalue\u001b[0m \u001b[0;34m=\u001b[0m \u001b[0mself\u001b[0m\u001b[0;34m.\u001b[0m\u001b[0mvalidate\u001b[0m\u001b[0;34m(\u001b[0m\u001b[0mobj\u001b[0m\u001b[0;34m,\u001b[0m \u001b[0mvalue\u001b[0m\u001b[0;34m)\u001b[0m\u001b[0;34m\u001b[0m\u001b[0;34m\u001b[0m\u001b[0m\n\u001b[0m\u001b[1;32m    736\u001b[0m         \u001b[0;32mif\u001b[0m \u001b[0mobj\u001b[0m\u001b[0;34m.\u001b[0m\u001b[0m_cross_validation_lock\u001b[0m \u001b[0;32mis\u001b[0m \u001b[0;32mFalse\u001b[0m\u001b[0;34m:\u001b[0m\u001b[0;34m\u001b[0m\u001b[0;34m\u001b[0m\u001b[0m\n\u001b[1;32m    737\u001b[0m             \u001b[0mvalue\u001b[0m \u001b[0;34m=\u001b[0m \u001b[0mself\u001b[0m\u001b[0;34m.\u001b[0m\u001b[0m_cross_validate\u001b[0m\u001b[0;34m(\u001b[0m\u001b[0mobj\u001b[0m\u001b[0;34m,\u001b[0m \u001b[0mvalue\u001b[0m\u001b[0;34m)\u001b[0m\u001b[0;34m\u001b[0m\u001b[0;34m\u001b[0m\u001b[0m\n",
            "\u001b[0;32m/usr/local/lib/python3.10/dist-packages/traitlets/traitlets.py\u001b[0m in \u001b[0;36mvalidate\u001b[0;34m(self, obj, value)\u001b[0m\n\u001b[1;32m   2300\u001b[0m                 \u001b[0;32mexcept\u001b[0m \u001b[0mTraitError\u001b[0m\u001b[0;34m:\u001b[0m\u001b[0;34m\u001b[0m\u001b[0;34m\u001b[0m\u001b[0m\n\u001b[1;32m   2301\u001b[0m                     \u001b[0;32mcontinue\u001b[0m\u001b[0;34m\u001b[0m\u001b[0;34m\u001b[0m\u001b[0m\n\u001b[0;32m-> 2302\u001b[0;31m         \u001b[0mself\u001b[0m\u001b[0;34m.\u001b[0m\u001b[0merror\u001b[0m\u001b[0;34m(\u001b[0m\u001b[0mobj\u001b[0m\u001b[0;34m,\u001b[0m \u001b[0mvalue\u001b[0m\u001b[0;34m)\u001b[0m\u001b[0;34m\u001b[0m\u001b[0;34m\u001b[0m\u001b[0m\n\u001b[0m\u001b[1;32m   2303\u001b[0m \u001b[0;34m\u001b[0m\u001b[0m\n\u001b[1;32m   2304\u001b[0m     \u001b[0;32mdef\u001b[0m \u001b[0m__or__\u001b[0m\u001b[0;34m(\u001b[0m\u001b[0mself\u001b[0m\u001b[0;34m,\u001b[0m \u001b[0mother\u001b[0m\u001b[0;34m)\u001b[0m\u001b[0;34m:\u001b[0m\u001b[0;34m\u001b[0m\u001b[0;34m\u001b[0m\u001b[0m\n",
            "\u001b[0;32m/usr/local/lib/python3.10/dist-packages/traitlets/traitlets.py\u001b[0m in \u001b[0;36merror\u001b[0;34m(self, obj, value, error, info)\u001b[0m\n\u001b[1;32m    839\u001b[0m                         \u001b[0mdescribe\u001b[0m\u001b[0;34m(\u001b[0m\u001b[0;34m\"the\"\u001b[0m\u001b[0;34m,\u001b[0m \u001b[0mvalue\u001b[0m\u001b[0;34m)\u001b[0m\u001b[0;34m,\u001b[0m\u001b[0;34m\u001b[0m\u001b[0;34m\u001b[0m\u001b[0m\n\u001b[1;32m    840\u001b[0m                     )\n\u001b[0;32m--> 841\u001b[0;31m                 \u001b[0;32mraise\u001b[0m \u001b[0mTraitError\u001b[0m\u001b[0;34m(\u001b[0m\u001b[0me\u001b[0m\u001b[0;34m)\u001b[0m\u001b[0;34m\u001b[0m\u001b[0;34m\u001b[0m\u001b[0m\n\u001b[0m\u001b[1;32m    842\u001b[0m \u001b[0;34m\u001b[0m\u001b[0m\n\u001b[1;32m    843\u001b[0m     \u001b[0;32mdef\u001b[0m \u001b[0mget_metadata\u001b[0m\u001b[0;34m(\u001b[0m\u001b[0mself\u001b[0m\u001b[0;34m,\u001b[0m \u001b[0mkey\u001b[0m\u001b[0;34m,\u001b[0m \u001b[0mdefault\u001b[0m\u001b[0;34m=\u001b[0m\u001b[0;32mNone\u001b[0m\u001b[0;34m)\u001b[0m\u001b[0;34m:\u001b[0m\u001b[0;34m\u001b[0m\u001b[0;34m\u001b[0m\u001b[0m\n",
            "\u001b[0;31mTraitError\u001b[0m: The 'target' trait of a DirectionalLight instance expected an Uninitialized or an Object3D, not the str 'IPY_MODEL_8447c5cf-7ce9-4a2e-bac3-eeade528cbdd'."
          ]
        }
      ],
      "source": [
        "u = compute_deepsdf(net_sal_0, 40)\n",
        "vertices, triangles = mcubes.marching_cubes(u,0)\n",
        "mesh = TriMesh(vertices, triangles)\n",
        "plu.plot(mesh)"
      ]
    },
    {
      "cell_type": "markdown",
      "id": "1675226e-0287-4d89-9c43-372190fdcfc4",
      "metadata": {
        "id": "1675226e-0287-4d89-9c43-372190fdcfc4"
      },
      "source": [
        "You can play with the sigma parameter to improve the results (see the paper to choose it wisely)."
      ]
    }
  ],
  "metadata": {
    "accelerator": "GPU",
    "colab": {
      "gpuType": "T4",
      "provenance": []
    },
    "kernelspec": {
      "display_name": "Python 3",
      "name": "python3"
    },
    "language_info": {
      "codemirror_mode": {
        "name": "ipython",
        "version": 3
      },
      "file_extension": ".py",
      "mimetype": "text/x-python",
      "name": "python",
      "nbconvert_exporter": "python",
      "pygments_lexer": "ipython3",
      "version": "3.8.18"
    },
    "widgets": {
      "application/vnd.jupyter.widget-state+json": {
        "3ac47b89efe8400681de32424a8249ac": {
          "model_module": "jupyter-threejs",
          "model_name": "RendererModel",
          "model_module_version": "^2.4.1",
          "state": {
            "_alpha": false,
            "_antialias": true,
            "_dom_classes": [],
            "_height": 600,
            "_model_module": "jupyter-threejs",
            "_model_module_version": "^2.4.1",
            "_model_name": "RendererModel",
            "_pause_autorender": false,
            "_view_count": null,
            "_view_module": "jupyter-threejs",
            "_view_module_version": "^2.4.1",
            "_view_name": "RendererView",
            "_webgl_version": 2,
            "_width": 600,
            "autoClear": true,
            "autoClearColor": true,
            "autoClearDepth": true,
            "autoClearStencil": true,
            "background": "black",
            "background_opacity": 1,
            "camera": "IPY_MODEL_f88cc758786548d2a109692d0969421b",
            "clearColor": "#000000",
            "clearOpacity": 1,
            "clippingPlanes": [],
            "controls": [
              "IPY_MODEL_39170cfd706a459d99c9dc521e331954"
            ],
            "gammaFactor": 2,
            "gammaInput": false,
            "gammaOutput": false,
            "layout": "IPY_MODEL_0279e9570cc343e3bc909591ab37d5e0",
            "localClippingEnabled": false,
            "maxMorphNormals": 4,
            "maxMorphTargets": 8,
            "physicallyCorrectLights": false,
            "scene": "IPY_MODEL_bdb3592fba86450cb9e59595c0854016",
            "shadowMap": "IPY_MODEL_6938b2fcb29641afa62f18041a23ab53",
            "sortObject": true,
            "toneMapping": "LinearToneMapping",
            "toneMappingExposure": 1,
            "toneMappingWhitePoint": 1
          }
        },
        "f88cc758786548d2a109692d0969421b": {
          "model_module": "jupyter-threejs",
          "model_name": "PerspectiveCameraModel",
          "model_module_version": "^2.4.1",
          "state": {
            "_model_module": "jupyter-threejs",
            "_model_module_version": "^2.4.1",
            "_model_name": "PerspectiveCameraModel",
            "_view_count": null,
            "_view_module": null,
            "_view_module_version": "",
            "_view_name": null,
            "aspect": 1,
            "castShadow": false,
            "children": [
              "IPY_MODEL_46028964a87d4c46a71c7e3113eef64c"
            ],
            "far": 2000,
            "focus": 342.99758039957504,
            "fov": 30,
            "frustumCulled": true,
            "matrix": [
              1,
              0,
              0,
              0,
              0,
              1,
              -6.214703336382315e-17,
              0,
              0,
              6.214703336382315e-17,
              1,
              0,
              0.021650314331054688,
              21.44474792480471,
              342.955479493203,
              1
            ],
            "matrixAutoUpdate": true,
            "matrixWorld": [
              1,
              0,
              0,
              0,
              0,
              1,
              -6.214703336382315e-17,
              0,
              0,
              6.214703336382315e-17,
              1,
              0,
              0.021650314331054688,
              21.44474792480471,
              342.955479493203,
              1
            ],
            "matrixWorldInverse": [
              1,
              0,
              0,
              0,
              0,
              1,
              6.214703336382315e-17,
              0,
              0,
              -6.214703336382315e-17,
              1,
              0,
              -0.021650314331054688,
              -21.444747924804688,
              -342.955479493203,
              1
            ],
            "matrixWorldNeedsUpdate": false,
            "modelViewMatrix": [
              1,
              0,
              0,
              0,
              0,
              1,
              0,
              0,
              0,
              0,
              1,
              0,
              0,
              0,
              0,
              1
            ],
            "name": "",
            "near": 0.1,
            "normalMatrix": [
              1,
              0,
              0,
              0,
              1,
              0,
              0,
              0,
              1
            ],
            "position": [
              0.021650314331054688,
              21.444747924804712,
              421.0689469211612
            ],
            "projectionMatrix": [
              3.7320508075688776,
              0,
              0,
              0,
              0,
              3.7320508075688776,
              0,
              0,
              0,
              0,
              -1.00010000500025,
              -1,
              0,
              0,
              -0.200010000500025,
              0
            ],
            "quaternion": [
              -2.9527835804712305e-17,
              0,
              0,
              1
            ],
            "receiveShadow": false,
            "renderOrder": 0,
            "rotation": [
              -6.214703336382315e-17,
              0,
              0,
              "XYZ"
            ],
            "scale": [
              1,
              1,
              1
            ],
            "type": "PerspectiveCamera",
            "up": [
              0,
              1,
              0
            ],
            "visible": true,
            "zoom": 1
          }
        },
        "39170cfd706a459d99c9dc521e331954": {
          "model_module": "jupyter-threejs",
          "model_name": "OrbitControlsModel",
          "model_module_version": "^2.4.1",
          "state": {
            "_model_module": "jupyter-threejs",
            "_model_module_version": "^2.4.1",
            "_model_name": "OrbitControlsModel",
            "_view_count": null,
            "_view_module": null,
            "_view_module_version": "",
            "_view_name": null,
            "autoRotate": false,
            "autoRotateSpeed": 2,
            "controlling": "IPY_MODEL_f88cc758786548d2a109692d0969421b",
            "dampingFactor": 0.25,
            "enableDamping": false,
            "enableKeys": true,
            "enablePan": true,
            "enableRotate": true,
            "enableZoom": true,
            "enabled": true,
            "keyPanSpeed": 7,
            "maxAzimuthAngle": "inf",
            "maxDistance": "inf",
            "maxPolarAngle": 3.141592653589793,
            "maxZoom": "inf",
            "minAzimuthAngle": "-inf",
            "minDistance": 0,
            "minPolarAngle": 0,
            "minZoom": 0,
            "panSpeed": 1,
            "rotateSpeed": 1,
            "screenSpacePanning": true,
            "target": [
              0.021650314331054688,
              21.444747924804688,
              -0.04210090637207031
            ],
            "zoomSpeed": 1
          }
        },
        "0279e9570cc343e3bc909591ab37d5e0": {
          "model_module": "@jupyter-widgets/base",
          "model_name": "LayoutModel",
          "model_module_version": "1.2.0",
          "state": {
            "_model_module": "@jupyter-widgets/base",
            "_model_module_version": "1.2.0",
            "_model_name": "LayoutModel",
            "_view_count": null,
            "_view_module": "@jupyter-widgets/base",
            "_view_module_version": "1.2.0",
            "_view_name": "LayoutView",
            "align_content": null,
            "align_items": null,
            "align_self": null,
            "border": null,
            "bottom": null,
            "display": null,
            "flex": null,
            "flex_flow": null,
            "grid_area": null,
            "grid_auto_columns": null,
            "grid_auto_flow": null,
            "grid_auto_rows": null,
            "grid_column": null,
            "grid_gap": null,
            "grid_row": null,
            "grid_template_areas": null,
            "grid_template_columns": null,
            "grid_template_rows": null,
            "height": null,
            "justify_content": null,
            "justify_items": null,
            "left": null,
            "margin": null,
            "max_height": null,
            "max_width": null,
            "min_height": null,
            "min_width": null,
            "object_fit": null,
            "object_position": null,
            "order": null,
            "overflow": null,
            "overflow_x": null,
            "overflow_y": null,
            "padding": null,
            "right": null,
            "top": null,
            "visibility": null,
            "width": null
          }
        },
        "bdb3592fba86450cb9e59595c0854016": {
          "model_module": "jupyter-threejs",
          "model_name": "SceneModel",
          "model_module_version": "^2.4.1",
          "state": {
            "_model_module": "jupyter-threejs",
            "_model_module_version": "^2.4.1",
            "_model_name": "SceneModel",
            "_view_count": null,
            "_view_module": null,
            "_view_module_version": "",
            "_view_name": null,
            "autoUpdate": true,
            "background": "#ffffff",
            "castShadow": false,
            "children": [
              "IPY_MODEL_f88cc758786548d2a109692d0969421b",
              "IPY_MODEL_9a3004f0285e41eb9831e64cde1867bc",
              "IPY_MODEL_d43ddb3a543d4c65a8cfe874bb47e4e8"
            ],
            "fog": null,
            "frustumCulled": true,
            "matrix": [
              1,
              0,
              0,
              0,
              0,
              1,
              0,
              0,
              0,
              0,
              1,
              0,
              0,
              0,
              0,
              1
            ],
            "matrixAutoUpdate": true,
            "matrixWorld": [
              1,
              0,
              0,
              0,
              0,
              1,
              0,
              0,
              0,
              0,
              1,
              0,
              0,
              0,
              0,
              1
            ],
            "matrixWorldNeedsUpdate": false,
            "modelViewMatrix": [
              1,
              0,
              0,
              0,
              0,
              1,
              0,
              0,
              0,
              0,
              1,
              0,
              0,
              0,
              0,
              1
            ],
            "name": "",
            "normalMatrix": [
              1,
              0,
              0,
              0,
              1,
              0,
              0,
              0,
              1
            ],
            "overrideMaterial": null,
            "position": [
              0,
              0,
              0
            ],
            "quaternion": [
              0,
              0,
              0,
              1
            ],
            "receiveShadow": false,
            "renderOrder": 0,
            "rotation": [
              0,
              0,
              0,
              "XYZ"
            ],
            "scale": [
              1,
              1,
              1
            ],
            "type": "Scene",
            "up": [
              0,
              1,
              0
            ],
            "visible": true
          }
        },
        "6938b2fcb29641afa62f18041a23ab53": {
          "model_module": "jupyter-threejs",
          "model_name": "WebGLShadowMapModel",
          "model_module_version": "^2.4.1",
          "state": {
            "_model_module": "jupyter-threejs",
            "_model_module_version": "^2.4.1",
            "_model_name": "WebGLShadowMapModel",
            "_view_count": null,
            "_view_module": null,
            "_view_module_version": "",
            "_view_name": null,
            "enabled": false,
            "type": "PCFShadowMap"
          }
        },
        "46028964a87d4c46a71c7e3113eef64c": {
          "model_module": "jupyter-threejs",
          "model_name": "DirectionalLightModel",
          "model_module_version": "^2.4.1",
          "state": {
            "_model_module": "jupyter-threejs",
            "_model_module_version": "^2.4.1",
            "_model_name": "DirectionalLightModel",
            "_view_count": null,
            "_view_module": null,
            "_view_module_version": "",
            "_view_name": null,
            "castShadow": false,
            "children": [],
            "color": "white",
            "frustumCulled": true,
            "intensity": 0.6,
            "matrix": [
              1,
              0,
              0,
              0,
              0,
              1,
              0,
              0,
              0,
              0,
              1,
              0,
              0,
              0,
              0,
              1
            ],
            "matrixAutoUpdate": true,
            "matrixWorld": [
              1,
              0,
              0,
              0,
              0,
              1,
              0,
              0,
              0,
              0,
              1,
              0,
              0,
              0,
              0,
              1
            ],
            "matrixWorldNeedsUpdate": true,
            "modelViewMatrix": [
              1,
              0,
              0,
              0,
              0,
              1,
              0,
              0,
              0,
              0,
              1,
              0,
              0,
              0,
              0,
              1
            ],
            "name": "",
            "normalMatrix": [
              1,
              0,
              0,
              0,
              1,
              0,
              0,
              0,
              1
            ],
            "position": [
              0.021650314331054688,
              21.444747924804688,
              342.955479493203
            ],
            "quaternion": [
              0,
              0,
              0,
              1
            ],
            "receiveShadow": false,
            "renderOrder": 0,
            "rotation": [
              0,
              0,
              0,
              "XYZ"
            ],
            "scale": [
              1,
              1,
              1
            ],
            "shadow": "IPY_MODEL_e970169e-1471-46d7-9450-d79246f00aeb",
            "target": "IPY_MODEL_2210da81-6a50-4a79-921c-26ce833209c1",
            "type": "DirectionalLight",
            "up": [
              0,
              1,
              0
            ],
            "visible": true
          }
        },
        "9a3004f0285e41eb9831e64cde1867bc": {
          "model_module": "jupyter-threejs",
          "model_name": "AmbientLightModel",
          "model_module_version": "^2.4.1",
          "state": {
            "_model_module": "jupyter-threejs",
            "_model_module_version": "^2.4.1",
            "_model_name": "AmbientLightModel",
            "_view_count": null,
            "_view_module": null,
            "_view_module_version": "",
            "_view_name": null,
            "castShadow": false,
            "children": [],
            "color": "#ffffff",
            "frustumCulled": true,
            "intensity": 0.5,
            "matrix": [
              1,
              0,
              0,
              0,
              0,
              1,
              0,
              0,
              0,
              0,
              1,
              0,
              0,
              0,
              0,
              1
            ],
            "matrixAutoUpdate": true,
            "matrixWorld": [
              1,
              0,
              0,
              0,
              0,
              1,
              0,
              0,
              0,
              0,
              1,
              0,
              0,
              0,
              0,
              1
            ],
            "matrixWorldNeedsUpdate": false,
            "modelViewMatrix": [
              1,
              0,
              0,
              0,
              0,
              1,
              0,
              0,
              0,
              0,
              1,
              0,
              0,
              0,
              0,
              1
            ],
            "name": "",
            "normalMatrix": [
              1,
              0,
              0,
              0,
              1,
              0,
              0,
              0,
              1
            ],
            "position": [
              0,
              0,
              0
            ],
            "quaternion": [
              0,
              0,
              0,
              1
            ],
            "receiveShadow": false,
            "renderOrder": 0,
            "rotation": [
              0,
              0,
              0,
              "XYZ"
            ],
            "scale": [
              1,
              1,
              1
            ],
            "type": "AmbientLight",
            "up": [
              0,
              1,
              0
            ],
            "visible": true
          }
        },
        "d43ddb3a543d4c65a8cfe874bb47e4e8": {
          "model_module": "jupyter-threejs",
          "model_name": "PointsModel",
          "model_module_version": "^2.4.1",
          "state": {
            "_model_module": "jupyter-threejs",
            "_model_module_version": "^2.4.1",
            "_model_name": "PointsModel",
            "_view_count": null,
            "_view_module": null,
            "_view_module_version": "",
            "_view_name": null,
            "castShadow": false,
            "children": [],
            "frustumCulled": true,
            "geometry": "IPY_MODEL_012cf1eeeeef49b0b65f94bbb47cca70",
            "material": "IPY_MODEL_fee30aee3dbc4ecaa1e85fd6d3dc4c75",
            "matrix": [
              1,
              0,
              0,
              0,
              0,
              1,
              0,
              0,
              0,
              0,
              1,
              0,
              0,
              0,
              0,
              1
            ],
            "matrixAutoUpdate": true,
            "matrixWorld": [
              1,
              0,
              0,
              0,
              0,
              1,
              0,
              0,
              0,
              0,
              1,
              0,
              0,
              0,
              0,
              1
            ],
            "matrixWorldNeedsUpdate": false,
            "modelViewMatrix": [
              1,
              0,
              0,
              0,
              0,
              1,
              0,
              0,
              0,
              0,
              1,
              0,
              0,
              0,
              0,
              1
            ],
            "name": "",
            "normalMatrix": [
              1,
              0,
              0,
              0,
              1,
              0,
              0,
              0,
              1
            ],
            "position": [
              0,
              0,
              0
            ],
            "quaternion": [
              0,
              0,
              0,
              1
            ],
            "receiveShadow": false,
            "renderOrder": 0,
            "rotation": [
              0,
              0,
              0,
              "XYZ"
            ],
            "scale": [
              1,
              1,
              1
            ],
            "type": "Points",
            "up": [
              0,
              1,
              0
            ],
            "visible": true
          }
        },
        "012cf1eeeeef49b0b65f94bbb47cca70": {
          "model_module": "jupyter-threejs",
          "model_name": "BufferGeometryModel",
          "model_module_version": "^2.4.1",
          "state": {
            "MaxIndex": 65535,
            "_model_module": "jupyter-threejs",
            "_model_module_version": "^2.4.1",
            "_model_name": "BufferGeometryModel",
            "_ref_geometry": null,
            "_store_ref": false,
            "_view_count": null,
            "_view_module": null,
            "_view_module_version": "",
            "_view_name": null,
            "attributes": {
              "position": "IPY_MODEL_e7c076bb1e2945b9a9340edb6d923525",
              "color": "IPY_MODEL_1fdc99a1f81b4c6891fbbf325518429b"
            },
            "index": null,
            "morphAttributes": {},
            "name": "",
            "type": "BufferGeometry",
            "userData": {}
          }
        },
        "fee30aee3dbc4ecaa1e85fd6d3dc4c75": {
          "model_module": "jupyter-threejs",
          "model_name": "PointsMaterialModel",
          "model_module_version": "^2.4.1",
          "state": {
            "_model_module": "jupyter-threejs",
            "_model_module_version": "^2.4.1",
            "_model_name": "PointsMaterialModel",
            "_view_count": null,
            "_view_module": null,
            "_view_module_version": "",
            "_view_name": null,
            "alphaTest": 0.5,
            "blendDst": "OneMinusSrcAlphaFactor",
            "blendDstAlpha": 0,
            "blendEquation": "AddEquation",
            "blendEquationAlpha": 0,
            "blendSrc": "SrcAlphaFactor",
            "blendSrcAlpha": 0,
            "blending": "NormalBlending",
            "clipIntersection": false,
            "clipShadows": false,
            "clippingPlanes": [],
            "color": "#ffffff",
            "colorWrite": true,
            "defines": null,
            "depthFunc": "LessEqualDepth",
            "depthTest": true,
            "depthWrite": true,
            "dithering": false,
            "flatShading": false,
            "fog": true,
            "lights": false,
            "map": "IPY_MODEL_2dfa5dfd424e480685bcb8950f71a7a4",
            "morphTargets": false,
            "name": "",
            "opacity": 1,
            "overdraw": 0,
            "polygonOffset": false,
            "polygonOffsetFactor": 0,
            "polygonOffsetUnits": 0,
            "precision": null,
            "premultipliedAlpha": false,
            "shadowSide": null,
            "side": "FrontSide",
            "size": 2,
            "sizeAttenuation": true,
            "transparent": false,
            "type": "PointsMaterial",
            "vertexColors": "VertexColors",
            "visible": true
          }
        },
        "e7c076bb1e2945b9a9340edb6d923525": {
          "model_module": "jupyter-threejs",
          "model_name": "BufferAttributeModel",
          "model_module_version": "^2.4.1",
          "state": {
            "_model_module": "jupyter-threejs",
            "_model_module_version": "^2.4.1",
            "_model_name": "BufferAttributeModel",
            "_view_count": null,
            "_view_module": null,
            "_view_module_version": "",
            "_view_name": null,
            "array": {
              "shape": [
                208145,
                3
              ],
              "dtype": "float32"
            },
            "dynamic": false,
            "needsUpdate": false,
            "normalized": false,
            "version": 1
          }
        },
        "1fdc99a1f81b4c6891fbbf325518429b": {
          "model_module": "jupyter-threejs",
          "model_name": "BufferAttributeModel",
          "model_module_version": "^2.4.1",
          "state": {
            "_model_module": "jupyter-threejs",
            "_model_module_version": "^2.4.1",
            "_model_name": "BufferAttributeModel",
            "_view_count": null,
            "_view_module": null,
            "_view_module_version": "",
            "_view_name": null,
            "array": {
              "shape": [
                208145,
                3
              ],
              "dtype": "float32"
            },
            "dynamic": false,
            "needsUpdate": false,
            "normalized": false,
            "version": 1
          }
        },
        "2dfa5dfd424e480685bcb8950f71a7a4": {
          "model_module": "jupyter-threejs",
          "model_name": "DataTextureModel",
          "model_module_version": "^2.4.1",
          "state": {
            "_model_module": "jupyter-threejs",
            "_model_module_version": "^2.4.1",
            "_model_name": "DataTextureModel",
            "_view_count": null,
            "_view_module": null,
            "_view_module_version": "",
            "_view_name": null,
            "anisotropy": 1,
            "data": {
              "shape": [
                16,
                16,
                4
              ],
              "dtype": "float32"
            },
            "encoding": "LinearEncoding",
            "flipY": false,
            "format": "RGBAFormat",
            "generateMipmaps": false,
            "magFilter": "NearestFilter",
            "mapping": "UVMapping",
            "minFilter": "NearestFilter",
            "name": "",
            "offset": [
              0,
              0
            ],
            "premultiplyAlpha": false,
            "repeat": [
              1,
              1
            ],
            "rotation": 0,
            "type": "FloatType",
            "unpackAlignment": 4,
            "version": 1,
            "wrapS": "ClampToEdgeWrapping",
            "wrapT": "ClampToEdgeWrapping"
          }
        },
        "a9f0f3d37ef443e9ab94ef72d85e9145": {
          "model_module": "jupyter-threejs",
          "model_name": "RendererModel",
          "model_module_version": "^2.4.1",
          "state": {
            "_alpha": false,
            "_antialias": true,
            "_dom_classes": [],
            "_height": 600,
            "_model_module": "jupyter-threejs",
            "_model_module_version": "^2.4.1",
            "_model_name": "RendererModel",
            "_pause_autorender": false,
            "_view_count": null,
            "_view_module": "jupyter-threejs",
            "_view_module_version": "^2.4.1",
            "_view_name": "RendererView",
            "_webgl_version": 2,
            "_width": 600,
            "autoClear": true,
            "autoClearColor": true,
            "autoClearDepth": true,
            "autoClearStencil": true,
            "background": "black",
            "background_opacity": 1,
            "camera": "IPY_MODEL_f5c0ebeafb9b4d7ea0757af71cb83c75",
            "clearColor": "#000000",
            "clearOpacity": 1,
            "clippingPlanes": [],
            "controls": [
              "IPY_MODEL_e18e0b81d78d4e7b933965b89f5e4984"
            ],
            "gammaFactor": 2,
            "gammaInput": false,
            "gammaOutput": false,
            "layout": "IPY_MODEL_34e7120661c848c9b568b768d0d2eabb",
            "localClippingEnabled": false,
            "maxMorphNormals": 4,
            "maxMorphTargets": 8,
            "physicallyCorrectLights": false,
            "scene": "IPY_MODEL_00058ff58ebc446398a90a3b0cd95ddf",
            "shadowMap": "IPY_MODEL_9d40e75a44ef45069282b8403bfbda6d",
            "sortObject": true,
            "toneMapping": "LinearToneMapping",
            "toneMappingExposure": 1,
            "toneMappingWhitePoint": 1
          }
        },
        "f5c0ebeafb9b4d7ea0757af71cb83c75": {
          "model_module": "jupyter-threejs",
          "model_name": "PerspectiveCameraModel",
          "model_module_version": "^2.4.1",
          "state": {
            "_model_module": "jupyter-threejs",
            "_model_module_version": "^2.4.1",
            "_model_name": "PerspectiveCameraModel",
            "_view_count": null,
            "_view_module": null,
            "_view_module_version": "",
            "_view_name": null,
            "aspect": 1,
            "castShadow": false,
            "children": [
              "IPY_MODEL_b92516d9180446948679d07a58ddc908"
            ],
            "far": 2000,
            "focus": 99.64284761750142,
            "fov": 30,
            "frustumCulled": true,
            "matrix": [
              1,
              0,
              0,
              0,
              0,
              1,
              -7.130895520847192e-17,
              0,
              0,
              7.130895520847192e-17,
              1,
              0,
              19.52610757946968,
              19.56626734882594,
              118.34056146943013,
              1
            ],
            "matrixAutoUpdate": true,
            "matrixWorld": [
              1,
              0,
              0,
              0,
              0,
              1,
              -7.130895520847192e-17,
              0,
              0,
              7.130895520847192e-17,
              1,
              0,
              19.52610757946968,
              19.56626734882594,
              118.34056146943013,
              1
            ],
            "matrixWorldInverse": [
              1,
              0,
              0,
              0,
              0,
              1,
              7.130895520847192e-17,
              0,
              0,
              -7.130895520847192e-17,
              1,
              0,
              -19.52610757946968,
              -19.56626734882593,
              -118.34056146943013,
              1
            ],
            "matrixWorldNeedsUpdate": false,
            "modelViewMatrix": [
              1,
              0,
              0,
              0,
              0,
              1,
              0,
              0,
              0,
              0,
              1,
              0,
              0,
              0,
              0,
              1
            ],
            "name": "",
            "near": 0.1,
            "normalMatrix": [
              1,
              0,
              0,
              0,
              1,
              0,
              0,
              0,
              1
            ],
            "position": [
              19.52610757946968,
              19.56626734882594,
              118.34056146943013
            ],
            "projectionMatrix": [
              3.7320508075688776,
              0,
              0,
              0,
              0,
              3.7320508075688776,
              0,
              0,
              0,
              0,
              -1.00010000500025,
              -1,
              0,
              0,
              -0.200010000500025,
              0
            ],
            "quaternion": [
              -3.565447760423596e-17,
              0,
              0,
              1
            ],
            "receiveShadow": false,
            "renderOrder": 0,
            "rotation": [
              -7.130895520847192e-17,
              0,
              0,
              "XYZ"
            ],
            "scale": [
              1,
              1,
              1
            ],
            "type": "PerspectiveCamera",
            "up": [
              0,
              1,
              0
            ],
            "visible": true,
            "zoom": 1
          }
        },
        "e18e0b81d78d4e7b933965b89f5e4984": {
          "model_module": "jupyter-threejs",
          "model_name": "OrbitControlsModel",
          "model_module_version": "^2.4.1",
          "state": {
            "_model_module": "jupyter-threejs",
            "_model_module_version": "^2.4.1",
            "_model_name": "OrbitControlsModel",
            "_view_count": null,
            "_view_module": null,
            "_view_module_version": "",
            "_view_name": null,
            "autoRotate": false,
            "autoRotateSpeed": 2,
            "controlling": "IPY_MODEL_f5c0ebeafb9b4d7ea0757af71cb83c75",
            "dampingFactor": 0.25,
            "enableDamping": false,
            "enableKeys": true,
            "enablePan": true,
            "enableRotate": true,
            "enableZoom": true,
            "enabled": true,
            "keyPanSpeed": 7,
            "maxAzimuthAngle": "inf",
            "maxDistance": "inf",
            "maxPolarAngle": 3.141592653589793,
            "maxZoom": "inf",
            "minAzimuthAngle": "-inf",
            "minDistance": 0,
            "minPolarAngle": 0,
            "minZoom": 0,
            "panSpeed": 1,
            "rotateSpeed": 1,
            "screenSpacePanning": true,
            "target": [
              19.52610757946968,
              19.56626734882593,
              18.69771385192871
            ],
            "zoomSpeed": 1
          }
        },
        "34e7120661c848c9b568b768d0d2eabb": {
          "model_module": "@jupyter-widgets/base",
          "model_name": "LayoutModel",
          "model_module_version": "1.2.0",
          "state": {
            "_model_module": "@jupyter-widgets/base",
            "_model_module_version": "1.2.0",
            "_model_name": "LayoutModel",
            "_view_count": null,
            "_view_module": "@jupyter-widgets/base",
            "_view_module_version": "1.2.0",
            "_view_name": "LayoutView",
            "align_content": null,
            "align_items": null,
            "align_self": null,
            "border": null,
            "bottom": null,
            "display": null,
            "flex": null,
            "flex_flow": null,
            "grid_area": null,
            "grid_auto_columns": null,
            "grid_auto_flow": null,
            "grid_auto_rows": null,
            "grid_column": null,
            "grid_gap": null,
            "grid_row": null,
            "grid_template_areas": null,
            "grid_template_columns": null,
            "grid_template_rows": null,
            "height": null,
            "justify_content": null,
            "justify_items": null,
            "left": null,
            "margin": null,
            "max_height": null,
            "max_width": null,
            "min_height": null,
            "min_width": null,
            "object_fit": null,
            "object_position": null,
            "order": null,
            "overflow": null,
            "overflow_x": null,
            "overflow_y": null,
            "padding": null,
            "right": null,
            "top": null,
            "visibility": null,
            "width": null
          }
        },
        "00058ff58ebc446398a90a3b0cd95ddf": {
          "model_module": "jupyter-threejs",
          "model_name": "SceneModel",
          "model_module_version": "^2.4.1",
          "state": {
            "_model_module": "jupyter-threejs",
            "_model_module_version": "^2.4.1",
            "_model_name": "SceneModel",
            "_view_count": null,
            "_view_module": null,
            "_view_module_version": "",
            "_view_name": null,
            "autoUpdate": true,
            "background": "#ffffff",
            "castShadow": false,
            "children": [
              "IPY_MODEL_f5c0ebeafb9b4d7ea0757af71cb83c75",
              "IPY_MODEL_9e114dcd9e914c1ca003b59ebb6b20f5",
              "IPY_MODEL_1704f10050384f76a8880e90fd291906"
            ],
            "fog": null,
            "frustumCulled": true,
            "matrix": [
              1,
              0,
              0,
              0,
              0,
              1,
              0,
              0,
              0,
              0,
              1,
              0,
              0,
              0,
              0,
              1
            ],
            "matrixAutoUpdate": true,
            "matrixWorld": [
              1,
              0,
              0,
              0,
              0,
              1,
              0,
              0,
              0,
              0,
              1,
              0,
              0,
              0,
              0,
              1
            ],
            "matrixWorldNeedsUpdate": false,
            "modelViewMatrix": [
              1,
              0,
              0,
              0,
              0,
              1,
              0,
              0,
              0,
              0,
              1,
              0,
              0,
              0,
              0,
              1
            ],
            "name": "",
            "normalMatrix": [
              1,
              0,
              0,
              0,
              1,
              0,
              0,
              0,
              1
            ],
            "overrideMaterial": null,
            "position": [
              0,
              0,
              0
            ],
            "quaternion": [
              0,
              0,
              0,
              1
            ],
            "receiveShadow": false,
            "renderOrder": 0,
            "rotation": [
              0,
              0,
              0,
              "XYZ"
            ],
            "scale": [
              1,
              1,
              1
            ],
            "type": "Scene",
            "up": [
              0,
              1,
              0
            ],
            "visible": true
          }
        },
        "9d40e75a44ef45069282b8403bfbda6d": {
          "model_module": "jupyter-threejs",
          "model_name": "WebGLShadowMapModel",
          "model_module_version": "^2.4.1",
          "state": {
            "_model_module": "jupyter-threejs",
            "_model_module_version": "^2.4.1",
            "_model_name": "WebGLShadowMapModel",
            "_view_count": null,
            "_view_module": null,
            "_view_module_version": "",
            "_view_name": null,
            "enabled": false,
            "type": "PCFShadowMap"
          }
        },
        "b92516d9180446948679d07a58ddc908": {
          "model_module": "jupyter-threejs",
          "model_name": "DirectionalLightModel",
          "model_module_version": "^2.4.1",
          "state": {
            "_model_module": "jupyter-threejs",
            "_model_module_version": "^2.4.1",
            "_model_name": "DirectionalLightModel",
            "_view_count": null,
            "_view_module": null,
            "_view_module_version": "",
            "_view_name": null,
            "castShadow": false,
            "children": [],
            "color": "white",
            "frustumCulled": true,
            "intensity": 0.6,
            "matrix": [
              1,
              0,
              0,
              0,
              0,
              1,
              0,
              0,
              0,
              0,
              1,
              0,
              0,
              0,
              0,
              1
            ],
            "matrixAutoUpdate": true,
            "matrixWorld": [
              1,
              0,
              0,
              0,
              0,
              1,
              0,
              0,
              0,
              0,
              1,
              0,
              0,
              0,
              0,
              1
            ],
            "matrixWorldNeedsUpdate": true,
            "modelViewMatrix": [
              1,
              0,
              0,
              0,
              0,
              1,
              0,
              0,
              0,
              0,
              1,
              0,
              0,
              0,
              0,
              1
            ],
            "name": "",
            "normalMatrix": [
              1,
              0,
              0,
              0,
              1,
              0,
              0,
              0,
              1
            ],
            "position": [
              19.52610757946968,
              19.56626734882593,
              118.34056146943013
            ],
            "quaternion": [
              0,
              0,
              0,
              1
            ],
            "receiveShadow": false,
            "renderOrder": 0,
            "rotation": [
              0,
              0,
              0,
              "XYZ"
            ],
            "scale": [
              1,
              1,
              1
            ],
            "shadow": "IPY_MODEL_1948d540-2d12-48d3-8d29-c6e3446524a1",
            "target": "IPY_MODEL_bef306d9-80a4-489f-aa43-aed56fe2db71",
            "type": "DirectionalLight",
            "up": [
              0,
              1,
              0
            ],
            "visible": true
          }
        },
        "9e114dcd9e914c1ca003b59ebb6b20f5": {
          "model_module": "jupyter-threejs",
          "model_name": "AmbientLightModel",
          "model_module_version": "^2.4.1",
          "state": {
            "_model_module": "jupyter-threejs",
            "_model_module_version": "^2.4.1",
            "_model_name": "AmbientLightModel",
            "_view_count": null,
            "_view_module": null,
            "_view_module_version": "",
            "_view_name": null,
            "castShadow": false,
            "children": [],
            "color": "#ffffff",
            "frustumCulled": true,
            "intensity": 0.5,
            "matrix": [
              1,
              0,
              0,
              0,
              0,
              1,
              0,
              0,
              0,
              0,
              1,
              0,
              0,
              0,
              0,
              1
            ],
            "matrixAutoUpdate": true,
            "matrixWorld": [
              1,
              0,
              0,
              0,
              0,
              1,
              0,
              0,
              0,
              0,
              1,
              0,
              0,
              0,
              0,
              1
            ],
            "matrixWorldNeedsUpdate": false,
            "modelViewMatrix": [
              1,
              0,
              0,
              0,
              0,
              1,
              0,
              0,
              0,
              0,
              1,
              0,
              0,
              0,
              0,
              1
            ],
            "name": "",
            "normalMatrix": [
              1,
              0,
              0,
              0,
              1,
              0,
              0,
              0,
              1
            ],
            "position": [
              0,
              0,
              0
            ],
            "quaternion": [
              0,
              0,
              0,
              1
            ],
            "receiveShadow": false,
            "renderOrder": 0,
            "rotation": [
              0,
              0,
              0,
              "XYZ"
            ],
            "scale": [
              1,
              1,
              1
            ],
            "type": "AmbientLight",
            "up": [
              0,
              1,
              0
            ],
            "visible": true
          }
        },
        "1704f10050384f76a8880e90fd291906": {
          "model_module": "jupyter-threejs",
          "model_name": "MeshModel",
          "model_module_version": "^2.4.1",
          "state": {
            "_model_module": "jupyter-threejs",
            "_model_module_version": "^2.4.1",
            "_model_name": "MeshModel",
            "_view_count": null,
            "_view_module": null,
            "_view_module_version": "",
            "_view_name": null,
            "castShadow": false,
            "children": [],
            "drawMode": "TrianglesDrawMode",
            "frustumCulled": true,
            "geometry": "IPY_MODEL_d119372829854e3c8f55e4bfaa85b6b7",
            "material": "IPY_MODEL_1ba7b96e68904cdab0a82098fbc2d11e",
            "matrix": [
              1,
              0,
              0,
              0,
              0,
              1,
              0,
              0,
              0,
              0,
              1,
              0,
              0,
              0,
              0,
              1
            ],
            "matrixAutoUpdate": true,
            "matrixWorld": [
              1,
              0,
              0,
              0,
              0,
              1,
              0,
              0,
              0,
              0,
              1,
              0,
              0,
              0,
              0,
              1
            ],
            "matrixWorldNeedsUpdate": false,
            "modelViewMatrix": [
              1,
              0,
              0,
              0,
              0,
              1,
              0,
              0,
              0,
              0,
              1,
              0,
              0,
              0,
              0,
              1
            ],
            "morphTargetInfluences": [],
            "name": "",
            "normalMatrix": [
              1,
              0,
              0,
              0,
              1,
              0,
              0,
              0,
              1
            ],
            "position": [
              0,
              0,
              0
            ],
            "quaternion": [
              0,
              0,
              0,
              1
            ],
            "receiveShadow": false,
            "renderOrder": 0,
            "rotation": [
              0,
              0,
              0,
              "XYZ"
            ],
            "scale": [
              1,
              1,
              1
            ],
            "type": "Mesh",
            "up": [
              0,
              1,
              0
            ],
            "visible": true
          }
        },
        "d119372829854e3c8f55e4bfaa85b6b7": {
          "model_module": "jupyter-threejs",
          "model_name": "BufferGeometryModel",
          "model_module_version": "^2.4.1",
          "state": {
            "MaxIndex": 65535,
            "_model_module": "jupyter-threejs",
            "_model_module_version": "^2.4.1",
            "_model_name": "BufferGeometryModel",
            "_ref_geometry": null,
            "_store_ref": false,
            "_view_count": null,
            "_view_module": null,
            "_view_module_version": "",
            "_view_name": null,
            "attributes": {
              "color": "IPY_MODEL_def02c1879764d05b0a4f71ca62c4a57",
              "index": "IPY_MODEL_b75a7bcb376f4afbbee316e3cebf9c76",
              "position": "IPY_MODEL_73ba6e66b52a4aecb70fe9058882ab28"
            },
            "index": null,
            "morphAttributes": {},
            "name": "",
            "type": "BufferGeometry",
            "userData": {}
          }
        },
        "1ba7b96e68904cdab0a82098fbc2d11e": {
          "model_module": "jupyter-threejs",
          "model_name": "MeshStandardMaterialModel",
          "model_module_version": "^2.4.1",
          "state": {
            "_model_module": "jupyter-threejs",
            "_model_module_version": "^2.4.1",
            "_model_name": "MeshStandardMaterialModel",
            "_view_count": null,
            "_view_module": null,
            "_view_module_version": "",
            "_view_name": null,
            "alphaMap": null,
            "alphaTest": 0,
            "aoMap": null,
            "aoMapIntensity": 1,
            "blendDst": "OneMinusSrcAlphaFactor",
            "blendDstAlpha": 0,
            "blendEquation": "AddEquation",
            "blendEquationAlpha": 0,
            "blendSrc": "SrcAlphaFactor",
            "blendSrcAlpha": 0,
            "blending": "NormalBlending",
            "bumpMap": null,
            "bumpScale": 1,
            "clipIntersection": false,
            "clipShadows": false,
            "clippingPlanes": [],
            "color": "#ffffff",
            "colorWrite": true,
            "defines": {
              "STANDARD": ""
            },
            "depthFunc": "LessEqualDepth",
            "depthTest": true,
            "depthWrite": true,
            "displacementBias": 0,
            "displacementMap": null,
            "displacementScale": 1,
            "dithering": false,
            "emissive": "#000000",
            "emissiveIntensity": 1,
            "emissiveMap": null,
            "envMap": null,
            "envMapIntensity": 1,
            "flatShading": true,
            "fog": true,
            "lightMap": null,
            "lightMapIntensity": 1,
            "lights": true,
            "map": null,
            "metalness": 0.25,
            "metalnessMap": null,
            "morphNormals": false,
            "morphTargets": false,
            "name": "",
            "normalMap": null,
            "normalScale": [
              1,
              1
            ],
            "opacity": 1,
            "overdraw": 0,
            "polygonOffset": true,
            "polygonOffsetFactor": 1,
            "polygonOffsetUnits": 5,
            "precision": null,
            "premultipliedAlpha": false,
            "refractionRatio": 0.98,
            "roughness": 0.5,
            "roughnessMap": null,
            "shadowSide": null,
            "side": "DoubleSide",
            "skinning": false,
            "transparent": false,
            "type": "MeshStandardMaterial",
            "vertexColors": "VertexColors",
            "visible": true,
            "wireframe": false,
            "wireframeLinecap": "round",
            "wireframeLinejoin": "round",
            "wireframeLinewidth": 1
          }
        },
        "def02c1879764d05b0a4f71ca62c4a57": {
          "model_module": "jupyter-threejs",
          "model_name": "BufferAttributeModel",
          "model_module_version": "^2.4.1",
          "state": {
            "_model_module": "jupyter-threejs",
            "_model_module_version": "^2.4.1",
            "_model_name": "BufferAttributeModel",
            "_view_count": null,
            "_view_module": null,
            "_view_module_version": "",
            "_view_name": null,
            "array": {
              "shape": [
                4780,
                3
              ],
              "dtype": "float32"
            },
            "dynamic": false,
            "needsUpdate": false,
            "normalized": true,
            "version": 1
          }
        },
        "b75a7bcb376f4afbbee316e3cebf9c76": {
          "model_module": "jupyter-threejs",
          "model_name": "BufferAttributeModel",
          "model_module_version": "^2.4.1",
          "state": {
            "_model_module": "jupyter-threejs",
            "_model_module_version": "^2.4.1",
            "_model_name": "BufferAttributeModel",
            "_view_count": null,
            "_view_module": null,
            "_view_module_version": "",
            "_view_name": null,
            "array": {
              "shape": [
                28620
              ],
              "dtype": "uint32"
            },
            "dynamic": false,
            "needsUpdate": false,
            "normalized": false,
            "version": 1
          }
        },
        "73ba6e66b52a4aecb70fe9058882ab28": {
          "model_module": "jupyter-threejs",
          "model_name": "BufferAttributeModel",
          "model_module_version": "^2.4.1",
          "state": {
            "_model_module": "jupyter-threejs",
            "_model_module_version": "^2.4.1",
            "_model_name": "BufferAttributeModel",
            "_view_count": null,
            "_view_module": null,
            "_view_module_version": "",
            "_view_name": null,
            "array": {
              "shape": [
                4780,
                3
              ],
              "dtype": "float32"
            },
            "dynamic": false,
            "needsUpdate": false,
            "normalized": false,
            "version": 1
          }
        },
        "8dd5298e000343368a1321efc47ac2ec": {
          "model_module": "@jupyter-widgets/controls",
          "model_name": "HBoxModel",
          "model_module_version": "1.5.0",
          "state": {
            "_dom_classes": [],
            "_model_module": "@jupyter-widgets/controls",
            "_model_module_version": "1.5.0",
            "_model_name": "HBoxModel",
            "_view_count": null,
            "_view_module": "@jupyter-widgets/controls",
            "_view_module_version": "1.5.0",
            "_view_name": "HBoxView",
            "box_style": "",
            "children": [
              "IPY_MODEL_12f5d8c81fd840b190e97ea9c828c595",
              "IPY_MODEL_a24a99f1dd314d099120a2fc0599a147",
              "IPY_MODEL_1c75ba5dc2a14e2887b90147f7d799eb"
            ],
            "layout": "IPY_MODEL_44dacb8d89c149efa511ccb76e946e79"
          }
        },
        "12f5d8c81fd840b190e97ea9c828c595": {
          "model_module": "@jupyter-widgets/controls",
          "model_name": "HTMLModel",
          "model_module_version": "1.5.0",
          "state": {
            "_dom_classes": [],
            "_model_module": "@jupyter-widgets/controls",
            "_model_module_version": "1.5.0",
            "_model_name": "HTMLModel",
            "_view_count": null,
            "_view_module": "@jupyter-widgets/controls",
            "_view_module_version": "1.5.0",
            "_view_name": "HTMLView",
            "description": "",
            "description_tooltip": null,
            "layout": "IPY_MODEL_cea92d1f3e22494fbf09135c98b7e763",
            "placeholder": "​",
            "style": "IPY_MODEL_c3c2794bb92b49728ecde3724d37361c",
            "value": "Training: 100%"
          }
        },
        "a24a99f1dd314d099120a2fc0599a147": {
          "model_module": "@jupyter-widgets/controls",
          "model_name": "FloatProgressModel",
          "model_module_version": "1.5.0",
          "state": {
            "_dom_classes": [],
            "_model_module": "@jupyter-widgets/controls",
            "_model_module_version": "1.5.0",
            "_model_name": "FloatProgressModel",
            "_view_count": null,
            "_view_module": "@jupyter-widgets/controls",
            "_view_module_version": "1.5.0",
            "_view_name": "ProgressView",
            "bar_style": "success",
            "description": "",
            "description_tooltip": null,
            "layout": "IPY_MODEL_20c427e478fa4c78880369fcff6d4b36",
            "max": 10000,
            "min": 0,
            "orientation": "horizontal",
            "style": "IPY_MODEL_950aaebe0ff346659130aeddbd3e691d",
            "value": 10000
          }
        },
        "1c75ba5dc2a14e2887b90147f7d799eb": {
          "model_module": "@jupyter-widgets/controls",
          "model_name": "HTMLModel",
          "model_module_version": "1.5.0",
          "state": {
            "_dom_classes": [],
            "_model_module": "@jupyter-widgets/controls",
            "_model_module_version": "1.5.0",
            "_model_name": "HTMLModel",
            "_view_count": null,
            "_view_module": "@jupyter-widgets/controls",
            "_view_module_version": "1.5.0",
            "_view_name": "HTMLView",
            "description": "",
            "description_tooltip": null,
            "layout": "IPY_MODEL_d89c76da0a364ea881fa4df74ef1ae5a",
            "placeholder": "​",
            "style": "IPY_MODEL_5a2b9f061eca45bfaae599faaf6c7b1a",
            "value": " 10000/10000 [01:17&lt;00:00, 134.68it/s, loss=0.00052]"
          }
        },
        "44dacb8d89c149efa511ccb76e946e79": {
          "model_module": "@jupyter-widgets/base",
          "model_name": "LayoutModel",
          "model_module_version": "1.2.0",
          "state": {
            "_model_module": "@jupyter-widgets/base",
            "_model_module_version": "1.2.0",
            "_model_name": "LayoutModel",
            "_view_count": null,
            "_view_module": "@jupyter-widgets/base",
            "_view_module_version": "1.2.0",
            "_view_name": "LayoutView",
            "align_content": null,
            "align_items": null,
            "align_self": null,
            "border": null,
            "bottom": null,
            "display": null,
            "flex": null,
            "flex_flow": null,
            "grid_area": null,
            "grid_auto_columns": null,
            "grid_auto_flow": null,
            "grid_auto_rows": null,
            "grid_column": null,
            "grid_gap": null,
            "grid_row": null,
            "grid_template_areas": null,
            "grid_template_columns": null,
            "grid_template_rows": null,
            "height": null,
            "justify_content": null,
            "justify_items": null,
            "left": null,
            "margin": null,
            "max_height": null,
            "max_width": null,
            "min_height": null,
            "min_width": null,
            "object_fit": null,
            "object_position": null,
            "order": null,
            "overflow": null,
            "overflow_x": null,
            "overflow_y": null,
            "padding": null,
            "right": null,
            "top": null,
            "visibility": null,
            "width": null
          }
        },
        "cea92d1f3e22494fbf09135c98b7e763": {
          "model_module": "@jupyter-widgets/base",
          "model_name": "LayoutModel",
          "model_module_version": "1.2.0",
          "state": {
            "_model_module": "@jupyter-widgets/base",
            "_model_module_version": "1.2.0",
            "_model_name": "LayoutModel",
            "_view_count": null,
            "_view_module": "@jupyter-widgets/base",
            "_view_module_version": "1.2.0",
            "_view_name": "LayoutView",
            "align_content": null,
            "align_items": null,
            "align_self": null,
            "border": null,
            "bottom": null,
            "display": null,
            "flex": null,
            "flex_flow": null,
            "grid_area": null,
            "grid_auto_columns": null,
            "grid_auto_flow": null,
            "grid_auto_rows": null,
            "grid_column": null,
            "grid_gap": null,
            "grid_row": null,
            "grid_template_areas": null,
            "grid_template_columns": null,
            "grid_template_rows": null,
            "height": null,
            "justify_content": null,
            "justify_items": null,
            "left": null,
            "margin": null,
            "max_height": null,
            "max_width": null,
            "min_height": null,
            "min_width": null,
            "object_fit": null,
            "object_position": null,
            "order": null,
            "overflow": null,
            "overflow_x": null,
            "overflow_y": null,
            "padding": null,
            "right": null,
            "top": null,
            "visibility": null,
            "width": null
          }
        },
        "c3c2794bb92b49728ecde3724d37361c": {
          "model_module": "@jupyter-widgets/controls",
          "model_name": "DescriptionStyleModel",
          "model_module_version": "1.5.0",
          "state": {
            "_model_module": "@jupyter-widgets/controls",
            "_model_module_version": "1.5.0",
            "_model_name": "DescriptionStyleModel",
            "_view_count": null,
            "_view_module": "@jupyter-widgets/base",
            "_view_module_version": "1.2.0",
            "_view_name": "StyleView",
            "description_width": ""
          }
        },
        "20c427e478fa4c78880369fcff6d4b36": {
          "model_module": "@jupyter-widgets/base",
          "model_name": "LayoutModel",
          "model_module_version": "1.2.0",
          "state": {
            "_model_module": "@jupyter-widgets/base",
            "_model_module_version": "1.2.0",
            "_model_name": "LayoutModel",
            "_view_count": null,
            "_view_module": "@jupyter-widgets/base",
            "_view_module_version": "1.2.0",
            "_view_name": "LayoutView",
            "align_content": null,
            "align_items": null,
            "align_self": null,
            "border": null,
            "bottom": null,
            "display": null,
            "flex": null,
            "flex_flow": null,
            "grid_area": null,
            "grid_auto_columns": null,
            "grid_auto_flow": null,
            "grid_auto_rows": null,
            "grid_column": null,
            "grid_gap": null,
            "grid_row": null,
            "grid_template_areas": null,
            "grid_template_columns": null,
            "grid_template_rows": null,
            "height": null,
            "justify_content": null,
            "justify_items": null,
            "left": null,
            "margin": null,
            "max_height": null,
            "max_width": null,
            "min_height": null,
            "min_width": null,
            "object_fit": null,
            "object_position": null,
            "order": null,
            "overflow": null,
            "overflow_x": null,
            "overflow_y": null,
            "padding": null,
            "right": null,
            "top": null,
            "visibility": null,
            "width": null
          }
        },
        "950aaebe0ff346659130aeddbd3e691d": {
          "model_module": "@jupyter-widgets/controls",
          "model_name": "ProgressStyleModel",
          "model_module_version": "1.5.0",
          "state": {
            "_model_module": "@jupyter-widgets/controls",
            "_model_module_version": "1.5.0",
            "_model_name": "ProgressStyleModel",
            "_view_count": null,
            "_view_module": "@jupyter-widgets/base",
            "_view_module_version": "1.2.0",
            "_view_name": "StyleView",
            "bar_color": null,
            "description_width": ""
          }
        },
        "d89c76da0a364ea881fa4df74ef1ae5a": {
          "model_module": "@jupyter-widgets/base",
          "model_name": "LayoutModel",
          "model_module_version": "1.2.0",
          "state": {
            "_model_module": "@jupyter-widgets/base",
            "_model_module_version": "1.2.0",
            "_model_name": "LayoutModel",
            "_view_count": null,
            "_view_module": "@jupyter-widgets/base",
            "_view_module_version": "1.2.0",
            "_view_name": "LayoutView",
            "align_content": null,
            "align_items": null,
            "align_self": null,
            "border": null,
            "bottom": null,
            "display": null,
            "flex": null,
            "flex_flow": null,
            "grid_area": null,
            "grid_auto_columns": null,
            "grid_auto_flow": null,
            "grid_auto_rows": null,
            "grid_column": null,
            "grid_gap": null,
            "grid_row": null,
            "grid_template_areas": null,
            "grid_template_columns": null,
            "grid_template_rows": null,
            "height": null,
            "justify_content": null,
            "justify_items": null,
            "left": null,
            "margin": null,
            "max_height": null,
            "max_width": null,
            "min_height": null,
            "min_width": null,
            "object_fit": null,
            "object_position": null,
            "order": null,
            "overflow": null,
            "overflow_x": null,
            "overflow_y": null,
            "padding": null,
            "right": null,
            "top": null,
            "visibility": null,
            "width": null
          }
        },
        "5a2b9f061eca45bfaae599faaf6c7b1a": {
          "model_module": "@jupyter-widgets/controls",
          "model_name": "DescriptionStyleModel",
          "model_module_version": "1.5.0",
          "state": {
            "_model_module": "@jupyter-widgets/controls",
            "_model_module_version": "1.5.0",
            "_model_name": "DescriptionStyleModel",
            "_view_count": null,
            "_view_module": "@jupyter-widgets/base",
            "_view_module_version": "1.2.0",
            "_view_name": "StyleView",
            "description_width": ""
          }
        },
        "52907f0c8a8e4980a565f3b0efcdf4a0": {
          "model_module": "jupyter-threejs",
          "model_name": "RendererModel",
          "model_module_version": "^2.4.1",
          "state": {
            "_alpha": false,
            "_antialias": true,
            "_dom_classes": [],
            "_height": 600,
            "_model_module": "jupyter-threejs",
            "_model_module_version": "^2.4.1",
            "_model_name": "RendererModel",
            "_pause_autorender": false,
            "_view_count": null,
            "_view_module": "jupyter-threejs",
            "_view_module_version": "^2.4.1",
            "_view_name": "RendererView",
            "_webgl_version": 2,
            "_width": 600,
            "autoClear": true,
            "autoClearColor": true,
            "autoClearDepth": true,
            "autoClearStencil": true,
            "background": "black",
            "background_opacity": 1,
            "camera": "IPY_MODEL_bff351ae83f24300b53422243f163dd0",
            "clearColor": "#000000",
            "clearOpacity": 1,
            "clippingPlanes": [],
            "controls": [
              "IPY_MODEL_1e95f0d398434eaa9f9b8ee6b99e785e"
            ],
            "gammaFactor": 2,
            "gammaInput": false,
            "gammaOutput": false,
            "layout": "IPY_MODEL_1397a0b96efd441d86f4f8f0422e0292",
            "localClippingEnabled": false,
            "maxMorphNormals": 4,
            "maxMorphTargets": 8,
            "physicallyCorrectLights": false,
            "scene": "IPY_MODEL_51479ef86a674e6ba29f1af368077e3a",
            "shadowMap": "IPY_MODEL_3370a097453b460c9c8dee0daf84aa2f",
            "sortObject": true,
            "toneMapping": "LinearToneMapping",
            "toneMappingExposure": 1,
            "toneMappingWhitePoint": 1
          }
        },
        "bff351ae83f24300b53422243f163dd0": {
          "model_module": "jupyter-threejs",
          "model_name": "PerspectiveCameraModel",
          "model_module_version": "^2.4.1",
          "state": {
            "_model_module": "jupyter-threejs",
            "_model_module_version": "^2.4.1",
            "_model_name": "PerspectiveCameraModel",
            "_view_count": null,
            "_view_module": null,
            "_view_module_version": "",
            "_view_name": null,
            "aspect": 1,
            "castShadow": false,
            "children": [
              "IPY_MODEL_9c776889c1f4424c964d50f51ca2d9f2"
            ],
            "far": 2000,
            "focus": 85.40365981450498,
            "fov": 30,
            "frustumCulled": true,
            "matrix": [
              1,
              0,
              0,
              0,
              0,
              1,
              -4.159908002206139e-17,
              0,
              0,
              4.159908002206139e-17,
              1,
              0,
              19.52193593978882,
              19.22362327575684,
              104.24912785878598,
              1
            ],
            "matrixAutoUpdate": true,
            "matrixWorld": [
              1,
              0,
              0,
              0,
              0,
              1,
              -4.159908002206139e-17,
              0,
              0,
              4.159908002206139e-17,
              1,
              0,
              19.52193593978882,
              19.22362327575684,
              104.24912785878598,
              1
            ],
            "matrixWorldInverse": [
              1,
              0,
              0,
              0,
              0,
              1,
              4.159908002206139e-17,
              0,
              0,
              -4.159908002206139e-17,
              1,
              0,
              -19.52193593978882,
              -19.223623275756836,
              -104.24912785878598,
              1
            ],
            "matrixWorldNeedsUpdate": false,
            "modelViewMatrix": [
              1,
              0,
              0,
              0,
              0,
              1,
              0,
              0,
              0,
              0,
              1,
              0,
              0,
              0,
              0,
              1
            ],
            "name": "",
            "near": 0.1,
            "normalMatrix": [
              1,
              0,
              0,
              0,
              1,
              0,
              0,
              0,
              1
            ],
            "position": [
              19.52193593978882,
              19.22362327575684,
              95.92227102687167
            ],
            "projectionMatrix": [
              3.7320508075688776,
              0,
              0,
              0,
              0,
              3.7320508075688776,
              0,
              0,
              0,
              0,
              -1.00010000500025,
              -1,
              0,
              0,
              -0.200010000500025,
              0
            ],
            "quaternion": [
              -2.3046581729673923e-17,
              0,
              0,
              1
            ],
            "receiveShadow": false,
            "renderOrder": 0,
            "rotation": [
              -4.159908002206139e-17,
              0,
              0,
              "XYZ"
            ],
            "scale": [
              1,
              1,
              1
            ],
            "type": "PerspectiveCamera",
            "up": [
              0,
              1,
              0
            ],
            "visible": true,
            "zoom": 1
          }
        },
        "1e95f0d398434eaa9f9b8ee6b99e785e": {
          "model_module": "jupyter-threejs",
          "model_name": "OrbitControlsModel",
          "model_module_version": "^2.4.1",
          "state": {
            "_model_module": "jupyter-threejs",
            "_model_module_version": "^2.4.1",
            "_model_name": "OrbitControlsModel",
            "_view_count": null,
            "_view_module": null,
            "_view_module_version": "",
            "_view_name": null,
            "autoRotate": false,
            "autoRotateSpeed": 2,
            "controlling": "IPY_MODEL_bff351ae83f24300b53422243f163dd0",
            "dampingFactor": 0.25,
            "enableDamping": false,
            "enableKeys": true,
            "enablePan": true,
            "enableRotate": true,
            "enableZoom": true,
            "enabled": true,
            "keyPanSpeed": 7,
            "maxAzimuthAngle": "inf",
            "maxDistance": "inf",
            "maxPolarAngle": 3.141592653589793,
            "maxZoom": "inf",
            "minAzimuthAngle": "-inf",
            "minDistance": 0,
            "minPolarAngle": 0,
            "minZoom": 0,
            "panSpeed": 1,
            "rotateSpeed": 1,
            "screenSpacePanning": true,
            "target": [
              19.52193593978882,
              19.223623275756836,
              18.845468044281006
            ],
            "zoomSpeed": 1
          }
        },
        "1397a0b96efd441d86f4f8f0422e0292": {
          "model_module": "@jupyter-widgets/base",
          "model_name": "LayoutModel",
          "model_module_version": "1.2.0",
          "state": {
            "_model_module": "@jupyter-widgets/base",
            "_model_module_version": "1.2.0",
            "_model_name": "LayoutModel",
            "_view_count": null,
            "_view_module": "@jupyter-widgets/base",
            "_view_module_version": "1.2.0",
            "_view_name": "LayoutView",
            "align_content": null,
            "align_items": null,
            "align_self": null,
            "border": null,
            "bottom": null,
            "display": null,
            "flex": null,
            "flex_flow": null,
            "grid_area": null,
            "grid_auto_columns": null,
            "grid_auto_flow": null,
            "grid_auto_rows": null,
            "grid_column": null,
            "grid_gap": null,
            "grid_row": null,
            "grid_template_areas": null,
            "grid_template_columns": null,
            "grid_template_rows": null,
            "height": null,
            "justify_content": null,
            "justify_items": null,
            "left": null,
            "margin": null,
            "max_height": null,
            "max_width": null,
            "min_height": null,
            "min_width": null,
            "object_fit": null,
            "object_position": null,
            "order": null,
            "overflow": null,
            "overflow_x": null,
            "overflow_y": null,
            "padding": null,
            "right": null,
            "top": null,
            "visibility": null,
            "width": null
          }
        },
        "51479ef86a674e6ba29f1af368077e3a": {
          "model_module": "jupyter-threejs",
          "model_name": "SceneModel",
          "model_module_version": "^2.4.1",
          "state": {
            "_model_module": "jupyter-threejs",
            "_model_module_version": "^2.4.1",
            "_model_name": "SceneModel",
            "_view_count": null,
            "_view_module": null,
            "_view_module_version": "",
            "_view_name": null,
            "autoUpdate": true,
            "background": "#ffffff",
            "castShadow": false,
            "children": [
              "IPY_MODEL_bff351ae83f24300b53422243f163dd0",
              "IPY_MODEL_bdd7aba7f751490b812f48f4ba4693dc",
              "IPY_MODEL_021078bd7e944155946fc85a453fa02b"
            ],
            "fog": null,
            "frustumCulled": true,
            "matrix": [
              1,
              0,
              0,
              0,
              0,
              1,
              0,
              0,
              0,
              0,
              1,
              0,
              0,
              0,
              0,
              1
            ],
            "matrixAutoUpdate": true,
            "matrixWorld": [
              1,
              0,
              0,
              0,
              0,
              1,
              0,
              0,
              0,
              0,
              1,
              0,
              0,
              0,
              0,
              1
            ],
            "matrixWorldNeedsUpdate": false,
            "modelViewMatrix": [
              1,
              0,
              0,
              0,
              0,
              1,
              0,
              0,
              0,
              0,
              1,
              0,
              0,
              0,
              0,
              1
            ],
            "name": "",
            "normalMatrix": [
              1,
              0,
              0,
              0,
              1,
              0,
              0,
              0,
              1
            ],
            "overrideMaterial": null,
            "position": [
              0,
              0,
              0
            ],
            "quaternion": [
              0,
              0,
              0,
              1
            ],
            "receiveShadow": false,
            "renderOrder": 0,
            "rotation": [
              0,
              0,
              0,
              "XYZ"
            ],
            "scale": [
              1,
              1,
              1
            ],
            "type": "Scene",
            "up": [
              0,
              1,
              0
            ],
            "visible": true
          }
        },
        "3370a097453b460c9c8dee0daf84aa2f": {
          "model_module": "jupyter-threejs",
          "model_name": "WebGLShadowMapModel",
          "model_module_version": "^2.4.1",
          "state": {
            "_model_module": "jupyter-threejs",
            "_model_module_version": "^2.4.1",
            "_model_name": "WebGLShadowMapModel",
            "_view_count": null,
            "_view_module": null,
            "_view_module_version": "",
            "_view_name": null,
            "enabled": false,
            "type": "PCFShadowMap"
          }
        },
        "9c776889c1f4424c964d50f51ca2d9f2": {
          "model_module": "jupyter-threejs",
          "model_name": "DirectionalLightModel",
          "model_module_version": "^2.4.1",
          "state": {
            "_model_module": "jupyter-threejs",
            "_model_module_version": "^2.4.1",
            "_model_name": "DirectionalLightModel",
            "_view_count": null,
            "_view_module": null,
            "_view_module_version": "",
            "_view_name": null,
            "castShadow": false,
            "children": [],
            "color": "white",
            "frustumCulled": true,
            "intensity": 0.6,
            "matrix": [
              1,
              0,
              0,
              0,
              0,
              1,
              0,
              0,
              0,
              0,
              1,
              0,
              0,
              0,
              0,
              1
            ],
            "matrixAutoUpdate": true,
            "matrixWorld": [
              1,
              0,
              0,
              0,
              0,
              1,
              0,
              0,
              0,
              0,
              1,
              0,
              0,
              0,
              0,
              1
            ],
            "matrixWorldNeedsUpdate": true,
            "modelViewMatrix": [
              1,
              0,
              0,
              0,
              0,
              1,
              0,
              0,
              0,
              0,
              1,
              0,
              0,
              0,
              0,
              1
            ],
            "name": "",
            "normalMatrix": [
              1,
              0,
              0,
              0,
              1,
              0,
              0,
              0,
              1
            ],
            "position": [
              19.52193593978882,
              19.223623275756836,
              104.24912785878598
            ],
            "quaternion": [
              0,
              0,
              0,
              1
            ],
            "receiveShadow": false,
            "renderOrder": 0,
            "rotation": [
              0,
              0,
              0,
              "XYZ"
            ],
            "scale": [
              1,
              1,
              1
            ],
            "shadow": "IPY_MODEL_1c4dc4df-2702-4989-899a-5c2c9f36a4cd",
            "target": "IPY_MODEL_37e583f3-c979-4f27-adb8-952e10eb5d25",
            "type": "DirectionalLight",
            "up": [
              0,
              1,
              0
            ],
            "visible": true
          }
        },
        "bdd7aba7f751490b812f48f4ba4693dc": {
          "model_module": "jupyter-threejs",
          "model_name": "AmbientLightModel",
          "model_module_version": "^2.4.1",
          "state": {
            "_model_module": "jupyter-threejs",
            "_model_module_version": "^2.4.1",
            "_model_name": "AmbientLightModel",
            "_view_count": null,
            "_view_module": null,
            "_view_module_version": "",
            "_view_name": null,
            "castShadow": false,
            "children": [],
            "color": "#ffffff",
            "frustumCulled": true,
            "intensity": 0.5,
            "matrix": [
              1,
              0,
              0,
              0,
              0,
              1,
              0,
              0,
              0,
              0,
              1,
              0,
              0,
              0,
              0,
              1
            ],
            "matrixAutoUpdate": true,
            "matrixWorld": [
              1,
              0,
              0,
              0,
              0,
              1,
              0,
              0,
              0,
              0,
              1,
              0,
              0,
              0,
              0,
              1
            ],
            "matrixWorldNeedsUpdate": false,
            "modelViewMatrix": [
              1,
              0,
              0,
              0,
              0,
              1,
              0,
              0,
              0,
              0,
              1,
              0,
              0,
              0,
              0,
              1
            ],
            "name": "",
            "normalMatrix": [
              1,
              0,
              0,
              0,
              1,
              0,
              0,
              0,
              1
            ],
            "position": [
              0,
              0,
              0
            ],
            "quaternion": [
              0,
              0,
              0,
              1
            ],
            "receiveShadow": false,
            "renderOrder": 0,
            "rotation": [
              0,
              0,
              0,
              "XYZ"
            ],
            "scale": [
              1,
              1,
              1
            ],
            "type": "AmbientLight",
            "up": [
              0,
              1,
              0
            ],
            "visible": true
          }
        },
        "021078bd7e944155946fc85a453fa02b": {
          "model_module": "jupyter-threejs",
          "model_name": "MeshModel",
          "model_module_version": "^2.4.1",
          "state": {
            "_model_module": "jupyter-threejs",
            "_model_module_version": "^2.4.1",
            "_model_name": "MeshModel",
            "_view_count": null,
            "_view_module": null,
            "_view_module_version": "",
            "_view_name": null,
            "castShadow": false,
            "children": [],
            "drawMode": "TrianglesDrawMode",
            "frustumCulled": true,
            "geometry": "IPY_MODEL_5ecdc0c3a7a541408cd98fd3b8280099",
            "material": "IPY_MODEL_3af2a37b6b0641a5beb9f7a585fc11e8",
            "matrix": [
              1,
              0,
              0,
              0,
              0,
              1,
              0,
              0,
              0,
              0,
              1,
              0,
              0,
              0,
              0,
              1
            ],
            "matrixAutoUpdate": true,
            "matrixWorld": [
              1,
              0,
              0,
              0,
              0,
              1,
              0,
              0,
              0,
              0,
              1,
              0,
              0,
              0,
              0,
              1
            ],
            "matrixWorldNeedsUpdate": false,
            "modelViewMatrix": [
              1,
              0,
              0,
              0,
              0,
              1,
              0,
              0,
              0,
              0,
              1,
              0,
              0,
              0,
              0,
              1
            ],
            "morphTargetInfluences": [],
            "name": "",
            "normalMatrix": [
              1,
              0,
              0,
              0,
              1,
              0,
              0,
              0,
              1
            ],
            "position": [
              0,
              0,
              0
            ],
            "quaternion": [
              0,
              0,
              0,
              1
            ],
            "receiveShadow": false,
            "renderOrder": 0,
            "rotation": [
              0,
              0,
              0,
              "XYZ"
            ],
            "scale": [
              1,
              1,
              1
            ],
            "type": "Mesh",
            "up": [
              0,
              1,
              0
            ],
            "visible": true
          }
        },
        "5ecdc0c3a7a541408cd98fd3b8280099": {
          "model_module": "jupyter-threejs",
          "model_name": "BufferGeometryModel",
          "model_module_version": "^2.4.1",
          "state": {
            "MaxIndex": 65535,
            "_model_module": "jupyter-threejs",
            "_model_module_version": "^2.4.1",
            "_model_name": "BufferGeometryModel",
            "_ref_geometry": null,
            "_store_ref": false,
            "_view_count": null,
            "_view_module": null,
            "_view_module_version": "",
            "_view_name": null,
            "attributes": {
              "color": "IPY_MODEL_f3f899225f774ebba641d62c11e52bd8",
              "index": "IPY_MODEL_fc62c7a5aa734a32b674d25db14736ef",
              "position": "IPY_MODEL_e006c188253e4d169bd5deee569e5bb3"
            },
            "index": null,
            "morphAttributes": {},
            "name": "",
            "type": "BufferGeometry",
            "userData": {}
          }
        },
        "3af2a37b6b0641a5beb9f7a585fc11e8": {
          "model_module": "jupyter-threejs",
          "model_name": "MeshStandardMaterialModel",
          "model_module_version": "^2.4.1",
          "state": {
            "_model_module": "jupyter-threejs",
            "_model_module_version": "^2.4.1",
            "_model_name": "MeshStandardMaterialModel",
            "_view_count": null,
            "_view_module": null,
            "_view_module_version": "",
            "_view_name": null,
            "alphaMap": null,
            "alphaTest": 0,
            "aoMap": null,
            "aoMapIntensity": 1,
            "blendDst": "OneMinusSrcAlphaFactor",
            "blendDstAlpha": 0,
            "blendEquation": "AddEquation",
            "blendEquationAlpha": 0,
            "blendSrc": "SrcAlphaFactor",
            "blendSrcAlpha": 0,
            "blending": "NormalBlending",
            "bumpMap": null,
            "bumpScale": 1,
            "clipIntersection": false,
            "clipShadows": false,
            "clippingPlanes": [],
            "color": "#ffffff",
            "colorWrite": true,
            "defines": {
              "STANDARD": ""
            },
            "depthFunc": "LessEqualDepth",
            "depthTest": true,
            "depthWrite": true,
            "displacementBias": 0,
            "displacementMap": null,
            "displacementScale": 1,
            "dithering": false,
            "emissive": "#000000",
            "emissiveIntensity": 1,
            "emissiveMap": null,
            "envMap": null,
            "envMapIntensity": 1,
            "flatShading": true,
            "fog": true,
            "lightMap": null,
            "lightMapIntensity": 1,
            "lights": true,
            "map": null,
            "metalness": 0.25,
            "metalnessMap": null,
            "morphNormals": false,
            "morphTargets": false,
            "name": "",
            "normalMap": null,
            "normalScale": [
              1,
              1
            ],
            "opacity": 1,
            "overdraw": 0,
            "polygonOffset": true,
            "polygonOffsetFactor": 1,
            "polygonOffsetUnits": 5,
            "precision": null,
            "premultipliedAlpha": false,
            "refractionRatio": 0.98,
            "roughness": 0.5,
            "roughnessMap": null,
            "shadowSide": null,
            "side": "DoubleSide",
            "skinning": false,
            "transparent": false,
            "type": "MeshStandardMaterial",
            "vertexColors": "VertexColors",
            "visible": true,
            "wireframe": false,
            "wireframeLinecap": "round",
            "wireframeLinejoin": "round",
            "wireframeLinewidth": 1
          }
        },
        "f3f899225f774ebba641d62c11e52bd8": {
          "model_module": "jupyter-threejs",
          "model_name": "BufferAttributeModel",
          "model_module_version": "^2.4.1",
          "state": {
            "_model_module": "jupyter-threejs",
            "_model_module_version": "^2.4.1",
            "_model_name": "BufferAttributeModel",
            "_view_count": null,
            "_view_module": null,
            "_view_module_version": "",
            "_view_name": null,
            "array": {
              "shape": [
                3296,
                3
              ],
              "dtype": "float32"
            },
            "dynamic": false,
            "needsUpdate": false,
            "normalized": true,
            "version": 1
          }
        },
        "fc62c7a5aa734a32b674d25db14736ef": {
          "model_module": "jupyter-threejs",
          "model_name": "BufferAttributeModel",
          "model_module_version": "^2.4.1",
          "state": {
            "_model_module": "jupyter-threejs",
            "_model_module_version": "^2.4.1",
            "_model_name": "BufferAttributeModel",
            "_view_count": null,
            "_view_module": null,
            "_view_module_version": "",
            "_view_name": null,
            "array": {
              "shape": [
                19590
              ],
              "dtype": "uint32"
            },
            "dynamic": false,
            "needsUpdate": false,
            "normalized": false,
            "version": 1
          }
        },
        "e006c188253e4d169bd5deee569e5bb3": {
          "model_module": "jupyter-threejs",
          "model_name": "BufferAttributeModel",
          "model_module_version": "^2.4.1",
          "state": {
            "_model_module": "jupyter-threejs",
            "_model_module_version": "^2.4.1",
            "_model_name": "BufferAttributeModel",
            "_view_count": null,
            "_view_module": null,
            "_view_module_version": "",
            "_view_name": null,
            "array": {
              "shape": [
                3296,
                3
              ],
              "dtype": "float32"
            },
            "dynamic": false,
            "needsUpdate": false,
            "normalized": false,
            "version": 1
          }
        },
        "ff67709666a844ed81ca9615b425c83c": {
          "model_module": "@jupyter-widgets/controls",
          "model_name": "HBoxModel",
          "model_module_version": "1.5.0",
          "state": {
            "_dom_classes": [],
            "_model_module": "@jupyter-widgets/controls",
            "_model_module_version": "1.5.0",
            "_model_name": "HBoxModel",
            "_view_count": null,
            "_view_module": "@jupyter-widgets/controls",
            "_view_module_version": "1.5.0",
            "_view_name": "HBoxView",
            "box_style": "",
            "children": [
              "IPY_MODEL_f7ba6fa23362497e9eea845cd1b0d07b",
              "IPY_MODEL_fd42e9b8d3c04f829de18b0620d13d49",
              "IPY_MODEL_46faedc3281f45069491b148e815ba6b"
            ],
            "layout": "IPY_MODEL_de376739a9ee44c5a6b8fe1afea86c81"
          }
        },
        "f7ba6fa23362497e9eea845cd1b0d07b": {
          "model_module": "@jupyter-widgets/controls",
          "model_name": "HTMLModel",
          "model_module_version": "1.5.0",
          "state": {
            "_dom_classes": [],
            "_model_module": "@jupyter-widgets/controls",
            "_model_module_version": "1.5.0",
            "_model_name": "HTMLModel",
            "_view_count": null,
            "_view_module": "@jupyter-widgets/controls",
            "_view_module_version": "1.5.0",
            "_view_name": "HTMLView",
            "description": "",
            "description_tooltip": null,
            "layout": "IPY_MODEL_4dea44c2e90b4a7a98821f23d160986f",
            "placeholder": "​",
            "style": "IPY_MODEL_162c0330a5c2420787cf0937c120b6de",
            "value": "Training:   0%"
          }
        },
        "fd42e9b8d3c04f829de18b0620d13d49": {
          "model_module": "@jupyter-widgets/controls",
          "model_name": "FloatProgressModel",
          "model_module_version": "1.5.0",
          "state": {
            "_dom_classes": [],
            "_model_module": "@jupyter-widgets/controls",
            "_model_module_version": "1.5.0",
            "_model_name": "FloatProgressModel",
            "_view_count": null,
            "_view_module": "@jupyter-widgets/controls",
            "_view_module_version": "1.5.0",
            "_view_name": "ProgressView",
            "bar_style": "",
            "description": "",
            "description_tooltip": null,
            "layout": "IPY_MODEL_500c1fc33b2f463a89dfc9a82eb467d4",
            "max": 5000,
            "min": 0,
            "orientation": "horizontal",
            "style": "IPY_MODEL_6629a6d002584083b6c5004a9678f8c9",
            "value": 0
          }
        },
        "46faedc3281f45069491b148e815ba6b": {
          "model_module": "@jupyter-widgets/controls",
          "model_name": "HTMLModel",
          "model_module_version": "1.5.0",
          "state": {
            "_dom_classes": [],
            "_model_module": "@jupyter-widgets/controls",
            "_model_module_version": "1.5.0",
            "_model_name": "HTMLModel",
            "_view_count": null,
            "_view_module": "@jupyter-widgets/controls",
            "_view_module_version": "1.5.0",
            "_view_name": "HTMLView",
            "description": "",
            "description_tooltip": null,
            "layout": "IPY_MODEL_45722705cfa142f3b24e7734595cfad6",
            "placeholder": "​",
            "style": "IPY_MODEL_5f8039994e054e57884c1ee546801000",
            "value": " 0/5000 [00:00&lt;?, ?it/s]"
          }
        },
        "de376739a9ee44c5a6b8fe1afea86c81": {
          "model_module": "@jupyter-widgets/base",
          "model_name": "LayoutModel",
          "model_module_version": "1.2.0",
          "state": {
            "_model_module": "@jupyter-widgets/base",
            "_model_module_version": "1.2.0",
            "_model_name": "LayoutModel",
            "_view_count": null,
            "_view_module": "@jupyter-widgets/base",
            "_view_module_version": "1.2.0",
            "_view_name": "LayoutView",
            "align_content": null,
            "align_items": null,
            "align_self": null,
            "border": null,
            "bottom": null,
            "display": null,
            "flex": null,
            "flex_flow": null,
            "grid_area": null,
            "grid_auto_columns": null,
            "grid_auto_flow": null,
            "grid_auto_rows": null,
            "grid_column": null,
            "grid_gap": null,
            "grid_row": null,
            "grid_template_areas": null,
            "grid_template_columns": null,
            "grid_template_rows": null,
            "height": null,
            "justify_content": null,
            "justify_items": null,
            "left": null,
            "margin": null,
            "max_height": null,
            "max_width": null,
            "min_height": null,
            "min_width": null,
            "object_fit": null,
            "object_position": null,
            "order": null,
            "overflow": null,
            "overflow_x": null,
            "overflow_y": null,
            "padding": null,
            "right": null,
            "top": null,
            "visibility": null,
            "width": null
          }
        },
        "4dea44c2e90b4a7a98821f23d160986f": {
          "model_module": "@jupyter-widgets/base",
          "model_name": "LayoutModel",
          "model_module_version": "1.2.0",
          "state": {
            "_model_module": "@jupyter-widgets/base",
            "_model_module_version": "1.2.0",
            "_model_name": "LayoutModel",
            "_view_count": null,
            "_view_module": "@jupyter-widgets/base",
            "_view_module_version": "1.2.0",
            "_view_name": "LayoutView",
            "align_content": null,
            "align_items": null,
            "align_self": null,
            "border": null,
            "bottom": null,
            "display": null,
            "flex": null,
            "flex_flow": null,
            "grid_area": null,
            "grid_auto_columns": null,
            "grid_auto_flow": null,
            "grid_auto_rows": null,
            "grid_column": null,
            "grid_gap": null,
            "grid_row": null,
            "grid_template_areas": null,
            "grid_template_columns": null,
            "grid_template_rows": null,
            "height": null,
            "justify_content": null,
            "justify_items": null,
            "left": null,
            "margin": null,
            "max_height": null,
            "max_width": null,
            "min_height": null,
            "min_width": null,
            "object_fit": null,
            "object_position": null,
            "order": null,
            "overflow": null,
            "overflow_x": null,
            "overflow_y": null,
            "padding": null,
            "right": null,
            "top": null,
            "visibility": null,
            "width": null
          }
        },
        "162c0330a5c2420787cf0937c120b6de": {
          "model_module": "@jupyter-widgets/controls",
          "model_name": "DescriptionStyleModel",
          "model_module_version": "1.5.0",
          "state": {
            "_model_module": "@jupyter-widgets/controls",
            "_model_module_version": "1.5.0",
            "_model_name": "DescriptionStyleModel",
            "_view_count": null,
            "_view_module": "@jupyter-widgets/base",
            "_view_module_version": "1.2.0",
            "_view_name": "StyleView",
            "description_width": ""
          }
        },
        "500c1fc33b2f463a89dfc9a82eb467d4": {
          "model_module": "@jupyter-widgets/base",
          "model_name": "LayoutModel",
          "model_module_version": "1.2.0",
          "state": {
            "_model_module": "@jupyter-widgets/base",
            "_model_module_version": "1.2.0",
            "_model_name": "LayoutModel",
            "_view_count": null,
            "_view_module": "@jupyter-widgets/base",
            "_view_module_version": "1.2.0",
            "_view_name": "LayoutView",
            "align_content": null,
            "align_items": null,
            "align_self": null,
            "border": null,
            "bottom": null,
            "display": null,
            "flex": null,
            "flex_flow": null,
            "grid_area": null,
            "grid_auto_columns": null,
            "grid_auto_flow": null,
            "grid_auto_rows": null,
            "grid_column": null,
            "grid_gap": null,
            "grid_row": null,
            "grid_template_areas": null,
            "grid_template_columns": null,
            "grid_template_rows": null,
            "height": null,
            "justify_content": null,
            "justify_items": null,
            "left": null,
            "margin": null,
            "max_height": null,
            "max_width": null,
            "min_height": null,
            "min_width": null,
            "object_fit": null,
            "object_position": null,
            "order": null,
            "overflow": null,
            "overflow_x": null,
            "overflow_y": null,
            "padding": null,
            "right": null,
            "top": null,
            "visibility": null,
            "width": null
          }
        },
        "6629a6d002584083b6c5004a9678f8c9": {
          "model_module": "@jupyter-widgets/controls",
          "model_name": "ProgressStyleModel",
          "model_module_version": "1.5.0",
          "state": {
            "_model_module": "@jupyter-widgets/controls",
            "_model_module_version": "1.5.0",
            "_model_name": "ProgressStyleModel",
            "_view_count": null,
            "_view_module": "@jupyter-widgets/base",
            "_view_module_version": "1.2.0",
            "_view_name": "StyleView",
            "bar_color": null,
            "description_width": ""
          }
        },
        "45722705cfa142f3b24e7734595cfad6": {
          "model_module": "@jupyter-widgets/base",
          "model_name": "LayoutModel",
          "model_module_version": "1.2.0",
          "state": {
            "_model_module": "@jupyter-widgets/base",
            "_model_module_version": "1.2.0",
            "_model_name": "LayoutModel",
            "_view_count": null,
            "_view_module": "@jupyter-widgets/base",
            "_view_module_version": "1.2.0",
            "_view_name": "LayoutView",
            "align_content": null,
            "align_items": null,
            "align_self": null,
            "border": null,
            "bottom": null,
            "display": null,
            "flex": null,
            "flex_flow": null,
            "grid_area": null,
            "grid_auto_columns": null,
            "grid_auto_flow": null,
            "grid_auto_rows": null,
            "grid_column": null,
            "grid_gap": null,
            "grid_row": null,
            "grid_template_areas": null,
            "grid_template_columns": null,
            "grid_template_rows": null,
            "height": null,
            "justify_content": null,
            "justify_items": null,
            "left": null,
            "margin": null,
            "max_height": null,
            "max_width": null,
            "min_height": null,
            "min_width": null,
            "object_fit": null,
            "object_position": null,
            "order": null,
            "overflow": null,
            "overflow_x": null,
            "overflow_y": null,
            "padding": null,
            "right": null,
            "top": null,
            "visibility": null,
            "width": null
          }
        },
        "5f8039994e054e57884c1ee546801000": {
          "model_module": "@jupyter-widgets/controls",
          "model_name": "DescriptionStyleModel",
          "model_module_version": "1.5.0",
          "state": {
            "_model_module": "@jupyter-widgets/controls",
            "_model_module_version": "1.5.0",
            "_model_name": "DescriptionStyleModel",
            "_view_count": null,
            "_view_module": "@jupyter-widgets/base",
            "_view_module_version": "1.2.0",
            "_view_name": "StyleView",
            "description_width": ""
          }
        },
        "4327ba7a042d4c5aab6cac7c97190a73": {
          "model_module": "jupyter-threejs",
          "model_name": "RendererModel",
          "model_module_version": "^2.4.1",
          "state": {
            "_alpha": false,
            "_antialias": true,
            "_dom_classes": [],
            "_height": 600,
            "_model_module": "jupyter-threejs",
            "_model_module_version": "^2.4.1",
            "_model_name": "RendererModel",
            "_pause_autorender": false,
            "_view_count": null,
            "_view_module": "jupyter-threejs",
            "_view_module_version": "^2.4.1",
            "_view_name": "RendererView",
            "_webgl_version": 2,
            "_width": 600,
            "autoClear": true,
            "autoClearColor": true,
            "autoClearDepth": true,
            "autoClearStencil": true,
            "background": "black",
            "background_opacity": 1,
            "camera": "IPY_MODEL_b319e91d9b774015b4b8ded4ca2a9fa9",
            "clearColor": "#000000",
            "clearOpacity": 1,
            "clippingPlanes": [],
            "controls": [
              "IPY_MODEL_23b7b8203cc842959f8c612282063394"
            ],
            "gammaFactor": 2,
            "gammaInput": false,
            "gammaOutput": false,
            "layout": "IPY_MODEL_fcb8c0a666fc4d698e855dfea1d7c2c8",
            "localClippingEnabled": false,
            "maxMorphNormals": 4,
            "maxMorphTargets": 8,
            "physicallyCorrectLights": false,
            "scene": "IPY_MODEL_0bf08e4b527a4b829431eadde9291c3b",
            "shadowMap": "IPY_MODEL_40b6d48b20fb417a8651d8c5c47c8d4e",
            "sortObject": true,
            "toneMapping": "LinearToneMapping",
            "toneMappingExposure": 1,
            "toneMappingWhitePoint": 1
          }
        },
        "b319e91d9b774015b4b8ded4ca2a9fa9": {
          "model_module": "jupyter-threejs",
          "model_name": "PerspectiveCameraModel",
          "model_module_version": "^2.4.1",
          "state": {
            "_model_module": "jupyter-threejs",
            "_model_module_version": "^2.4.1",
            "_model_name": "PerspectiveCameraModel",
            "_view_count": null,
            "_view_module": null,
            "_view_module_version": "",
            "_view_name": null,
            "aspect": 1,
            "castShadow": false,
            "children": [
              "IPY_MODEL_178ff6bce1d041bdb15cafa9fe44cd5a"
            ],
            "far": 2000,
            "focus": 101.32497224277932,
            "fov": 30,
            "frustumCulled": true,
            "matrix": [
              1,
              0,
              0,
              0,
              0,
              1,
              -7.012513500202171e-17,
              0,
              0,
              7.012513500202171e-17,
              1,
              0,
              19.5,
              19.500000000000007,
              120.82497224277932,
              1
            ],
            "matrixAutoUpdate": true,
            "matrixWorld": [
              1,
              0,
              0,
              0,
              0,
              1,
              -7.012513500202171e-17,
              0,
              0,
              7.012513500202171e-17,
              1,
              0,
              19.5,
              19.500000000000007,
              120.82497224277932,
              1
            ],
            "matrixWorldInverse": [
              1,
              0,
              0,
              0,
              0,
              1,
              7.012513500202171e-17,
              0,
              0,
              -7.012513500202171e-17,
              1,
              0,
              -19.5,
              -19.5,
              -120.82497224277932,
              1
            ],
            "matrixWorldNeedsUpdate": false,
            "modelViewMatrix": [
              1,
              0,
              0,
              0,
              0,
              1,
              0,
              0,
              0,
              0,
              1,
              0,
              0,
              0,
              0,
              1
            ],
            "name": "",
            "near": 0.1,
            "normalMatrix": [
              1,
              0,
              0,
              0,
              1,
              0,
              0,
              0,
              1
            ],
            "position": [
              112.28344554753535,
              107.22395254001316,
              88.40706783428655
            ],
            "projectionMatrix": [
              3.7320508075688776,
              0,
              0,
              0,
              0,
              3.7320508075688776,
              0,
              0,
              0,
              0,
              -1.00010000500025,
              -1,
              0,
              0,
              -0.200010000500025,
              0
            ],
            "quaternion": [
              -0.2849486975949364,
              0.4258504245616779,
              0.1433142645170294,
              0.8467093227463195
            ],
            "receiveShadow": false,
            "renderOrder": 0,
            "rotation": [
              -7.012513500202171e-17,
              0,
              0,
              "XYZ"
            ],
            "scale": [
              1,
              1,
              1
            ],
            "type": "PerspectiveCamera",
            "up": [
              0,
              1,
              0
            ],
            "visible": true,
            "zoom": 1
          }
        },
        "23b7b8203cc842959f8c612282063394": {
          "model_module": "jupyter-threejs",
          "model_name": "OrbitControlsModel",
          "model_module_version": "^2.4.1",
          "state": {
            "_model_module": "jupyter-threejs",
            "_model_module_version": "^2.4.1",
            "_model_name": "OrbitControlsModel",
            "_view_count": null,
            "_view_module": null,
            "_view_module_version": "",
            "_view_name": null,
            "autoRotate": false,
            "autoRotateSpeed": 2,
            "controlling": "IPY_MODEL_b319e91d9b774015b4b8ded4ca2a9fa9",
            "dampingFactor": 0.25,
            "enableDamping": false,
            "enableKeys": true,
            "enablePan": true,
            "enableRotate": true,
            "enableZoom": true,
            "enabled": true,
            "keyPanSpeed": 7,
            "maxAzimuthAngle": "inf",
            "maxDistance": "inf",
            "maxPolarAngle": 3.141592653589793,
            "maxZoom": "inf",
            "minAzimuthAngle": "-inf",
            "minDistance": 0,
            "minPolarAngle": 0,
            "minZoom": 0,
            "panSpeed": 1,
            "rotateSpeed": 1,
            "screenSpacePanning": true,
            "target": [
              19.5,
              19.5,
              19.5
            ],
            "zoomSpeed": 1
          }
        },
        "fcb8c0a666fc4d698e855dfea1d7c2c8": {
          "model_module": "@jupyter-widgets/base",
          "model_name": "LayoutModel",
          "model_module_version": "1.2.0",
          "state": {
            "_model_module": "@jupyter-widgets/base",
            "_model_module_version": "1.2.0",
            "_model_name": "LayoutModel",
            "_view_count": null,
            "_view_module": "@jupyter-widgets/base",
            "_view_module_version": "1.2.0",
            "_view_name": "LayoutView",
            "align_content": null,
            "align_items": null,
            "align_self": null,
            "border": null,
            "bottom": null,
            "display": null,
            "flex": null,
            "flex_flow": null,
            "grid_area": null,
            "grid_auto_columns": null,
            "grid_auto_flow": null,
            "grid_auto_rows": null,
            "grid_column": null,
            "grid_gap": null,
            "grid_row": null,
            "grid_template_areas": null,
            "grid_template_columns": null,
            "grid_template_rows": null,
            "height": null,
            "justify_content": null,
            "justify_items": null,
            "left": null,
            "margin": null,
            "max_height": null,
            "max_width": null,
            "min_height": null,
            "min_width": null,
            "object_fit": null,
            "object_position": null,
            "order": null,
            "overflow": null,
            "overflow_x": null,
            "overflow_y": null,
            "padding": null,
            "right": null,
            "top": null,
            "visibility": null,
            "width": null
          }
        },
        "0bf08e4b527a4b829431eadde9291c3b": {
          "model_module": "jupyter-threejs",
          "model_name": "SceneModel",
          "model_module_version": "^2.4.1",
          "state": {
            "_model_module": "jupyter-threejs",
            "_model_module_version": "^2.4.1",
            "_model_name": "SceneModel",
            "_view_count": null,
            "_view_module": null,
            "_view_module_version": "",
            "_view_name": null,
            "autoUpdate": true,
            "background": "#ffffff",
            "castShadow": false,
            "children": [
              "IPY_MODEL_b319e91d9b774015b4b8ded4ca2a9fa9",
              "IPY_MODEL_885a68fac92f49cd8466ae36ef727652",
              "IPY_MODEL_a97278ddef3b41aab98f5bcdb1bf1f14"
            ],
            "fog": null,
            "frustumCulled": true,
            "matrix": [
              1,
              0,
              0,
              0,
              0,
              1,
              0,
              0,
              0,
              0,
              1,
              0,
              0,
              0,
              0,
              1
            ],
            "matrixAutoUpdate": true,
            "matrixWorld": [
              1,
              0,
              0,
              0,
              0,
              1,
              0,
              0,
              0,
              0,
              1,
              0,
              0,
              0,
              0,
              1
            ],
            "matrixWorldNeedsUpdate": false,
            "modelViewMatrix": [
              1,
              0,
              0,
              0,
              0,
              1,
              0,
              0,
              0,
              0,
              1,
              0,
              0,
              0,
              0,
              1
            ],
            "name": "",
            "normalMatrix": [
              1,
              0,
              0,
              0,
              1,
              0,
              0,
              0,
              1
            ],
            "overrideMaterial": null,
            "position": [
              0,
              0,
              0
            ],
            "quaternion": [
              0,
              0,
              0,
              1
            ],
            "receiveShadow": false,
            "renderOrder": 0,
            "rotation": [
              0,
              0,
              0,
              "XYZ"
            ],
            "scale": [
              1,
              1,
              1
            ],
            "type": "Scene",
            "up": [
              0,
              1,
              0
            ],
            "visible": true
          }
        },
        "40b6d48b20fb417a8651d8c5c47c8d4e": {
          "model_module": "jupyter-threejs",
          "model_name": "WebGLShadowMapModel",
          "model_module_version": "^2.4.1",
          "state": {
            "_model_module": "jupyter-threejs",
            "_model_module_version": "^2.4.1",
            "_model_name": "WebGLShadowMapModel",
            "_view_count": null,
            "_view_module": null,
            "_view_module_version": "",
            "_view_name": null,
            "enabled": false,
            "type": "PCFShadowMap"
          }
        },
        "178ff6bce1d041bdb15cafa9fe44cd5a": {
          "model_module": "jupyter-threejs",
          "model_name": "DirectionalLightModel",
          "model_module_version": "^2.4.1",
          "state": {
            "_model_module": "jupyter-threejs",
            "_model_module_version": "^2.4.1",
            "_model_name": "DirectionalLightModel",
            "_view_count": null,
            "_view_module": null,
            "_view_module_version": "",
            "_view_name": null,
            "castShadow": false,
            "children": [],
            "color": "white",
            "frustumCulled": true,
            "intensity": 0.6,
            "matrix": [
              1,
              0,
              0,
              0,
              0,
              1,
              0,
              0,
              0,
              0,
              1,
              0,
              0,
              0,
              0,
              1
            ],
            "matrixAutoUpdate": true,
            "matrixWorld": [
              1,
              0,
              0,
              0,
              0,
              1,
              0,
              0,
              0,
              0,
              1,
              0,
              0,
              0,
              0,
              1
            ],
            "matrixWorldNeedsUpdate": true,
            "modelViewMatrix": [
              1,
              0,
              0,
              0,
              0,
              1,
              0,
              0,
              0,
              0,
              1,
              0,
              0,
              0,
              0,
              1
            ],
            "name": "",
            "normalMatrix": [
              1,
              0,
              0,
              0,
              1,
              0,
              0,
              0,
              1
            ],
            "position": [
              19.5,
              19.5,
              120.82497224277932
            ],
            "quaternion": [
              0,
              0,
              0,
              1
            ],
            "receiveShadow": false,
            "renderOrder": 0,
            "rotation": [
              0,
              0,
              0,
              "XYZ"
            ],
            "scale": [
              1,
              1,
              1
            ],
            "shadow": "IPY_MODEL_c12f3ffe-969b-4534-bd8b-5eed4dcb24f7",
            "target": "IPY_MODEL_46666be2-1418-4ed8-b996-abee0b9c9631",
            "type": "DirectionalLight",
            "up": [
              0,
              1,
              0
            ],
            "visible": true
          }
        },
        "885a68fac92f49cd8466ae36ef727652": {
          "model_module": "jupyter-threejs",
          "model_name": "AmbientLightModel",
          "model_module_version": "^2.4.1",
          "state": {
            "_model_module": "jupyter-threejs",
            "_model_module_version": "^2.4.1",
            "_model_name": "AmbientLightModel",
            "_view_count": null,
            "_view_module": null,
            "_view_module_version": "",
            "_view_name": null,
            "castShadow": false,
            "children": [],
            "color": "#ffffff",
            "frustumCulled": true,
            "intensity": 0.5,
            "matrix": [
              1,
              0,
              0,
              0,
              0,
              1,
              0,
              0,
              0,
              0,
              1,
              0,
              0,
              0,
              0,
              1
            ],
            "matrixAutoUpdate": true,
            "matrixWorld": [
              1,
              0,
              0,
              0,
              0,
              1,
              0,
              0,
              0,
              0,
              1,
              0,
              0,
              0,
              0,
              1
            ],
            "matrixWorldNeedsUpdate": false,
            "modelViewMatrix": [
              1,
              0,
              0,
              0,
              0,
              1,
              0,
              0,
              0,
              0,
              1,
              0,
              0,
              0,
              0,
              1
            ],
            "name": "",
            "normalMatrix": [
              1,
              0,
              0,
              0,
              1,
              0,
              0,
              0,
              1
            ],
            "position": [
              0,
              0,
              0
            ],
            "quaternion": [
              0,
              0,
              0,
              1
            ],
            "receiveShadow": false,
            "renderOrder": 0,
            "rotation": [
              0,
              0,
              0,
              "XYZ"
            ],
            "scale": [
              1,
              1,
              1
            ],
            "type": "AmbientLight",
            "up": [
              0,
              1,
              0
            ],
            "visible": true
          }
        },
        "a97278ddef3b41aab98f5bcdb1bf1f14": {
          "model_module": "jupyter-threejs",
          "model_name": "MeshModel",
          "model_module_version": "^2.4.1",
          "state": {
            "_model_module": "jupyter-threejs",
            "_model_module_version": "^2.4.1",
            "_model_name": "MeshModel",
            "_view_count": null,
            "_view_module": null,
            "_view_module_version": "",
            "_view_name": null,
            "castShadow": false,
            "children": [],
            "drawMode": "TrianglesDrawMode",
            "frustumCulled": true,
            "geometry": "IPY_MODEL_113ed98279764ab0a640d9c4245add33",
            "material": "IPY_MODEL_20858e485b834e4e89e8ec0f20702504",
            "matrix": [
              1,
              0,
              0,
              0,
              0,
              1,
              0,
              0,
              0,
              0,
              1,
              0,
              0,
              0,
              0,
              1
            ],
            "matrixAutoUpdate": true,
            "matrixWorld": [
              1,
              0,
              0,
              0,
              0,
              1,
              0,
              0,
              0,
              0,
              1,
              0,
              0,
              0,
              0,
              1
            ],
            "matrixWorldNeedsUpdate": false,
            "modelViewMatrix": [
              1,
              0,
              0,
              0,
              0,
              1,
              0,
              0,
              0,
              0,
              1,
              0,
              0,
              0,
              0,
              1
            ],
            "morphTargetInfluences": [],
            "name": "",
            "normalMatrix": [
              1,
              0,
              0,
              0,
              1,
              0,
              0,
              0,
              1
            ],
            "position": [
              0,
              0,
              0
            ],
            "quaternion": [
              0,
              0,
              0,
              1
            ],
            "receiveShadow": false,
            "renderOrder": 0,
            "rotation": [
              0,
              0,
              0,
              "XYZ"
            ],
            "scale": [
              1,
              1,
              1
            ],
            "type": "Mesh",
            "up": [
              0,
              1,
              0
            ],
            "visible": true
          }
        },
        "113ed98279764ab0a640d9c4245add33": {
          "model_module": "jupyter-threejs",
          "model_name": "BufferGeometryModel",
          "model_module_version": "^2.4.1",
          "state": {
            "MaxIndex": 65535,
            "_model_module": "jupyter-threejs",
            "_model_module_version": "^2.4.1",
            "_model_name": "BufferGeometryModel",
            "_ref_geometry": null,
            "_store_ref": false,
            "_view_count": null,
            "_view_module": null,
            "_view_module_version": "",
            "_view_name": null,
            "attributes": {
              "color": "IPY_MODEL_c8e980a59ef9490ebd72472c9cfc3c27",
              "index": "IPY_MODEL_443da82cb21c4079821b503a0505cbe6",
              "position": "IPY_MODEL_90ea8f27d23a44e2a18a7d569b69918b"
            },
            "index": null,
            "morphAttributes": {},
            "name": "",
            "type": "BufferGeometry",
            "userData": {}
          }
        },
        "20858e485b834e4e89e8ec0f20702504": {
          "model_module": "jupyter-threejs",
          "model_name": "MeshStandardMaterialModel",
          "model_module_version": "^2.4.1",
          "state": {
            "_model_module": "jupyter-threejs",
            "_model_module_version": "^2.4.1",
            "_model_name": "MeshStandardMaterialModel",
            "_view_count": null,
            "_view_module": null,
            "_view_module_version": "",
            "_view_name": null,
            "alphaMap": null,
            "alphaTest": 0,
            "aoMap": null,
            "aoMapIntensity": 1,
            "blendDst": "OneMinusSrcAlphaFactor",
            "blendDstAlpha": 0,
            "blendEquation": "AddEquation",
            "blendEquationAlpha": 0,
            "blendSrc": "SrcAlphaFactor",
            "blendSrcAlpha": 0,
            "blending": "NormalBlending",
            "bumpMap": null,
            "bumpScale": 1,
            "clipIntersection": false,
            "clipShadows": false,
            "clippingPlanes": [],
            "color": "#ffffff",
            "colorWrite": true,
            "defines": {
              "STANDARD": ""
            },
            "depthFunc": "LessEqualDepth",
            "depthTest": true,
            "depthWrite": true,
            "displacementBias": 0,
            "displacementMap": null,
            "displacementScale": 1,
            "dithering": false,
            "emissive": "#000000",
            "emissiveIntensity": 1,
            "emissiveMap": null,
            "envMap": null,
            "envMapIntensity": 1,
            "flatShading": true,
            "fog": true,
            "lightMap": null,
            "lightMapIntensity": 1,
            "lights": true,
            "map": null,
            "metalness": 0.25,
            "metalnessMap": null,
            "morphNormals": false,
            "morphTargets": false,
            "name": "",
            "normalMap": null,
            "normalScale": [
              1,
              1
            ],
            "opacity": 1,
            "overdraw": 0,
            "polygonOffset": true,
            "polygonOffsetFactor": 1,
            "polygonOffsetUnits": 5,
            "precision": null,
            "premultipliedAlpha": false,
            "refractionRatio": 0.98,
            "roughness": 0.5,
            "roughnessMap": null,
            "shadowSide": null,
            "side": "DoubleSide",
            "skinning": false,
            "transparent": false,
            "type": "MeshStandardMaterial",
            "vertexColors": "VertexColors",
            "visible": true,
            "wireframe": false,
            "wireframeLinecap": "round",
            "wireframeLinejoin": "round",
            "wireframeLinewidth": 1
          }
        },
        "c8e980a59ef9490ebd72472c9cfc3c27": {
          "model_module": "jupyter-threejs",
          "model_name": "BufferAttributeModel",
          "model_module_version": "^2.4.1",
          "state": {
            "_model_module": "jupyter-threejs",
            "_model_module_version": "^2.4.1",
            "_model_name": "BufferAttributeModel",
            "_view_count": null,
            "_view_module": null,
            "_view_module_version": "",
            "_view_name": null,
            "array": {
              "shape": [
                36508,
                3
              ],
              "dtype": "float32"
            },
            "dynamic": false,
            "needsUpdate": false,
            "normalized": true,
            "version": 1
          }
        },
        "443da82cb21c4079821b503a0505cbe6": {
          "model_module": "jupyter-threejs",
          "model_name": "BufferAttributeModel",
          "model_module_version": "^2.4.1",
          "state": {
            "_model_module": "jupyter-threejs",
            "_model_module_version": "^2.4.1",
            "_model_name": "BufferAttributeModel",
            "_view_count": null,
            "_view_module": null,
            "_view_module_version": "",
            "_view_name": null,
            "array": {
              "shape": [
                215649
              ],
              "dtype": "uint32"
            },
            "dynamic": false,
            "needsUpdate": false,
            "normalized": false,
            "version": 1
          }
        },
        "90ea8f27d23a44e2a18a7d569b69918b": {
          "model_module": "jupyter-threejs",
          "model_name": "BufferAttributeModel",
          "model_module_version": "^2.4.1",
          "state": {
            "_model_module": "jupyter-threejs",
            "_model_module_version": "^2.4.1",
            "_model_name": "BufferAttributeModel",
            "_view_count": null,
            "_view_module": null,
            "_view_module_version": "",
            "_view_name": null,
            "array": {
              "shape": [
                36508,
                3
              ],
              "dtype": "float32"
            },
            "dynamic": false,
            "needsUpdate": false,
            "normalized": false,
            "version": 1
          }
        },
        "23cbc42daf54471a9c3767ec53522766": {
          "model_module": "@jupyter-widgets/controls",
          "model_name": "HBoxModel",
          "model_module_version": "1.5.0",
          "state": {
            "_dom_classes": [],
            "_model_module": "@jupyter-widgets/controls",
            "_model_module_version": "1.5.0",
            "_model_name": "HBoxModel",
            "_view_count": null,
            "_view_module": "@jupyter-widgets/controls",
            "_view_module_version": "1.5.0",
            "_view_name": "HBoxView",
            "box_style": "",
            "children": [
              "IPY_MODEL_04f6e07a18ad4880af4ab5e83f914c19",
              "IPY_MODEL_eb353734fe4041a1843f3128ca911af7",
              "IPY_MODEL_e4b197e7b6534b708e6e58f0d5b571ea"
            ],
            "layout": "IPY_MODEL_1ce5cdb0ed604c8a92c5ec846074fb65"
          }
        },
        "04f6e07a18ad4880af4ab5e83f914c19": {
          "model_module": "@jupyter-widgets/controls",
          "model_name": "HTMLModel",
          "model_module_version": "1.5.0",
          "state": {
            "_dom_classes": [],
            "_model_module": "@jupyter-widgets/controls",
            "_model_module_version": "1.5.0",
            "_model_name": "HTMLModel",
            "_view_count": null,
            "_view_module": "@jupyter-widgets/controls",
            "_view_module_version": "1.5.0",
            "_view_name": "HTMLView",
            "description": "",
            "description_tooltip": null,
            "layout": "IPY_MODEL_c2b18e91856542ce991e1ace1f2ab27b",
            "placeholder": "​",
            "style": "IPY_MODEL_d8bbdbe574dd455cab2b400f0365c2d5",
            "value": "Training: 100%"
          }
        },
        "eb353734fe4041a1843f3128ca911af7": {
          "model_module": "@jupyter-widgets/controls",
          "model_name": "FloatProgressModel",
          "model_module_version": "1.5.0",
          "state": {
            "_dom_classes": [],
            "_model_module": "@jupyter-widgets/controls",
            "_model_module_version": "1.5.0",
            "_model_name": "FloatProgressModel",
            "_view_count": null,
            "_view_module": "@jupyter-widgets/controls",
            "_view_module_version": "1.5.0",
            "_view_name": "ProgressView",
            "bar_style": "success",
            "description": "",
            "description_tooltip": null,
            "layout": "IPY_MODEL_3d748844cc824175a411782d3ce9c27f",
            "max": 5000,
            "min": 0,
            "orientation": "horizontal",
            "style": "IPY_MODEL_22dc6db7da444a7b8bbe2c3c0b5469da",
            "value": 5000
          }
        },
        "e4b197e7b6534b708e6e58f0d5b571ea": {
          "model_module": "@jupyter-widgets/controls",
          "model_name": "HTMLModel",
          "model_module_version": "1.5.0",
          "state": {
            "_dom_classes": [],
            "_model_module": "@jupyter-widgets/controls",
            "_model_module_version": "1.5.0",
            "_model_name": "HTMLModel",
            "_view_count": null,
            "_view_module": "@jupyter-widgets/controls",
            "_view_module_version": "1.5.0",
            "_view_name": "HTMLView",
            "description": "",
            "description_tooltip": null,
            "layout": "IPY_MODEL_29f63f912fa949bdb6b8f77776b89348",
            "placeholder": "​",
            "style": "IPY_MODEL_fb91fc5e8a484e0c9ba0b6c2f3190d99",
            "value": " 5000/5000 [36:40&lt;00:00,  2.76it/s, loss=0.62]"
          }
        },
        "1ce5cdb0ed604c8a92c5ec846074fb65": {
          "model_module": "@jupyter-widgets/base",
          "model_name": "LayoutModel",
          "model_module_version": "1.2.0",
          "state": {
            "_model_module": "@jupyter-widgets/base",
            "_model_module_version": "1.2.0",
            "_model_name": "LayoutModel",
            "_view_count": null,
            "_view_module": "@jupyter-widgets/base",
            "_view_module_version": "1.2.0",
            "_view_name": "LayoutView",
            "align_content": null,
            "align_items": null,
            "align_self": null,
            "border": null,
            "bottom": null,
            "display": null,
            "flex": null,
            "flex_flow": null,
            "grid_area": null,
            "grid_auto_columns": null,
            "grid_auto_flow": null,
            "grid_auto_rows": null,
            "grid_column": null,
            "grid_gap": null,
            "grid_row": null,
            "grid_template_areas": null,
            "grid_template_columns": null,
            "grid_template_rows": null,
            "height": null,
            "justify_content": null,
            "justify_items": null,
            "left": null,
            "margin": null,
            "max_height": null,
            "max_width": null,
            "min_height": null,
            "min_width": null,
            "object_fit": null,
            "object_position": null,
            "order": null,
            "overflow": null,
            "overflow_x": null,
            "overflow_y": null,
            "padding": null,
            "right": null,
            "top": null,
            "visibility": null,
            "width": null
          }
        },
        "c2b18e91856542ce991e1ace1f2ab27b": {
          "model_module": "@jupyter-widgets/base",
          "model_name": "LayoutModel",
          "model_module_version": "1.2.0",
          "state": {
            "_model_module": "@jupyter-widgets/base",
            "_model_module_version": "1.2.0",
            "_model_name": "LayoutModel",
            "_view_count": null,
            "_view_module": "@jupyter-widgets/base",
            "_view_module_version": "1.2.0",
            "_view_name": "LayoutView",
            "align_content": null,
            "align_items": null,
            "align_self": null,
            "border": null,
            "bottom": null,
            "display": null,
            "flex": null,
            "flex_flow": null,
            "grid_area": null,
            "grid_auto_columns": null,
            "grid_auto_flow": null,
            "grid_auto_rows": null,
            "grid_column": null,
            "grid_gap": null,
            "grid_row": null,
            "grid_template_areas": null,
            "grid_template_columns": null,
            "grid_template_rows": null,
            "height": null,
            "justify_content": null,
            "justify_items": null,
            "left": null,
            "margin": null,
            "max_height": null,
            "max_width": null,
            "min_height": null,
            "min_width": null,
            "object_fit": null,
            "object_position": null,
            "order": null,
            "overflow": null,
            "overflow_x": null,
            "overflow_y": null,
            "padding": null,
            "right": null,
            "top": null,
            "visibility": null,
            "width": null
          }
        },
        "d8bbdbe574dd455cab2b400f0365c2d5": {
          "model_module": "@jupyter-widgets/controls",
          "model_name": "DescriptionStyleModel",
          "model_module_version": "1.5.0",
          "state": {
            "_model_module": "@jupyter-widgets/controls",
            "_model_module_version": "1.5.0",
            "_model_name": "DescriptionStyleModel",
            "_view_count": null,
            "_view_module": "@jupyter-widgets/base",
            "_view_module_version": "1.2.0",
            "_view_name": "StyleView",
            "description_width": ""
          }
        },
        "3d748844cc824175a411782d3ce9c27f": {
          "model_module": "@jupyter-widgets/base",
          "model_name": "LayoutModel",
          "model_module_version": "1.2.0",
          "state": {
            "_model_module": "@jupyter-widgets/base",
            "_model_module_version": "1.2.0",
            "_model_name": "LayoutModel",
            "_view_count": null,
            "_view_module": "@jupyter-widgets/base",
            "_view_module_version": "1.2.0",
            "_view_name": "LayoutView",
            "align_content": null,
            "align_items": null,
            "align_self": null,
            "border": null,
            "bottom": null,
            "display": null,
            "flex": null,
            "flex_flow": null,
            "grid_area": null,
            "grid_auto_columns": null,
            "grid_auto_flow": null,
            "grid_auto_rows": null,
            "grid_column": null,
            "grid_gap": null,
            "grid_row": null,
            "grid_template_areas": null,
            "grid_template_columns": null,
            "grid_template_rows": null,
            "height": null,
            "justify_content": null,
            "justify_items": null,
            "left": null,
            "margin": null,
            "max_height": null,
            "max_width": null,
            "min_height": null,
            "min_width": null,
            "object_fit": null,
            "object_position": null,
            "order": null,
            "overflow": null,
            "overflow_x": null,
            "overflow_y": null,
            "padding": null,
            "right": null,
            "top": null,
            "visibility": null,
            "width": null
          }
        },
        "22dc6db7da444a7b8bbe2c3c0b5469da": {
          "model_module": "@jupyter-widgets/controls",
          "model_name": "ProgressStyleModel",
          "model_module_version": "1.5.0",
          "state": {
            "_model_module": "@jupyter-widgets/controls",
            "_model_module_version": "1.5.0",
            "_model_name": "ProgressStyleModel",
            "_view_count": null,
            "_view_module": "@jupyter-widgets/base",
            "_view_module_version": "1.2.0",
            "_view_name": "StyleView",
            "bar_color": null,
            "description_width": ""
          }
        },
        "29f63f912fa949bdb6b8f77776b89348": {
          "model_module": "@jupyter-widgets/base",
          "model_name": "LayoutModel",
          "model_module_version": "1.2.0",
          "state": {
            "_model_module": "@jupyter-widgets/base",
            "_model_module_version": "1.2.0",
            "_model_name": "LayoutModel",
            "_view_count": null,
            "_view_module": "@jupyter-widgets/base",
            "_view_module_version": "1.2.0",
            "_view_name": "LayoutView",
            "align_content": null,
            "align_items": null,
            "align_self": null,
            "border": null,
            "bottom": null,
            "display": null,
            "flex": null,
            "flex_flow": null,
            "grid_area": null,
            "grid_auto_columns": null,
            "grid_auto_flow": null,
            "grid_auto_rows": null,
            "grid_column": null,
            "grid_gap": null,
            "grid_row": null,
            "grid_template_areas": null,
            "grid_template_columns": null,
            "grid_template_rows": null,
            "height": null,
            "justify_content": null,
            "justify_items": null,
            "left": null,
            "margin": null,
            "max_height": null,
            "max_width": null,
            "min_height": null,
            "min_width": null,
            "object_fit": null,
            "object_position": null,
            "order": null,
            "overflow": null,
            "overflow_x": null,
            "overflow_y": null,
            "padding": null,
            "right": null,
            "top": null,
            "visibility": null,
            "width": null
          }
        },
        "fb91fc5e8a484e0c9ba0b6c2f3190d99": {
          "model_module": "@jupyter-widgets/controls",
          "model_name": "DescriptionStyleModel",
          "model_module_version": "1.5.0",
          "state": {
            "_model_module": "@jupyter-widgets/controls",
            "_model_module_version": "1.5.0",
            "_model_name": "DescriptionStyleModel",
            "_view_count": null,
            "_view_module": "@jupyter-widgets/base",
            "_view_module_version": "1.2.0",
            "_view_name": "StyleView",
            "description_width": ""
          }
        },
        "787d20af67984e29b0d9bbf61e834b8e": {
          "model_module": "jupyter-threejs",
          "model_name": "RendererModel",
          "model_module_version": "^2.4.1",
          "state": {
            "_alpha": false,
            "_antialias": true,
            "_dom_classes": [],
            "_height": 600,
            "_model_module": "jupyter-threejs",
            "_model_module_version": "^2.4.1",
            "_model_name": "RendererModel",
            "_pause_autorender": false,
            "_view_count": null,
            "_view_module": "jupyter-threejs",
            "_view_module_version": "^2.4.1",
            "_view_name": "RendererView",
            "_webgl_version": 2,
            "_width": 600,
            "autoClear": true,
            "autoClearColor": true,
            "autoClearDepth": true,
            "autoClearStencil": true,
            "background": "black",
            "background_opacity": 1,
            "camera": "IPY_MODEL_815b0fffb8fd4daeb4daece1418ff1ad",
            "clearColor": "#000000",
            "clearOpacity": 1,
            "clippingPlanes": [],
            "controls": [
              "IPY_MODEL_2ac353c6d90646eea4493e38bb8d267b"
            ],
            "gammaFactor": 2,
            "gammaInput": false,
            "gammaOutput": false,
            "layout": "IPY_MODEL_3b6790575c274fb9bebbfdf526df68f5",
            "localClippingEnabled": false,
            "maxMorphNormals": 4,
            "maxMorphTargets": 8,
            "physicallyCorrectLights": false,
            "scene": "IPY_MODEL_67536015fb2341738907d998f703dbf7",
            "shadowMap": "IPY_MODEL_6931ccc0956740e0a7f843b2b45d4710",
            "sortObject": true,
            "toneMapping": "LinearToneMapping",
            "toneMappingExposure": 1,
            "toneMappingWhitePoint": 1
          }
        },
        "815b0fffb8fd4daeb4daece1418ff1ad": {
          "model_module": "jupyter-threejs",
          "model_name": "PerspectiveCameraModel",
          "model_module_version": "^2.4.1",
          "state": {
            "_model_module": "jupyter-threejs",
            "_model_module_version": "^2.4.1",
            "_model_name": "PerspectiveCameraModel",
            "_view_count": null,
            "_view_module": null,
            "_view_module_version": "",
            "_view_name": null,
            "aspect": 1,
            "castShadow": false,
            "children": [
              "IPY_MODEL_f9e2c5474f3144b1874f89004f6559bd"
            ],
            "far": 2000,
            "focus": 101.32497224277932,
            "fov": 30,
            "frustumCulled": true,
            "matrix": [
              1,
              0,
              0,
              0,
              0,
              1,
              -7.012513500202171e-17,
              0,
              0,
              7.012513500202171e-17,
              1,
              0,
              19.5,
              19.500000000000007,
              120.82497224277932,
              1
            ],
            "matrixAutoUpdate": true,
            "matrixWorld": [
              1,
              0,
              0,
              0,
              0,
              1,
              -7.012513500202171e-17,
              0,
              0,
              7.012513500202171e-17,
              1,
              0,
              19.5,
              19.500000000000007,
              120.82497224277932,
              1
            ],
            "matrixWorldInverse": [
              1,
              0,
              0,
              0,
              0,
              1,
              7.012513500202171e-17,
              0,
              0,
              -7.012513500202171e-17,
              1,
              0,
              -19.5,
              -19.5,
              -120.82497224277932,
              1
            ],
            "matrixWorldNeedsUpdate": false,
            "modelViewMatrix": [
              1,
              0,
              0,
              0,
              0,
              1,
              0,
              0,
              0,
              0,
              1,
              0,
              0,
              0,
              0,
              1
            ],
            "name": "",
            "near": 0.1,
            "normalMatrix": [
              1,
              0,
              0,
              0,
              1,
              0,
              0,
              0,
              1
            ],
            "position": [
              87.06185723538508,
              27.978655152982412,
              94.53504417072232
            ],
            "projectionMatrix": [
              3.7320508075688776,
              0,
              0,
              0,
              0,
              3.7320508075688776,
              0,
              0,
              0,
              0,
              -1.00010000500025,
              -1,
              0,
              0,
              -0.200010000500025,
              0
            ],
            "quaternion": [
              -0.039094290668354924,
              0.3580535999664241,
              0.015006892162802068,
              0.932761517846784
            ],
            "receiveShadow": false,
            "renderOrder": 0,
            "rotation": [
              -7.012513500202171e-17,
              0,
              0,
              "XYZ"
            ],
            "scale": [
              1,
              1,
              1
            ],
            "type": "PerspectiveCamera",
            "up": [
              0,
              1,
              0
            ],
            "visible": true,
            "zoom": 1
          }
        },
        "2ac353c6d90646eea4493e38bb8d267b": {
          "model_module": "jupyter-threejs",
          "model_name": "OrbitControlsModel",
          "model_module_version": "^2.4.1",
          "state": {
            "_model_module": "jupyter-threejs",
            "_model_module_version": "^2.4.1",
            "_model_name": "OrbitControlsModel",
            "_view_count": null,
            "_view_module": null,
            "_view_module_version": "",
            "_view_name": null,
            "autoRotate": false,
            "autoRotateSpeed": 2,
            "controlling": "IPY_MODEL_815b0fffb8fd4daeb4daece1418ff1ad",
            "dampingFactor": 0.25,
            "enableDamping": false,
            "enableKeys": true,
            "enablePan": true,
            "enableRotate": true,
            "enableZoom": true,
            "enabled": true,
            "keyPanSpeed": 7,
            "maxAzimuthAngle": "inf",
            "maxDistance": "inf",
            "maxPolarAngle": 3.141592653589793,
            "maxZoom": "inf",
            "minAzimuthAngle": "-inf",
            "minDistance": 0,
            "minPolarAngle": 0,
            "minZoom": 0,
            "panSpeed": 1,
            "rotateSpeed": 1,
            "screenSpacePanning": true,
            "target": [
              19.5,
              19.5,
              19.5
            ],
            "zoomSpeed": 1
          }
        },
        "3b6790575c274fb9bebbfdf526df68f5": {
          "model_module": "@jupyter-widgets/base",
          "model_name": "LayoutModel",
          "model_module_version": "1.2.0",
          "state": {
            "_model_module": "@jupyter-widgets/base",
            "_model_module_version": "1.2.0",
            "_model_name": "LayoutModel",
            "_view_count": null,
            "_view_module": "@jupyter-widgets/base",
            "_view_module_version": "1.2.0",
            "_view_name": "LayoutView",
            "align_content": null,
            "align_items": null,
            "align_self": null,
            "border": null,
            "bottom": null,
            "display": null,
            "flex": null,
            "flex_flow": null,
            "grid_area": null,
            "grid_auto_columns": null,
            "grid_auto_flow": null,
            "grid_auto_rows": null,
            "grid_column": null,
            "grid_gap": null,
            "grid_row": null,
            "grid_template_areas": null,
            "grid_template_columns": null,
            "grid_template_rows": null,
            "height": null,
            "justify_content": null,
            "justify_items": null,
            "left": null,
            "margin": null,
            "max_height": null,
            "max_width": null,
            "min_height": null,
            "min_width": null,
            "object_fit": null,
            "object_position": null,
            "order": null,
            "overflow": null,
            "overflow_x": null,
            "overflow_y": null,
            "padding": null,
            "right": null,
            "top": null,
            "visibility": null,
            "width": null
          }
        },
        "67536015fb2341738907d998f703dbf7": {
          "model_module": "jupyter-threejs",
          "model_name": "SceneModel",
          "model_module_version": "^2.4.1",
          "state": {
            "_model_module": "jupyter-threejs",
            "_model_module_version": "^2.4.1",
            "_model_name": "SceneModel",
            "_view_count": null,
            "_view_module": null,
            "_view_module_version": "",
            "_view_name": null,
            "autoUpdate": true,
            "background": "#ffffff",
            "castShadow": false,
            "children": [
              "IPY_MODEL_815b0fffb8fd4daeb4daece1418ff1ad",
              "IPY_MODEL_c9546c65d5514adb878b1b86883a10d9",
              "IPY_MODEL_a01cd4fea93c4670b6df3292d08f5bda"
            ],
            "fog": null,
            "frustumCulled": true,
            "matrix": [
              1,
              0,
              0,
              0,
              0,
              1,
              0,
              0,
              0,
              0,
              1,
              0,
              0,
              0,
              0,
              1
            ],
            "matrixAutoUpdate": true,
            "matrixWorld": [
              1,
              0,
              0,
              0,
              0,
              1,
              0,
              0,
              0,
              0,
              1,
              0,
              0,
              0,
              0,
              1
            ],
            "matrixWorldNeedsUpdate": false,
            "modelViewMatrix": [
              1,
              0,
              0,
              0,
              0,
              1,
              0,
              0,
              0,
              0,
              1,
              0,
              0,
              0,
              0,
              1
            ],
            "name": "",
            "normalMatrix": [
              1,
              0,
              0,
              0,
              1,
              0,
              0,
              0,
              1
            ],
            "overrideMaterial": null,
            "position": [
              0,
              0,
              0
            ],
            "quaternion": [
              0,
              0,
              0,
              1
            ],
            "receiveShadow": false,
            "renderOrder": 0,
            "rotation": [
              0,
              0,
              0,
              "XYZ"
            ],
            "scale": [
              1,
              1,
              1
            ],
            "type": "Scene",
            "up": [
              0,
              1,
              0
            ],
            "visible": true
          }
        },
        "6931ccc0956740e0a7f843b2b45d4710": {
          "model_module": "jupyter-threejs",
          "model_name": "WebGLShadowMapModel",
          "model_module_version": "^2.4.1",
          "state": {
            "_model_module": "jupyter-threejs",
            "_model_module_version": "^2.4.1",
            "_model_name": "WebGLShadowMapModel",
            "_view_count": null,
            "_view_module": null,
            "_view_module_version": "",
            "_view_name": null,
            "enabled": false,
            "type": "PCFShadowMap"
          }
        },
        "f9e2c5474f3144b1874f89004f6559bd": {
          "model_module": "jupyter-threejs",
          "model_name": "DirectionalLightModel",
          "model_module_version": "^2.4.1",
          "state": {
            "_model_module": "jupyter-threejs",
            "_model_module_version": "^2.4.1",
            "_model_name": "DirectionalLightModel",
            "_view_count": null,
            "_view_module": null,
            "_view_module_version": "",
            "_view_name": null,
            "castShadow": false,
            "children": [],
            "color": "white",
            "frustumCulled": true,
            "intensity": 0.6,
            "matrix": [
              1,
              0,
              0,
              0,
              0,
              1,
              0,
              0,
              0,
              0,
              1,
              0,
              0,
              0,
              0,
              1
            ],
            "matrixAutoUpdate": true,
            "matrixWorld": [
              1,
              0,
              0,
              0,
              0,
              1,
              0,
              0,
              0,
              0,
              1,
              0,
              0,
              0,
              0,
              1
            ],
            "matrixWorldNeedsUpdate": true,
            "modelViewMatrix": [
              1,
              0,
              0,
              0,
              0,
              1,
              0,
              0,
              0,
              0,
              1,
              0,
              0,
              0,
              0,
              1
            ],
            "name": "",
            "normalMatrix": [
              1,
              0,
              0,
              0,
              1,
              0,
              0,
              0,
              1
            ],
            "position": [
              19.5,
              19.5,
              120.82497224277932
            ],
            "quaternion": [
              0,
              0,
              0,
              1
            ],
            "receiveShadow": false,
            "renderOrder": 0,
            "rotation": [
              0,
              0,
              0,
              "XYZ"
            ],
            "scale": [
              1,
              1,
              1
            ],
            "shadow": "IPY_MODEL_9a89a6f0-ee81-4a32-8959-896eea61bfbf",
            "target": "IPY_MODEL_8447c5cf-7ce9-4a2e-bac3-eeade528cbdd",
            "type": "DirectionalLight",
            "up": [
              0,
              1,
              0
            ],
            "visible": true
          }
        },
        "c9546c65d5514adb878b1b86883a10d9": {
          "model_module": "jupyter-threejs",
          "model_name": "AmbientLightModel",
          "model_module_version": "^2.4.1",
          "state": {
            "_model_module": "jupyter-threejs",
            "_model_module_version": "^2.4.1",
            "_model_name": "AmbientLightModel",
            "_view_count": null,
            "_view_module": null,
            "_view_module_version": "",
            "_view_name": null,
            "castShadow": false,
            "children": [],
            "color": "#ffffff",
            "frustumCulled": true,
            "intensity": 0.5,
            "matrix": [
              1,
              0,
              0,
              0,
              0,
              1,
              0,
              0,
              0,
              0,
              1,
              0,
              0,
              0,
              0,
              1
            ],
            "matrixAutoUpdate": true,
            "matrixWorld": [
              1,
              0,
              0,
              0,
              0,
              1,
              0,
              0,
              0,
              0,
              1,
              0,
              0,
              0,
              0,
              1
            ],
            "matrixWorldNeedsUpdate": false,
            "modelViewMatrix": [
              1,
              0,
              0,
              0,
              0,
              1,
              0,
              0,
              0,
              0,
              1,
              0,
              0,
              0,
              0,
              1
            ],
            "name": "",
            "normalMatrix": [
              1,
              0,
              0,
              0,
              1,
              0,
              0,
              0,
              1
            ],
            "position": [
              0,
              0,
              0
            ],
            "quaternion": [
              0,
              0,
              0,
              1
            ],
            "receiveShadow": false,
            "renderOrder": 0,
            "rotation": [
              0,
              0,
              0,
              "XYZ"
            ],
            "scale": [
              1,
              1,
              1
            ],
            "type": "AmbientLight",
            "up": [
              0,
              1,
              0
            ],
            "visible": true
          }
        },
        "a01cd4fea93c4670b6df3292d08f5bda": {
          "model_module": "jupyter-threejs",
          "model_name": "MeshModel",
          "model_module_version": "^2.4.1",
          "state": {
            "_model_module": "jupyter-threejs",
            "_model_module_version": "^2.4.1",
            "_model_name": "MeshModel",
            "_view_count": null,
            "_view_module": null,
            "_view_module_version": "",
            "_view_name": null,
            "castShadow": false,
            "children": [],
            "drawMode": "TrianglesDrawMode",
            "frustumCulled": true,
            "geometry": "IPY_MODEL_c1979137512249459d3d9f32394f7429",
            "material": "IPY_MODEL_28a16b761b07485881e522ee1500da81",
            "matrix": [
              1,
              0,
              0,
              0,
              0,
              1,
              0,
              0,
              0,
              0,
              1,
              0,
              0,
              0,
              0,
              1
            ],
            "matrixAutoUpdate": true,
            "matrixWorld": [
              1,
              0,
              0,
              0,
              0,
              1,
              0,
              0,
              0,
              0,
              1,
              0,
              0,
              0,
              0,
              1
            ],
            "matrixWorldNeedsUpdate": false,
            "modelViewMatrix": [
              1,
              0,
              0,
              0,
              0,
              1,
              0,
              0,
              0,
              0,
              1,
              0,
              0,
              0,
              0,
              1
            ],
            "morphTargetInfluences": [],
            "name": "",
            "normalMatrix": [
              1,
              0,
              0,
              0,
              1,
              0,
              0,
              0,
              1
            ],
            "position": [
              0,
              0,
              0
            ],
            "quaternion": [
              0,
              0,
              0,
              1
            ],
            "receiveShadow": false,
            "renderOrder": 0,
            "rotation": [
              0,
              0,
              0,
              "XYZ"
            ],
            "scale": [
              1,
              1,
              1
            ],
            "type": "Mesh",
            "up": [
              0,
              1,
              0
            ],
            "visible": true
          }
        },
        "c1979137512249459d3d9f32394f7429": {
          "model_module": "jupyter-threejs",
          "model_name": "BufferGeometryModel",
          "model_module_version": "^2.4.1",
          "state": {
            "MaxIndex": 65535,
            "_model_module": "jupyter-threejs",
            "_model_module_version": "^2.4.1",
            "_model_name": "BufferGeometryModel",
            "_ref_geometry": null,
            "_store_ref": false,
            "_view_count": null,
            "_view_module": null,
            "_view_module_version": "",
            "_view_name": null,
            "attributes": {
              "color": "IPY_MODEL_d45e769a067f49de90c9f1d77ba2c19a",
              "index": "IPY_MODEL_a9646770eb66492f8925e258e7617328",
              "position": "IPY_MODEL_de13460347c247968682bcf5f2599506"
            },
            "index": null,
            "morphAttributes": {},
            "name": "",
            "type": "BufferGeometry",
            "userData": {}
          }
        },
        "28a16b761b07485881e522ee1500da81": {
          "model_module": "jupyter-threejs",
          "model_name": "MeshStandardMaterialModel",
          "model_module_version": "^2.4.1",
          "state": {
            "_model_module": "jupyter-threejs",
            "_model_module_version": "^2.4.1",
            "_model_name": "MeshStandardMaterialModel",
            "_view_count": null,
            "_view_module": null,
            "_view_module_version": "",
            "_view_name": null,
            "alphaMap": null,
            "alphaTest": 0,
            "aoMap": null,
            "aoMapIntensity": 1,
            "blendDst": "OneMinusSrcAlphaFactor",
            "blendDstAlpha": 0,
            "blendEquation": "AddEquation",
            "blendEquationAlpha": 0,
            "blendSrc": "SrcAlphaFactor",
            "blendSrcAlpha": 0,
            "blending": "NormalBlending",
            "bumpMap": null,
            "bumpScale": 1,
            "clipIntersection": false,
            "clipShadows": false,
            "clippingPlanes": [],
            "color": "#ffffff",
            "colorWrite": true,
            "defines": {
              "STANDARD": ""
            },
            "depthFunc": "LessEqualDepth",
            "depthTest": true,
            "depthWrite": true,
            "displacementBias": 0,
            "displacementMap": null,
            "displacementScale": 1,
            "dithering": false,
            "emissive": "#000000",
            "emissiveIntensity": 1,
            "emissiveMap": null,
            "envMap": null,
            "envMapIntensity": 1,
            "flatShading": true,
            "fog": true,
            "lightMap": null,
            "lightMapIntensity": 1,
            "lights": true,
            "map": null,
            "metalness": 0.25,
            "metalnessMap": null,
            "morphNormals": false,
            "morphTargets": false,
            "name": "",
            "normalMap": null,
            "normalScale": [
              1,
              1
            ],
            "opacity": 1,
            "overdraw": 0,
            "polygonOffset": true,
            "polygonOffsetFactor": 1,
            "polygonOffsetUnits": 5,
            "precision": null,
            "premultipliedAlpha": false,
            "refractionRatio": 0.98,
            "roughness": 0.5,
            "roughnessMap": null,
            "shadowSide": null,
            "side": "DoubleSide",
            "skinning": false,
            "transparent": false,
            "type": "MeshStandardMaterial",
            "vertexColors": "VertexColors",
            "visible": true,
            "wireframe": false,
            "wireframeLinecap": "round",
            "wireframeLinejoin": "round",
            "wireframeLinewidth": 1
          }
        },
        "d45e769a067f49de90c9f1d77ba2c19a": {
          "model_module": "jupyter-threejs",
          "model_name": "BufferAttributeModel",
          "model_module_version": "^2.4.1",
          "state": {
            "_model_module": "jupyter-threejs",
            "_model_module_version": "^2.4.1",
            "_model_name": "BufferAttributeModel",
            "_view_count": null,
            "_view_module": null,
            "_view_module_version": "",
            "_view_name": null,
            "array": {
              "shape": [
                11835,
                3
              ],
              "dtype": "float32"
            },
            "dynamic": false,
            "needsUpdate": false,
            "normalized": true,
            "version": 1
          }
        },
        "a9646770eb66492f8925e258e7617328": {
          "model_module": "jupyter-threejs",
          "model_name": "BufferAttributeModel",
          "model_module_version": "^2.4.1",
          "state": {
            "_model_module": "jupyter-threejs",
            "_model_module_version": "^2.4.1",
            "_model_name": "BufferAttributeModel",
            "_view_count": null,
            "_view_module": null,
            "_view_module_version": "",
            "_view_name": null,
            "array": {
              "shape": [
                68874
              ],
              "dtype": "uint32"
            },
            "dynamic": false,
            "needsUpdate": false,
            "normalized": false,
            "version": 1
          }
        },
        "de13460347c247968682bcf5f2599506": {
          "model_module": "jupyter-threejs",
          "model_name": "BufferAttributeModel",
          "model_module_version": "^2.4.1",
          "state": {
            "_model_module": "jupyter-threejs",
            "_model_module_version": "^2.4.1",
            "_model_name": "BufferAttributeModel",
            "_view_count": null,
            "_view_module": null,
            "_view_module_version": "",
            "_view_name": null,
            "array": {
              "shape": [
                11835,
                3
              ],
              "dtype": "float32"
            },
            "dynamic": false,
            "needsUpdate": false,
            "normalized": false,
            "version": 1
          }
        }
      }
    }
  },
  "nbformat": 4,
  "nbformat_minor": 5
}